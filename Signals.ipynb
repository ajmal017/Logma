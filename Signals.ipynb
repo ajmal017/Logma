{
 "cells": [
  {
   "cell_type": "code",
   "execution_count": 2,
   "metadata": {},
   "outputs": [],
   "source": [
    "import numpy as np\n",
    "import pandas as pd\n",
    "import sys, os\n",
    "import seaborn as sns\n",
    "import viz.display as dp\n",
    "from IPython.display import clear_output\n",
    "from sklearn.preprocessing import StandardScaler"
   ]
  },
  {
   "cell_type": "raw",
   "metadata": {},
   "source": [
    "### Features\n",
    "\n",
    "Volume Based\n",
    "Time weighted average price - per candle\n",
    "Volume weighted average price - per candle\n",
    "Ticks in a candle DONE\n",
    "Relative Volume DONE\n",
    "\n",
    "Return Based\n",
    "ARIMA - MA **\n",
    "Stationarity & Autocorrelation of Dist\n",
    "Skewness DONE\n",
    "Kurtosis DONE\n",
    "\n",
    "Volatility\n",
    "Standard deviation / root(period) DONE\n",
    "Entropy of distribution "
   ]
  },
  {
   "cell_type": "markdown",
   "metadata": {},
   "source": [
    "### Load Data"
   ]
  },
  {
   "cell_type": "code",
   "execution_count": 3,
   "metadata": {},
   "outputs": [],
   "source": [
    "raw = pd.read_csv('D:/TickData_Agg/EURUSD.csv')"
   ]
  },
  {
   "cell_type": "code",
   "execution_count": 4,
   "metadata": {},
   "outputs": [
    {
     "data": {
      "text/html": [
       "<div>\n",
       "<style scoped>\n",
       "    .dataframe tbody tr th:only-of-type {\n",
       "        vertical-align: middle;\n",
       "    }\n",
       "\n",
       "    .dataframe tbody tr th {\n",
       "        vertical-align: top;\n",
       "    }\n",
       "\n",
       "    .dataframe thead th {\n",
       "        text-align: right;\n",
       "    }\n",
       "</style>\n",
       "<table border=\"1\" class=\"dataframe\">\n",
       "  <thead>\n",
       "    <tr style=\"text-align: right;\">\n",
       "      <th></th>\n",
       "      <th>Datetime</th>\n",
       "      <th>Open</th>\n",
       "      <th>High</th>\n",
       "      <th>Low</th>\n",
       "      <th>Close</th>\n",
       "      <th>Volume</th>\n",
       "    </tr>\n",
       "  </thead>\n",
       "  <tbody>\n",
       "    <tr>\n",
       "      <th>0</th>\n",
       "      <td>2009-05-01 00:00:00</td>\n",
       "      <td>1.324435</td>\n",
       "      <td>1.324645</td>\n",
       "      <td>1.324430</td>\n",
       "      <td>1.324645</td>\n",
       "      <td>554.982980</td>\n",
       "    </tr>\n",
       "    <tr>\n",
       "      <th>1</th>\n",
       "      <td>2009-05-01 00:03:00</td>\n",
       "      <td>1.324685</td>\n",
       "      <td>1.325350</td>\n",
       "      <td>1.324685</td>\n",
       "      <td>1.324925</td>\n",
       "      <td>400.169775</td>\n",
       "    </tr>\n",
       "    <tr>\n",
       "      <th>2</th>\n",
       "      <td>2009-05-01 00:06:00</td>\n",
       "      <td>1.324915</td>\n",
       "      <td>1.325370</td>\n",
       "      <td>1.324895</td>\n",
       "      <td>1.325305</td>\n",
       "      <td>239.854325</td>\n",
       "    </tr>\n",
       "    <tr>\n",
       "      <th>3</th>\n",
       "      <td>2009-05-01 00:09:00</td>\n",
       "      <td>1.325335</td>\n",
       "      <td>1.326040</td>\n",
       "      <td>1.324825</td>\n",
       "      <td>1.325410</td>\n",
       "      <td>702.527180</td>\n",
       "    </tr>\n",
       "    <tr>\n",
       "      <th>4</th>\n",
       "      <td>2009-05-01 00:12:00</td>\n",
       "      <td>1.325345</td>\n",
       "      <td>1.325725</td>\n",
       "      <td>1.324680</td>\n",
       "      <td>1.324715</td>\n",
       "      <td>288.898580</td>\n",
       "    </tr>\n",
       "  </tbody>\n",
       "</table>\n",
       "</div>"
      ],
      "text/plain": [
       "              Datetime      Open      High       Low     Close      Volume\n",
       "0  2009-05-01 00:00:00  1.324435  1.324645  1.324430  1.324645  554.982980\n",
       "1  2009-05-01 00:03:00  1.324685  1.325350  1.324685  1.324925  400.169775\n",
       "2  2009-05-01 00:06:00  1.324915  1.325370  1.324895  1.325305  239.854325\n",
       "3  2009-05-01 00:09:00  1.325335  1.326040  1.324825  1.325410  702.527180\n",
       "4  2009-05-01 00:12:00  1.325345  1.325725  1.324680  1.324715  288.898580"
      ]
     },
     "execution_count": 4,
     "metadata": {},
     "output_type": "execute_result"
    }
   ],
   "source": [
    "raw.head()"
   ]
  },
  {
   "cell_type": "markdown",
   "metadata": {},
   "source": [
    "### Get Open-Close Change"
   ]
  },
  {
   "cell_type": "code",
   "execution_count": 5,
   "metadata": {},
   "outputs": [],
   "source": [
    "raw['Change'] = (raw.Close - raw.Open) / raw.Open\n",
    "df = raw\n",
    "window=20"
   ]
  },
  {
   "cell_type": "markdown",
   "metadata": {},
   "source": [
    "### Get Rolling Mean and STD of Closing Prices"
   ]
  },
  {
   "cell_type": "code",
   "execution_count": 6,
   "metadata": {},
   "outputs": [],
   "source": [
    "df['STD'] = df.Change.rolling(window=window, min_periods=1).std()\n",
    "df['Vol'] = df.STD/np.sqrt(window)\n",
    "df['Mean'] = df.Change.rolling(window=window, min_periods=1).mean()\n",
    "df['Median'] = df.Change.rolling(window=window, min_periods=1).median()\n",
    "df['Skew'] = df.Change.rolling(window=window, min_periods=1).skew()\n",
    "## Not excess kurtosis\n",
    "df['Kurtosis'] = df.Change.rolling(window=window, min_periods=1).kurt()\n",
    "df['Gaussness'] = abs(df.Mean-df.Median)"
   ]
  },
  {
   "cell_type": "code",
   "execution_count": 7,
   "metadata": {},
   "outputs": [],
   "source": [
    "df['Gaussness'] = StandardScaler().fit_transform(df.Gaussness.values.reshape(-1, 1))"
   ]
  },
  {
   "cell_type": "code",
   "execution_count": 8,
   "metadata": {},
   "outputs": [
    {
     "data": {
      "text/plain": [
       "count    1.626964e+06\n",
       "mean    -6.680909e-16\n",
       "std      1.000000e+00\n",
       "min     -5.808108e-01\n",
       "25%     -5.808108e-01\n",
       "50%     -3.088572e-01\n",
       "75%      2.075550e-01\n",
       "max      9.746723e+01\n",
       "Name: Gaussness, dtype: float64"
      ]
     },
     "execution_count": 8,
     "metadata": {},
     "output_type": "execute_result"
    }
   ],
   "source": [
    "df.Gaussness.describe()"
   ]
  },
  {
   "cell_type": "markdown",
   "metadata": {},
   "source": [
    "### Extract all signal candles"
   ]
  },
  {
   "cell_type": "code",
   "execution_count": 9,
   "metadata": {},
   "outputs": [],
   "source": [
    "cutoff = 3\n",
    "longs = df[df.Change > cutoff*df.STD + df.Mean]\n",
    "longs = longs[longs.STD != 0]\n",
    "shorts = df[df.Change < df.Mean - cutoff*df.STD]\n",
    "shorts = shorts[shorts.STD != 0]"
   ]
  },
  {
   "cell_type": "code",
   "execution_count": 10,
   "metadata": {},
   "outputs": [
    {
     "data": {
      "text/plain": [
       "('Num Longs', 4035)"
      ]
     },
     "execution_count": 10,
     "metadata": {},
     "output_type": "execute_result"
    }
   ],
   "source": [
    "'Num Longs', longs.shape[0]"
   ]
  },
  {
   "cell_type": "code",
   "execution_count": 11,
   "metadata": {},
   "outputs": [
    {
     "data": {
      "text/plain": [
       "('Num Shorts', 3832)"
      ]
     },
     "execution_count": 11,
     "metadata": {},
     "output_type": "execute_result"
    }
   ],
   "source": [
    "'Num Shorts', shorts.shape[0]"
   ]
  },
  {
   "cell_type": "code",
   "execution_count": 12,
   "metadata": {},
   "outputs": [
    {
     "data": {
      "text/html": [
       "<div>\n",
       "<style scoped>\n",
       "    .dataframe tbody tr th:only-of-type {\n",
       "        vertical-align: middle;\n",
       "    }\n",
       "\n",
       "    .dataframe tbody tr th {\n",
       "        vertical-align: top;\n",
       "    }\n",
       "\n",
       "    .dataframe thead th {\n",
       "        text-align: right;\n",
       "    }\n",
       "</style>\n",
       "<table border=\"1\" class=\"dataframe\">\n",
       "  <thead>\n",
       "    <tr style=\"text-align: right;\">\n",
       "      <th></th>\n",
       "      <th>Open</th>\n",
       "      <th>High</th>\n",
       "      <th>Low</th>\n",
       "      <th>Close</th>\n",
       "      <th>Volume</th>\n",
       "      <th>Change</th>\n",
       "      <th>STD</th>\n",
       "      <th>Vol</th>\n",
       "      <th>Mean</th>\n",
       "      <th>Median</th>\n",
       "      <th>Skew</th>\n",
       "      <th>Kurtosis</th>\n",
       "      <th>Gaussness</th>\n",
       "    </tr>\n",
       "  </thead>\n",
       "  <tbody>\n",
       "    <tr>\n",
       "      <th>count</th>\n",
       "      <td>4035.000000</td>\n",
       "      <td>4035.000000</td>\n",
       "      <td>4035.000000</td>\n",
       "      <td>4035.000000</td>\n",
       "      <td>4035.000000</td>\n",
       "      <td>4035.000000</td>\n",
       "      <td>4.035000e+03</td>\n",
       "      <td>4.035000e+03</td>\n",
       "      <td>4035.000000</td>\n",
       "      <td>4035.000000</td>\n",
       "      <td>4035.000000</td>\n",
       "      <td>4035.000000</td>\n",
       "      <td>4035.000000</td>\n",
       "    </tr>\n",
       "    <tr>\n",
       "      <th>mean</th>\n",
       "      <td>1.260410</td>\n",
       "      <td>1.261788</td>\n",
       "      <td>1.260330</td>\n",
       "      <td>1.261570</td>\n",
       "      <td>1494.510467</td>\n",
       "      <td>0.000925</td>\n",
       "      <td>2.571362e-04</td>\n",
       "      <td>5.749740e-05</td>\n",
       "      <td>0.000035</td>\n",
       "      <td>-0.000006</td>\n",
       "      <td>2.305774</td>\n",
       "      <td>8.095552</td>\n",
       "      <td>0.580238</td>\n",
       "    </tr>\n",
       "    <tr>\n",
       "      <th>std</th>\n",
       "      <td>0.117799</td>\n",
       "      <td>0.117864</td>\n",
       "      <td>0.117807</td>\n",
       "      <td>0.117861</td>\n",
       "      <td>1901.084788</td>\n",
       "      <td>0.000923</td>\n",
       "      <td>2.325885e-04</td>\n",
       "      <td>5.200837e-05</td>\n",
       "      <td>0.000129</td>\n",
       "      <td>0.000120</td>\n",
       "      <td>0.953414</td>\n",
       "      <td>4.805006</td>\n",
       "      <td>1.431508</td>\n",
       "    </tr>\n",
       "    <tr>\n",
       "      <th>min</th>\n",
       "      <td>1.039140</td>\n",
       "      <td>1.040065</td>\n",
       "      <td>1.039040</td>\n",
       "      <td>1.039995</td>\n",
       "      <td>0.000000</td>\n",
       "      <td>-0.000479</td>\n",
       "      <td>7.930444e-07</td>\n",
       "      <td>1.773301e-07</td>\n",
       "      <td>-0.003085</td>\n",
       "      <td>-0.003275</td>\n",
       "      <td>0.000092</td>\n",
       "      <td>-7.883751</td>\n",
       "      <td>-0.580810</td>\n",
       "    </tr>\n",
       "    <tr>\n",
       "      <th>25%</th>\n",
       "      <td>1.141090</td>\n",
       "      <td>1.143007</td>\n",
       "      <td>1.141000</td>\n",
       "      <td>1.142832</td>\n",
       "      <td>340.083128</td>\n",
       "      <td>0.000367</td>\n",
       "      <td>1.099692e-04</td>\n",
       "      <td>2.458985e-05</td>\n",
       "      <td>0.000006</td>\n",
       "      <td>-0.000016</td>\n",
       "      <td>1.596604</td>\n",
       "      <td>4.542969</td>\n",
       "      <td>-0.265567</td>\n",
       "    </tr>\n",
       "    <tr>\n",
       "      <th>50%</th>\n",
       "      <td>1.288485</td>\n",
       "      <td>1.290115</td>\n",
       "      <td>1.288350</td>\n",
       "      <td>1.290035</td>\n",
       "      <td>870.480130</td>\n",
       "      <td>0.000691</td>\n",
       "      <td>1.974435e-04</td>\n",
       "      <td>4.414971e-05</td>\n",
       "      <td>0.000036</td>\n",
       "      <td>0.000004</td>\n",
       "      <td>2.007480</td>\n",
       "      <td>6.298396</td>\n",
       "      <td>0.148548</td>\n",
       "    </tr>\n",
       "    <tr>\n",
       "      <th>75%</th>\n",
       "      <td>1.356428</td>\n",
       "      <td>1.357752</td>\n",
       "      <td>1.356380</td>\n",
       "      <td>1.357442</td>\n",
       "      <td>1873.278502</td>\n",
       "      <td>0.001219</td>\n",
       "      <td>3.401445e-04</td>\n",
       "      <td>7.605863e-05</td>\n",
       "      <td>0.000080</td>\n",
       "      <td>0.000031</td>\n",
       "      <td>2.836288</td>\n",
       "      <td>10.020699</td>\n",
       "      <td>0.917881</td>\n",
       "    </tr>\n",
       "    <tr>\n",
       "      <th>max</th>\n",
       "      <td>1.510910</td>\n",
       "      <td>1.514290</td>\n",
       "      <td>1.510910</td>\n",
       "      <td>1.513560</td>\n",
       "      <td>20403.297030</td>\n",
       "      <td>0.016507</td>\n",
       "      <td>3.748538e-03</td>\n",
       "      <td>8.381986e-04</td>\n",
       "      <td>0.001175</td>\n",
       "      <td>0.001121</td>\n",
       "      <td>4.473463</td>\n",
       "      <td>20.462439</td>\n",
       "      <td>26.809413</td>\n",
       "    </tr>\n",
       "  </tbody>\n",
       "</table>\n",
       "</div>"
      ],
      "text/plain": [
       "              Open         High          Low        Close        Volume  \\\n",
       "count  4035.000000  4035.000000  4035.000000  4035.000000   4035.000000   \n",
       "mean      1.260410     1.261788     1.260330     1.261570   1494.510467   \n",
       "std       0.117799     0.117864     0.117807     0.117861   1901.084788   \n",
       "min       1.039140     1.040065     1.039040     1.039995      0.000000   \n",
       "25%       1.141090     1.143007     1.141000     1.142832    340.083128   \n",
       "50%       1.288485     1.290115     1.288350     1.290035    870.480130   \n",
       "75%       1.356428     1.357752     1.356380     1.357442   1873.278502   \n",
       "max       1.510910     1.514290     1.510910     1.513560  20403.297030   \n",
       "\n",
       "            Change           STD           Vol         Mean       Median  \\\n",
       "count  4035.000000  4.035000e+03  4.035000e+03  4035.000000  4035.000000   \n",
       "mean      0.000925  2.571362e-04  5.749740e-05     0.000035    -0.000006   \n",
       "std       0.000923  2.325885e-04  5.200837e-05     0.000129     0.000120   \n",
       "min      -0.000479  7.930444e-07  1.773301e-07    -0.003085    -0.003275   \n",
       "25%       0.000367  1.099692e-04  2.458985e-05     0.000006    -0.000016   \n",
       "50%       0.000691  1.974435e-04  4.414971e-05     0.000036     0.000004   \n",
       "75%       0.001219  3.401445e-04  7.605863e-05     0.000080     0.000031   \n",
       "max       0.016507  3.748538e-03  8.381986e-04     0.001175     0.001121   \n",
       "\n",
       "              Skew     Kurtosis    Gaussness  \n",
       "count  4035.000000  4035.000000  4035.000000  \n",
       "mean      2.305774     8.095552     0.580238  \n",
       "std       0.953414     4.805006     1.431508  \n",
       "min       0.000092    -7.883751    -0.580810  \n",
       "25%       1.596604     4.542969    -0.265567  \n",
       "50%       2.007480     6.298396     0.148548  \n",
       "75%       2.836288    10.020699     0.917881  \n",
       "max       4.473463    20.462439    26.809413  "
      ]
     },
     "execution_count": 12,
     "metadata": {},
     "output_type": "execute_result"
    }
   ],
   "source": [
    "longs.describe()"
   ]
  },
  {
   "cell_type": "code",
   "execution_count": 13,
   "metadata": {},
   "outputs": [
    {
     "data": {
      "text/html": [
       "<div>\n",
       "<style scoped>\n",
       "    .dataframe tbody tr th:only-of-type {\n",
       "        vertical-align: middle;\n",
       "    }\n",
       "\n",
       "    .dataframe tbody tr th {\n",
       "        vertical-align: top;\n",
       "    }\n",
       "\n",
       "    .dataframe thead th {\n",
       "        text-align: right;\n",
       "    }\n",
       "</style>\n",
       "<table border=\"1\" class=\"dataframe\">\n",
       "  <thead>\n",
       "    <tr style=\"text-align: right;\">\n",
       "      <th></th>\n",
       "      <th>Datetime</th>\n",
       "      <th>Open</th>\n",
       "      <th>High</th>\n",
       "      <th>Low</th>\n",
       "      <th>Close</th>\n",
       "      <th>Volume</th>\n",
       "      <th>Change</th>\n",
       "      <th>STD</th>\n",
       "      <th>Vol</th>\n",
       "      <th>Mean</th>\n",
       "      <th>Median</th>\n",
       "      <th>Skew</th>\n",
       "      <th>Kurtosis</th>\n",
       "      <th>Gaussness</th>\n",
       "    </tr>\n",
       "  </thead>\n",
       "  <tbody>\n",
       "    <tr>\n",
       "      <th>220</th>\n",
       "      <td>2009-05-01 11:00:00</td>\n",
       "      <td>1.331355</td>\n",
       "      <td>1.331650</td>\n",
       "      <td>1.328055</td>\n",
       "      <td>1.328135</td>\n",
       "      <td>1043.83575</td>\n",
       "      <td>-0.002419</td>\n",
       "      <td>0.000747</td>\n",
       "      <td>0.000167</td>\n",
       "      <td>0.000103</td>\n",
       "      <td>0.000241</td>\n",
       "      <td>-2.060176</td>\n",
       "      <td>6.477463</td>\n",
       "      <td>3.167636</td>\n",
       "    </tr>\n",
       "    <tr>\n",
       "      <th>1382</th>\n",
       "      <td>2009-05-03 21:06:00</td>\n",
       "      <td>1.328000</td>\n",
       "      <td>1.328000</td>\n",
       "      <td>1.327750</td>\n",
       "      <td>1.328000</td>\n",
       "      <td>13.27911</td>\n",
       "      <td>0.000000</td>\n",
       "      <td>0.000042</td>\n",
       "      <td>0.000009</td>\n",
       "      <td>0.000179</td>\n",
       "      <td>0.000188</td>\n",
       "      <td>-4.472136</td>\n",
       "      <td>20.000000</td>\n",
       "      <td>-0.325105</td>\n",
       "    </tr>\n",
       "    <tr>\n",
       "      <th>1383</th>\n",
       "      <td>2009-05-03 21:09:00</td>\n",
       "      <td>1.327900</td>\n",
       "      <td>1.328000</td>\n",
       "      <td>1.327650</td>\n",
       "      <td>1.327750</td>\n",
       "      <td>15.93418</td>\n",
       "      <td>-0.000113</td>\n",
       "      <td>0.000078</td>\n",
       "      <td>0.000017</td>\n",
       "      <td>0.000164</td>\n",
       "      <td>0.000188</td>\n",
       "      <td>-3.178369</td>\n",
       "      <td>9.642362</td>\n",
       "      <td>0.084000</td>\n",
       "    </tr>\n",
       "    <tr>\n",
       "      <th>2195</th>\n",
       "      <td>2009-05-05 13:45:00</td>\n",
       "      <td>1.341545</td>\n",
       "      <td>1.341545</td>\n",
       "      <td>1.339300</td>\n",
       "      <td>1.339535</td>\n",
       "      <td>926.11915</td>\n",
       "      <td>-0.001498</td>\n",
       "      <td>0.000421</td>\n",
       "      <td>0.000094</td>\n",
       "      <td>-0.000133</td>\n",
       "      <td>-0.000082</td>\n",
       "      <td>-1.741245</td>\n",
       "      <td>4.980199</td>\n",
       "      <td>0.795579</td>\n",
       "    </tr>\n",
       "    <tr>\n",
       "      <th>2288</th>\n",
       "      <td>2009-05-05 18:24:00</td>\n",
       "      <td>1.333390</td>\n",
       "      <td>1.333420</td>\n",
       "      <td>1.330940</td>\n",
       "      <td>1.331350</td>\n",
       "      <td>829.78810</td>\n",
       "      <td>-0.001530</td>\n",
       "      <td>0.000471</td>\n",
       "      <td>0.000105</td>\n",
       "      <td>-0.000105</td>\n",
       "      <td>0.000030</td>\n",
       "      <td>-1.389514</td>\n",
       "      <td>3.458058</td>\n",
       "      <td>3.078793</td>\n",
       "    </tr>\n",
       "  </tbody>\n",
       "</table>\n",
       "</div>"
      ],
      "text/plain": [
       "                 Datetime      Open      High       Low     Close      Volume  \\\n",
       "220   2009-05-01 11:00:00  1.331355  1.331650  1.328055  1.328135  1043.83575   \n",
       "1382  2009-05-03 21:06:00  1.328000  1.328000  1.327750  1.328000    13.27911   \n",
       "1383  2009-05-03 21:09:00  1.327900  1.328000  1.327650  1.327750    15.93418   \n",
       "2195  2009-05-05 13:45:00  1.341545  1.341545  1.339300  1.339535   926.11915   \n",
       "2288  2009-05-05 18:24:00  1.333390  1.333420  1.330940  1.331350   829.78810   \n",
       "\n",
       "        Change       STD       Vol      Mean    Median      Skew   Kurtosis  \\\n",
       "220  -0.002419  0.000747  0.000167  0.000103  0.000241 -2.060176   6.477463   \n",
       "1382  0.000000  0.000042  0.000009  0.000179  0.000188 -4.472136  20.000000   \n",
       "1383 -0.000113  0.000078  0.000017  0.000164  0.000188 -3.178369   9.642362   \n",
       "2195 -0.001498  0.000421  0.000094 -0.000133 -0.000082 -1.741245   4.980199   \n",
       "2288 -0.001530  0.000471  0.000105 -0.000105  0.000030 -1.389514   3.458058   \n",
       "\n",
       "      Gaussness  \n",
       "220    3.167636  \n",
       "1382  -0.325105  \n",
       "1383   0.084000  \n",
       "2195   0.795579  \n",
       "2288   3.078793  "
      ]
     },
     "execution_count": 13,
     "metadata": {},
     "output_type": "execute_result"
    }
   ],
   "source": [
    "shorts.head()"
   ]
  },
  {
   "cell_type": "markdown",
   "metadata": {},
   "source": [
    "### Visualize a Long and a Short"
   ]
  },
  {
   "cell_type": "markdown",
   "metadata": {},
   "source": [
    "##### Long Candle / Short Signal"
   ]
  },
  {
   "cell_type": "code",
   "execution_count": 48,
   "metadata": {},
   "outputs": [
    {
     "data": {
      "image/png": "[encoded data removed]",
      "text/plain": [
       "<Figure size 1440x648 with 1 Axes>"
      ]
     },
     "metadata": {
      "needs_background": "light"
     },
     "output_type": "display_data"
    }
   ],
   "source": [
    "idx = df[df.Datetime == longs.Datetime.values[np.random.randint(0, longs.shape[0])]].index.values[0]\n",
    "data = df.iloc[idx-window:idx+window, :].values\n",
    "dp.simple_ohlc(data, window)"
   ]
  },
  {
   "cell_type": "code",
   "execution_count": 21,
   "metadata": {},
   "outputs": [
    {
     "data": {
      "text/plain": [
       "array(['2015-08-31 00:00:00', 1.12114, 1.121235, 1.120735, 1.12076,\n",
       "       510.0712300000003, -0.00033894072105182847, 0.0, 0.0,\n",
       "       -0.0003389407210518307, -0.00033894072105182847, nan, nan,\n",
       "       -0.5808108401370826], dtype=object)"
      ]
     },
     "execution_count": 21,
     "metadata": {},
     "output_type": "execute_result"
    }
   ],
   "source": [
    "data[19, :]"
   ]
  },
  {
   "cell_type": "markdown",
   "metadata": {},
   "source": [
    "##### Short Candle / Long Signal"
   ]
  },
  {
   "cell_type": "code",
   "execution_count": 120,
   "metadata": {},
   "outputs": [
    {
     "data": {
      "image/png": "[encoded data removed]",
      "text/plain": [
       "<Figure size 1440x648 with 1 Axes>"
      ]
     },
     "metadata": {
      "needs_background": "light"
     },
     "output_type": "display_data"
    }
   ],
   "source": [
    "idx = df[df.Datetime == shorts.Datetime.values[np.random.randint(0, shorts.shape[0])]].index.values[0]\n",
    "data = df.iloc[idx-window:idx+window, :].values\n",
    "dp.simple_ohlc(data, window)"
   ]
  },
  {
   "cell_type": "markdown",
   "metadata": {},
   "source": [
    "### Calculate Average TTC (Time-to-close)"
   ]
  },
  {
   "cell_type": "markdown",
   "metadata": {},
   "source": [
    "##### Long Candle / Short Trade"
   ]
  },
  {
   "cell_type": "code",
   "execution_count": 121,
   "metadata": {},
   "outputs": [],
   "source": [
    "def long_short_ttc(datetime, df):\n",
    "    \n",
    "    idx = df[df.Datetime == datetime].index.values[0]\n",
    "    target = df.iloc[idx, :].Open\n",
    "    close, low = np.inf, np.inf\n",
    "    \n",
    "    ctr = idx\n",
    "    while close > target and low > target:\n",
    "        idx += 1\n",
    "        close = df.iloc[idx, :].Close\n",
    "        low = df.iloc[idx, :].Low\n",
    "        if idx - ctr >= 100:\n",
    "            break\n",
    "    return idx - ctr"
   ]
  },
  {
   "cell_type": "markdown",
   "metadata": {},
   "source": [
    "##### Short Candle / Long Trade"
   ]
  },
  {
   "cell_type": "code",
   "execution_count": 122,
   "metadata": {},
   "outputs": [],
   "source": [
    "def short_long_ttc(datetime, df):\n",
    "    \n",
    "    idx = df[df.Datetime == datetime].index.values[0]\n",
    "    target = df.iloc[idx, :].Open\n",
    "    close, high = -np.inf, -np.inf\n",
    "    \n",
    "    ctr = idx\n",
    "    while close < target and high < target:\n",
    "        idx += 1\n",
    "        close = df.iloc[idx, :].Close\n",
    "        low = df.iloc[idx, :].High\n",
    "        if idx - ctr >= 100:\n",
    "            break\n",
    "    return idx - ctr"
   ]
  },
  {
   "cell_type": "markdown",
   "metadata": {},
   "source": [
    "### Get Average Time-To-Close on Longs"
   ]
  },
  {
   "cell_type": "code",
   "execution_count": null,
   "metadata": {},
   "outputs": [
    {
     "name": "stdout",
     "output_type": "stream",
     "text": [
      "45\n"
     ]
    }
   ],
   "source": [
    "ttc_long = []\n",
    "for i, datetime in enumerate(longs.Datetime):\n",
    "    clear_output()\n",
    "    print(i)\n",
    "    ttc_long.append(long_short_ttc(datetime, df))"
   ]
  },
  {
   "cell_type": "code",
   "execution_count": null,
   "metadata": {},
   "outputs": [],
   "source": [
    "ttc_longs = pd.DataFrame(ttc_long, columns=['TTC'])"
   ]
  },
  {
   "cell_type": "code",
   "execution_count": null,
   "metadata": {},
   "outputs": [],
   "source": [
    "ttc_longs.TTC.describe()"
   ]
  },
  {
   "cell_type": "markdown",
   "metadata": {},
   "source": [
    "### Get Average Time-To-Close on Shorts"
   ]
  },
  {
   "cell_type": "code",
   "execution_count": 102,
   "metadata": {},
   "outputs": [
    {
     "name": "stdout",
     "output_type": "stream",
     "text": [
      "3831\n"
     ]
    }
   ],
   "source": [
    "ttc_short = []\n",
    "for i, datetime in enumerate(shorts.Datetime):\n",
    "    clear_output()\n",
    "    print(i)\n",
    "    ttc_short.append(short_long_ttc(datetime, df))"
   ]
  },
  {
   "cell_type": "code",
   "execution_count": 103,
   "metadata": {},
   "outputs": [],
   "source": [
    "ttc_shorts = pd.DataFrame(ttc_short, columns=['TTC'])"
   ]
  },
  {
   "cell_type": "code",
   "execution_count": 104,
   "metadata": {},
   "outputs": [
    {
     "data": {
      "text/plain": [
       "count    3832.000000\n",
       "mean       46.841858\n",
       "std        40.563938\n",
       "min         1.000000\n",
       "25%         9.000000\n",
       "50%        30.000000\n",
       "75%       100.000000\n",
       "max       100.000000\n",
       "Name: TTC, dtype: float64"
      ]
     },
     "execution_count": 104,
     "metadata": {},
     "output_type": "execute_result"
    }
   ],
   "source": [
    "ttc_shorts.TTC.describe()"
   ]
  },
  {
   "cell_type": "code",
   "execution_count": 105,
   "metadata": {},
   "outputs": [
    {
     "data": {
      "text/plain": [
       "73.0"
      ]
     },
     "execution_count": 105,
     "metadata": {},
     "output_type": "execute_result"
    }
   ],
   "source": [
    "np.quantile(ttc_short, 0.65)"
   ]
  },
  {
   "cell_type": "code",
   "execution_count": null,
   "metadata": {},
   "outputs": [],
   "source": []
  },
  {
   "cell_type": "code",
   "execution_count": null,
   "metadata": {},
   "outputs": [],
   "source": []
  },
  {
   "cell_type": "code",
   "execution_count": null,
   "metadata": {},
   "outputs": [],
   "source": []
  },
  {
   "cell_type": "code",
   "execution_count": null,
   "metadata": {},
   "outputs": [],
   "source": []
  },
  {
   "cell_type": "code",
   "execution_count": null,
   "metadata": {},
   "outputs": [],
   "source": []
  },
  {
   "cell_type": "code",
   "execution_count": null,
   "metadata": {},
   "outputs": [],
   "source": []
  },
  {
   "cell_type": "raw",
   "metadata": {},
   "source": [
    "## These are all testing\n",
    "datetime = shorts.Datetime.values[i]\n",
    "# Get raw prices\n",
    "idx = df[df.Datetime == datetime].index.values[0]\n",
    "offset = 30\n",
    "dp.simple_ohlc(df.iloc[idx-offset:idx+offset][['Datetime', 'OpenRaw', 'HighRaw', 'LowRaw', 'CloseRaw']].values, offset)\n",
    "i += 1"
   ]
  },
  {
   "cell_type": "raw",
   "metadata": {},
   "source": [
    "target = df.iloc[idx, :].OpenRaw\n",
    "entry = df.iloc[idx+1, :].OpenRaw\n",
    "close = df.iloc[idx+1, :].CloseRaw\n",
    "high = df.iloc[idx+1, :].HighRaw"
   ]
  },
  {
   "cell_type": "raw",
   "metadata": {},
   "source": [
    "target, entry, close, high"
   ]
  },
  {
   "cell_type": "raw",
   "metadata": {},
   "source": [
    "close = -np.inf\n",
    "high = -np.inf"
   ]
  },
  {
   "cell_type": "raw",
   "metadata": {},
   "source": [
    "close < target and high < target"
   ]
  },
  {
   "cell_type": "raw",
   "metadata": {},
   "source": [
    "ctr = idx\n",
    "while close < target and high < target:\n",
    "    idx += 1\n",
    "    close = df.iloc[idx, :].CloseRaw\n",
    "    high = df.iloc[idx, :].HighRaw\n",
    "print(idx-ctr)"
   ]
  }
 ],
 "metadata": {
  "kernelspec": {
   "display_name": "tf",
   "language": "python",
   "name": "tf"
  },
  "language_info": {
   "codemirror_mode": {
    "name": "ipython",
    "version": 3
   },
   "file_extension": ".py",
   "mimetype": "text/x-python",
   "name": "python",
   "nbconvert_exporter": "python",
   "pygments_lexer": "ipython3",
   "version": "3.6.8"
  }
 },
 "nbformat": 4,
 "nbformat_minor": 2
}
