{
 "cells": [
  {
   "cell_type": "code",
   "execution_count": 35,
   "metadata": {},
   "outputs": [],
   "source": [
    "import numpy as np\n",
    "import pandas as pd\n",
    "import sys, os\n",
    "import seaborn as sns\n",
    "import viz.display as dp\n",
    "from IPython.display import clear_output"
   ]
  },
  {
   "cell_type": "raw",
   "metadata": {},
   "source": [
    "### Features\n",
    "\n",
    "Volume Based\n",
    "Time weighted average price - per candle\n",
    "Volume weighted average price - per candle\n",
    "Ticks in a candle\n",
    "Relative Volume\n",
    "\n",
    "Return Based\n",
    "ARIMA - MA **\n",
    "Stationarity & Autocorrelation of Dist\n",
    "Skewness\n",
    "Kurtosis\n",
    "\n",
    "Volatility\n",
    "Standard deviation / root(20)\n",
    "Entropy of distribution"
   ]
  },
  {
   "cell_type": "markdown",
   "metadata": {},
   "source": [
    "### Load Data"
   ]
  },
  {
   "cell_type": "code",
   "execution_count": 36,
   "metadata": {},
   "outputs": [],
   "source": [
    "df = pd.read_csv('D:/AlgoData/EURUSD_clean.csv').iloc[:, 1:]\n",
    "raw = pd.read_csv('D:/TickData_Agg/EURUSD.csv')"
   ]
  },
  {
   "cell_type": "code",
   "execution_count": 37,
   "metadata": {},
   "outputs": [
    {
     "data": {
      "text/html": [
       "<div>\n",
       "<style scoped>\n",
       "    .dataframe tbody tr th:only-of-type {\n",
       "        vertical-align: middle;\n",
       "    }\n",
       "\n",
       "    .dataframe tbody tr th {\n",
       "        vertical-align: top;\n",
       "    }\n",
       "\n",
       "    .dataframe thead th {\n",
       "        text-align: right;\n",
       "    }\n",
       "</style>\n",
       "<table border=\"1\" class=\"dataframe\">\n",
       "  <thead>\n",
       "    <tr style=\"text-align: right;\">\n",
       "      <th></th>\n",
       "      <th>Datetime</th>\n",
       "      <th>Open</th>\n",
       "      <th>High</th>\n",
       "      <th>Low</th>\n",
       "      <th>Close</th>\n",
       "      <th>Volume</th>\n",
       "    </tr>\n",
       "  </thead>\n",
       "  <tbody>\n",
       "    <tr>\n",
       "      <th>0</th>\n",
       "      <td>2009-05-01 00:00:00</td>\n",
       "      <td>1.324435</td>\n",
       "      <td>1.324645</td>\n",
       "      <td>1.324430</td>\n",
       "      <td>1.324645</td>\n",
       "      <td>554.982980</td>\n",
       "    </tr>\n",
       "    <tr>\n",
       "      <th>1</th>\n",
       "      <td>2009-05-01 00:03:00</td>\n",
       "      <td>1.324685</td>\n",
       "      <td>1.325350</td>\n",
       "      <td>1.324685</td>\n",
       "      <td>1.324925</td>\n",
       "      <td>400.169775</td>\n",
       "    </tr>\n",
       "    <tr>\n",
       "      <th>2</th>\n",
       "      <td>2009-05-01 00:06:00</td>\n",
       "      <td>1.324915</td>\n",
       "      <td>1.325370</td>\n",
       "      <td>1.324895</td>\n",
       "      <td>1.325305</td>\n",
       "      <td>239.854325</td>\n",
       "    </tr>\n",
       "    <tr>\n",
       "      <th>3</th>\n",
       "      <td>2009-05-01 00:09:00</td>\n",
       "      <td>1.325335</td>\n",
       "      <td>1.326040</td>\n",
       "      <td>1.324825</td>\n",
       "      <td>1.325410</td>\n",
       "      <td>702.527180</td>\n",
       "    </tr>\n",
       "    <tr>\n",
       "      <th>4</th>\n",
       "      <td>2009-05-01 00:12:00</td>\n",
       "      <td>1.325345</td>\n",
       "      <td>1.325725</td>\n",
       "      <td>1.324680</td>\n",
       "      <td>1.324715</td>\n",
       "      <td>288.898580</td>\n",
       "    </tr>\n",
       "  </tbody>\n",
       "</table>\n",
       "</div>"
      ],
      "text/plain": [
       "              Datetime      Open      High       Low     Close      Volume\n",
       "0  2009-05-01 00:00:00  1.324435  1.324645  1.324430  1.324645  554.982980\n",
       "1  2009-05-01 00:03:00  1.324685  1.325350  1.324685  1.324925  400.169775\n",
       "2  2009-05-01 00:06:00  1.324915  1.325370  1.324895  1.325305  239.854325\n",
       "3  2009-05-01 00:09:00  1.325335  1.326040  1.324825  1.325410  702.527180\n",
       "4  2009-05-01 00:12:00  1.325345  1.325725  1.324680  1.324715  288.898580"
      ]
     },
     "execution_count": 37,
     "metadata": {},
     "output_type": "execute_result"
    }
   ],
   "source": [
    "raw.head()"
   ]
  },
  {
   "cell_type": "code",
   "execution_count": 38,
   "metadata": {},
   "outputs": [
    {
     "data": {
      "text/html": [
       "<div>\n",
       "<style scoped>\n",
       "    .dataframe tbody tr th:only-of-type {\n",
       "        vertical-align: middle;\n",
       "    }\n",
       "\n",
       "    .dataframe tbody tr th {\n",
       "        vertical-align: top;\n",
       "    }\n",
       "\n",
       "    .dataframe thead th {\n",
       "        text-align: right;\n",
       "    }\n",
       "</style>\n",
       "<table border=\"1\" class=\"dataframe\">\n",
       "  <thead>\n",
       "    <tr style=\"text-align: right;\">\n",
       "      <th></th>\n",
       "      <th>Datetime</th>\n",
       "      <th>Open</th>\n",
       "      <th>High</th>\n",
       "      <th>Low</th>\n",
       "      <th>Close</th>\n",
       "      <th>Dist10MA</th>\n",
       "      <th>Dist20MA</th>\n",
       "      <th>Dist50MA</th>\n",
       "      <th>Dist200MA</th>\n",
       "      <th>CBSpread</th>\n",
       "      <th>BB</th>\n",
       "      <th>RelVol</th>\n",
       "    </tr>\n",
       "  </thead>\n",
       "  <tbody>\n",
       "    <tr>\n",
       "      <th>0</th>\n",
       "      <td>2009-07-24 00:00:00</td>\n",
       "      <td>0.999880</td>\n",
       "      <td>1.000229</td>\n",
       "      <td>1.000053</td>\n",
       "      <td>1.000251</td>\n",
       "      <td>1.000081</td>\n",
       "      <td>1.000076</td>\n",
       "      <td>1.000366</td>\n",
       "      <td>0.997283</td>\n",
       "      <td>1.099352</td>\n",
       "      <td>0.999996</td>\n",
       "      <td>0.683352</td>\n",
       "    </tr>\n",
       "    <tr>\n",
       "      <th>1</th>\n",
       "      <td>2009-07-24 00:03:00</td>\n",
       "      <td>1.000233</td>\n",
       "      <td>0.999873</td>\n",
       "      <td>0.999470</td>\n",
       "      <td>0.999291</td>\n",
       "      <td>0.999434</td>\n",
       "      <td>0.999404</td>\n",
       "      <td>0.999664</td>\n",
       "      <td>0.996597</td>\n",
       "      <td>1.361493</td>\n",
       "      <td>1.000002</td>\n",
       "      <td>0.926492</td>\n",
       "    </tr>\n",
       "    <tr>\n",
       "      <th>2</th>\n",
       "      <td>2009-07-24 00:06:00</td>\n",
       "      <td>0.999291</td>\n",
       "      <td>0.999636</td>\n",
       "      <td>1.000110</td>\n",
       "      <td>1.000350</td>\n",
       "      <td>0.999816</td>\n",
       "      <td>0.999775</td>\n",
       "      <td>1.000014</td>\n",
       "      <td>0.996969</td>\n",
       "      <td>1.121212</td>\n",
       "      <td>0.999992</td>\n",
       "      <td>0.747677</td>\n",
       "    </tr>\n",
       "    <tr>\n",
       "      <th>3</th>\n",
       "      <td>2009-07-24 00:09:00</td>\n",
       "      <td>1.000343</td>\n",
       "      <td>1.000060</td>\n",
       "      <td>0.999859</td>\n",
       "      <td>0.999640</td>\n",
       "      <td>0.999527</td>\n",
       "      <td>0.999454</td>\n",
       "      <td>0.999662</td>\n",
       "      <td>0.996635</td>\n",
       "      <td>1.184041</td>\n",
       "      <td>1.000008</td>\n",
       "      <td>0.769104</td>\n",
       "    </tr>\n",
       "    <tr>\n",
       "      <th>4</th>\n",
       "      <td>2009-07-24 00:12:00</td>\n",
       "      <td>0.999661</td>\n",
       "      <td>0.999633</td>\n",
       "      <td>0.999703</td>\n",
       "      <td>0.999781</td>\n",
       "      <td>0.999407</td>\n",
       "      <td>0.999286</td>\n",
       "      <td>0.999450</td>\n",
       "      <td>0.996442</td>\n",
       "      <td>1.116304</td>\n",
       "      <td>1.000008</td>\n",
       "      <td>0.762840</td>\n",
       "    </tr>\n",
       "  </tbody>\n",
       "</table>\n",
       "</div>"
      ],
      "text/plain": [
       "              Datetime      Open      High       Low     Close  Dist10MA  \\\n",
       "0  2009-07-24 00:00:00  0.999880  1.000229  1.000053  1.000251  1.000081   \n",
       "1  2009-07-24 00:03:00  1.000233  0.999873  0.999470  0.999291  0.999434   \n",
       "2  2009-07-24 00:06:00  0.999291  0.999636  1.000110  1.000350  0.999816   \n",
       "3  2009-07-24 00:09:00  1.000343  1.000060  0.999859  0.999640  0.999527   \n",
       "4  2009-07-24 00:12:00  0.999661  0.999633  0.999703  0.999781  0.999407   \n",
       "\n",
       "   Dist20MA  Dist50MA  Dist200MA  CBSpread        BB    RelVol  \n",
       "0  1.000076  1.000366   0.997283  1.099352  0.999996  0.683352  \n",
       "1  0.999404  0.999664   0.996597  1.361493  1.000002  0.926492  \n",
       "2  0.999775  1.000014   0.996969  1.121212  0.999992  0.747677  \n",
       "3  0.999454  0.999662   0.996635  1.184041  1.000008  0.769104  \n",
       "4  0.999286  0.999450   0.996442  1.116304  1.000008  0.762840  "
      ]
     },
     "execution_count": 38,
     "metadata": {},
     "output_type": "execute_result"
    }
   ],
   "source": [
    "df.head()"
   ]
  },
  {
   "cell_type": "markdown",
   "metadata": {},
   "source": [
    "### Format Data For Bookkeeping"
   ]
  },
  {
   "cell_type": "code",
   "execution_count": 39,
   "metadata": {},
   "outputs": [],
   "source": [
    "raw['OpenRaw'] = raw['Open']\n",
    "raw['CloseRaw'] = raw['Close']\n",
    "raw['HighRaw'] = raw['High']\n",
    "raw['LowRaw'] = raw['Low']\n",
    "raw = raw[['Datetime', 'OpenRaw', 'HighRaw', 'LowRaw', 'CloseRaw']]"
   ]
  },
  {
   "cell_type": "code",
   "execution_count": 40,
   "metadata": {},
   "outputs": [],
   "source": [
    "df = df.merge(raw, how='outer', on='Datetime').dropna()"
   ]
  },
  {
   "cell_type": "markdown",
   "metadata": {},
   "source": [
    "### Get Rolling Mean and STD of Closing Prices"
   ]
  },
  {
   "cell_type": "code",
   "execution_count": 41,
   "metadata": {},
   "outputs": [],
   "source": [
    "df['STD'] = df.Close.rolling(window=20, min_periods=1).std()\n",
    "df['Mean'] = df.Close.rolling(window=20, min_periods=1).mean()"
   ]
  },
  {
   "cell_type": "markdown",
   "metadata": {},
   "source": [
    "### Extract all signal candles"
   ]
  },
  {
   "cell_type": "code",
   "execution_count": 42,
   "metadata": {},
   "outputs": [],
   "source": [
    "cutoff = 3\n",
    "longs = df[df.Close > cutoff*df.STD + df.Mean]\n",
    "longs = longs[longs.STD != 0]\n",
    "shorts = df[df.Close < df.Mean - cutoff*df.STD]\n",
    "shorts = shorts[shorts.STD != 0]"
   ]
  },
  {
   "cell_type": "code",
   "execution_count": 43,
   "metadata": {},
   "outputs": [
    {
     "data": {
      "text/plain": [
       "('Num Longs', 3945)"
      ]
     },
     "execution_count": 43,
     "metadata": {},
     "output_type": "execute_result"
    }
   ],
   "source": [
    "'Num Longs', longs.shape[0]"
   ]
  },
  {
   "cell_type": "code",
   "execution_count": 44,
   "metadata": {},
   "outputs": [
    {
     "data": {
      "text/plain": [
       "('Num Shorts', 3731)"
      ]
     },
     "execution_count": 44,
     "metadata": {},
     "output_type": "execute_result"
    }
   ],
   "source": [
    "'Num Shorts', shorts.shape[0]"
   ]
  },
  {
   "cell_type": "code",
   "execution_count": 45,
   "metadata": {},
   "outputs": [
    {
     "data": {
      "text/html": [
       "<div>\n",
       "<style scoped>\n",
       "    .dataframe tbody tr th:only-of-type {\n",
       "        vertical-align: middle;\n",
       "    }\n",
       "\n",
       "    .dataframe tbody tr th {\n",
       "        vertical-align: top;\n",
       "    }\n",
       "\n",
       "    .dataframe thead th {\n",
       "        text-align: right;\n",
       "    }\n",
       "</style>\n",
       "<table border=\"1\" class=\"dataframe\">\n",
       "  <thead>\n",
       "    <tr style=\"text-align: right;\">\n",
       "      <th></th>\n",
       "      <th>Datetime</th>\n",
       "      <th>Open</th>\n",
       "      <th>High</th>\n",
       "      <th>Low</th>\n",
       "      <th>Close</th>\n",
       "      <th>Dist10MA</th>\n",
       "      <th>Dist20MA</th>\n",
       "      <th>Dist50MA</th>\n",
       "      <th>Dist200MA</th>\n",
       "      <th>CBSpread</th>\n",
       "      <th>BB</th>\n",
       "      <th>RelVol</th>\n",
       "      <th>OpenRaw</th>\n",
       "      <th>HighRaw</th>\n",
       "      <th>LowRaw</th>\n",
       "      <th>CloseRaw</th>\n",
       "      <th>STD</th>\n",
       "      <th>Mean</th>\n",
       "    </tr>\n",
       "  </thead>\n",
       "  <tbody>\n",
       "    <tr>\n",
       "      <th>105</th>\n",
       "      <td>2009-07-24 05:15:00</td>\n",
       "      <td>1.000053</td>\n",
       "      <td>1.000600</td>\n",
       "      <td>1.000064</td>\n",
       "      <td>1.000569</td>\n",
       "      <td>1.000532</td>\n",
       "      <td>1.000433</td>\n",
       "      <td>1.000536</td>\n",
       "      <td>1.000472</td>\n",
       "      <td>1.136578</td>\n",
       "      <td>0.999997</td>\n",
       "      <td>0.928461</td>\n",
       "      <td>1.415835</td>\n",
       "      <td>1.416705</td>\n",
       "      <td>1.415750</td>\n",
       "      <td>1.416645</td>\n",
       "      <td>0.000179</td>\n",
       "      <td>1.000017</td>\n",
       "    </tr>\n",
       "    <tr>\n",
       "      <th>420</th>\n",
       "      <td>2009-07-24 21:00:00</td>\n",
       "      <td>1.000999</td>\n",
       "      <td>1.001052</td>\n",
       "      <td>1.001148</td>\n",
       "      <td>1.001475</td>\n",
       "      <td>1.000940</td>\n",
       "      <td>1.000817</td>\n",
       "      <td>1.000757</td>\n",
       "      <td>1.000250</td>\n",
       "      <td>1.125378</td>\n",
       "      <td>1.000003</td>\n",
       "      <td>0.875750</td>\n",
       "      <td>1.422300</td>\n",
       "      <td>1.422400</td>\n",
       "      <td>1.421700</td>\n",
       "      <td>1.422300</td>\n",
       "      <td>0.000379</td>\n",
       "      <td>1.000023</td>\n",
       "    </tr>\n",
       "    <tr>\n",
       "      <th>592</th>\n",
       "      <td>2009-07-27 05:36:00</td>\n",
       "      <td>0.999793</td>\n",
       "      <td>1.000861</td>\n",
       "      <td>1.000105</td>\n",
       "      <td>1.000952</td>\n",
       "      <td>1.000603</td>\n",
       "      <td>1.000749</td>\n",
       "      <td>1.001041</td>\n",
       "      <td>1.001868</td>\n",
       "      <td>1.277926</td>\n",
       "      <td>1.000005</td>\n",
       "      <td>0.821150</td>\n",
       "      <td>1.423065</td>\n",
       "      <td>1.424585</td>\n",
       "      <td>1.422965</td>\n",
       "      <td>1.424440</td>\n",
       "      <td>0.000268</td>\n",
       "      <td>1.000058</td>\n",
       "    </tr>\n",
       "    <tr>\n",
       "      <th>677</th>\n",
       "      <td>2009-07-27 09:51:00</td>\n",
       "      <td>0.999856</td>\n",
       "      <td>1.000764</td>\n",
       "      <td>1.000070</td>\n",
       "      <td>1.000936</td>\n",
       "      <td>1.000987</td>\n",
       "      <td>1.001290</td>\n",
       "      <td>1.001657</td>\n",
       "      <td>1.002968</td>\n",
       "      <td>1.247922</td>\n",
       "      <td>1.000002</td>\n",
       "      <td>0.834745</td>\n",
       "      <td>1.425985</td>\n",
       "      <td>1.427340</td>\n",
       "      <td>1.425950</td>\n",
       "      <td>1.427295</td>\n",
       "      <td>0.000275</td>\n",
       "      <td>1.000102</td>\n",
       "    </tr>\n",
       "    <tr>\n",
       "      <th>760</th>\n",
       "      <td>2009-07-27 14:00:00</td>\n",
       "      <td>1.000284</td>\n",
       "      <td>1.001302</td>\n",
       "      <td>1.000418</td>\n",
       "      <td>1.001326</td>\n",
       "      <td>1.001235</td>\n",
       "      <td>1.000929</td>\n",
       "      <td>1.000204</td>\n",
       "      <td>1.000975</td>\n",
       "      <td>1.167341</td>\n",
       "      <td>1.000007</td>\n",
       "      <td>0.862682</td>\n",
       "      <td>1.425060</td>\n",
       "      <td>1.426975</td>\n",
       "      <td>1.425060</td>\n",
       "      <td>1.426945</td>\n",
       "      <td>0.000399</td>\n",
       "      <td>1.000012</td>\n",
       "    </tr>\n",
       "  </tbody>\n",
       "</table>\n",
       "</div>"
      ],
      "text/plain": [
       "                Datetime      Open      High       Low     Close  Dist10MA  \\\n",
       "105  2009-07-24 05:15:00  1.000053  1.000600  1.000064  1.000569  1.000532   \n",
       "420  2009-07-24 21:00:00  1.000999  1.001052  1.001148  1.001475  1.000940   \n",
       "592  2009-07-27 05:36:00  0.999793  1.000861  1.000105  1.000952  1.000603   \n",
       "677  2009-07-27 09:51:00  0.999856  1.000764  1.000070  1.000936  1.000987   \n",
       "760  2009-07-27 14:00:00  1.000284  1.001302  1.000418  1.001326  1.001235   \n",
       "\n",
       "     Dist20MA  Dist50MA  Dist200MA  CBSpread        BB    RelVol   OpenRaw  \\\n",
       "105  1.000433  1.000536   1.000472  1.136578  0.999997  0.928461  1.415835   \n",
       "420  1.000817  1.000757   1.000250  1.125378  1.000003  0.875750  1.422300   \n",
       "592  1.000749  1.001041   1.001868  1.277926  1.000005  0.821150  1.423065   \n",
       "677  1.001290  1.001657   1.002968  1.247922  1.000002  0.834745  1.425985   \n",
       "760  1.000929  1.000204   1.000975  1.167341  1.000007  0.862682  1.425060   \n",
       "\n",
       "      HighRaw    LowRaw  CloseRaw       STD      Mean  \n",
       "105  1.416705  1.415750  1.416645  0.000179  1.000017  \n",
       "420  1.422400  1.421700  1.422300  0.000379  1.000023  \n",
       "592  1.424585  1.422965  1.424440  0.000268  1.000058  \n",
       "677  1.427340  1.425950  1.427295  0.000275  1.000102  \n",
       "760  1.426975  1.425060  1.426945  0.000399  1.000012  "
      ]
     },
     "execution_count": 45,
     "metadata": {},
     "output_type": "execute_result"
    }
   ],
   "source": [
    "longs.head()"
   ]
  },
  {
   "cell_type": "code",
   "execution_count": 46,
   "metadata": {},
   "outputs": [
    {
     "data": {
      "text/html": [
       "<div>\n",
       "<style scoped>\n",
       "    .dataframe tbody tr th:only-of-type {\n",
       "        vertical-align: middle;\n",
       "    }\n",
       "\n",
       "    .dataframe tbody tr th {\n",
       "        vertical-align: top;\n",
       "    }\n",
       "\n",
       "    .dataframe thead th {\n",
       "        text-align: right;\n",
       "    }\n",
       "</style>\n",
       "<table border=\"1\" class=\"dataframe\">\n",
       "  <thead>\n",
       "    <tr style=\"text-align: right;\">\n",
       "      <th></th>\n",
       "      <th>Datetime</th>\n",
       "      <th>Open</th>\n",
       "      <th>High</th>\n",
       "      <th>Low</th>\n",
       "      <th>Close</th>\n",
       "      <th>Dist10MA</th>\n",
       "      <th>Dist20MA</th>\n",
       "      <th>Dist50MA</th>\n",
       "      <th>Dist200MA</th>\n",
       "      <th>CBSpread</th>\n",
       "      <th>BB</th>\n",
       "      <th>RelVol</th>\n",
       "      <th>OpenRaw</th>\n",
       "      <th>HighRaw</th>\n",
       "      <th>LowRaw</th>\n",
       "      <th>CloseRaw</th>\n",
       "      <th>STD</th>\n",
       "      <th>Mean</th>\n",
       "    </tr>\n",
       "  </thead>\n",
       "  <tbody>\n",
       "    <tr>\n",
       "      <th>371</th>\n",
       "      <td>2009-07-24 18:33:00</td>\n",
       "      <td>0.999937</td>\n",
       "      <td>1.000141</td>\n",
       "      <td>0.999378</td>\n",
       "      <td>0.999364</td>\n",
       "      <td>0.999164</td>\n",
       "      <td>0.998838</td>\n",
       "      <td>0.999183</td>\n",
       "      <td>0.999356</td>\n",
       "      <td>1.222069</td>\n",
       "      <td>1.000019</td>\n",
       "      <td>0.885975</td>\n",
       "      <td>1.422140</td>\n",
       "      <td>1.422440</td>\n",
       "      <td>1.421155</td>\n",
       "      <td>1.421220</td>\n",
       "      <td>0.000182</td>\n",
       "      <td>0.999931</td>\n",
       "    </tr>\n",
       "    <tr>\n",
       "      <th>480</th>\n",
       "      <td>2009-07-27 00:00:00</td>\n",
       "      <td>0.997989</td>\n",
       "      <td>0.997923</td>\n",
       "      <td>0.997661</td>\n",
       "      <td>0.997328</td>\n",
       "      <td>0.997595</td>\n",
       "      <td>0.997462</td>\n",
       "      <td>0.997382</td>\n",
       "      <td>0.997740</td>\n",
       "      <td>1.052857</td>\n",
       "      <td>1.000090</td>\n",
       "      <td>1.134156</td>\n",
       "      <td>1.419440</td>\n",
       "      <td>1.419445</td>\n",
       "      <td>1.418375</td>\n",
       "      <td>1.418500</td>\n",
       "      <td>0.000597</td>\n",
       "      <td>0.999866</td>\n",
       "    </tr>\n",
       "    <tr>\n",
       "      <th>751</th>\n",
       "      <td>2009-07-27 13:33:00</td>\n",
       "      <td>1.000140</td>\n",
       "      <td>1.000011</td>\n",
       "      <td>0.999484</td>\n",
       "      <td>0.999155</td>\n",
       "      <td>0.999271</td>\n",
       "      <td>0.998997</td>\n",
       "      <td>0.998299</td>\n",
       "      <td>0.999573</td>\n",
       "      <td>1.142433</td>\n",
       "      <td>0.999996</td>\n",
       "      <td>0.868184</td>\n",
       "      <td>1.426045</td>\n",
       "      <td>1.426140</td>\n",
       "      <td>1.424715</td>\n",
       "      <td>1.424850</td>\n",
       "      <td>0.000253</td>\n",
       "      <td>0.999963</td>\n",
       "    </tr>\n",
       "    <tr>\n",
       "      <th>1263</th>\n",
       "      <td>2009-07-28 15:09:00</td>\n",
       "      <td>1.000056</td>\n",
       "      <td>0.999866</td>\n",
       "      <td>0.998998</td>\n",
       "      <td>0.998797</td>\n",
       "      <td>0.998719</td>\n",
       "      <td>0.998844</td>\n",
       "      <td>0.997357</td>\n",
       "      <td>0.993285</td>\n",
       "      <td>1.292026</td>\n",
       "      <td>0.999983</td>\n",
       "      <td>0.993824</td>\n",
       "      <td>1.417215</td>\n",
       "      <td>1.417245</td>\n",
       "      <td>1.415455</td>\n",
       "      <td>1.415520</td>\n",
       "      <td>0.000340</td>\n",
       "      <td>0.999929</td>\n",
       "    </tr>\n",
       "    <tr>\n",
       "      <th>1780</th>\n",
       "      <td>2009-07-29 17:00:00</td>\n",
       "      <td>1.000082</td>\n",
       "      <td>0.999989</td>\n",
       "      <td>0.998589</td>\n",
       "      <td>0.998785</td>\n",
       "      <td>0.998734</td>\n",
       "      <td>0.998661</td>\n",
       "      <td>0.998098</td>\n",
       "      <td>0.993392</td>\n",
       "      <td>1.374343</td>\n",
       "      <td>1.000009</td>\n",
       "      <td>1.146567</td>\n",
       "      <td>1.403275</td>\n",
       "      <td>1.403330</td>\n",
       "      <td>1.401170</td>\n",
       "      <td>1.401565</td>\n",
       "      <td>0.000365</td>\n",
       "      <td>0.999902</td>\n",
       "    </tr>\n",
       "  </tbody>\n",
       "</table>\n",
       "</div>"
      ],
      "text/plain": [
       "                 Datetime      Open      High       Low     Close  Dist10MA  \\\n",
       "371   2009-07-24 18:33:00  0.999937  1.000141  0.999378  0.999364  0.999164   \n",
       "480   2009-07-27 00:00:00  0.997989  0.997923  0.997661  0.997328  0.997595   \n",
       "751   2009-07-27 13:33:00  1.000140  1.000011  0.999484  0.999155  0.999271   \n",
       "1263  2009-07-28 15:09:00  1.000056  0.999866  0.998998  0.998797  0.998719   \n",
       "1780  2009-07-29 17:00:00  1.000082  0.999989  0.998589  0.998785  0.998734   \n",
       "\n",
       "      Dist20MA  Dist50MA  Dist200MA  CBSpread        BB    RelVol   OpenRaw  \\\n",
       "371   0.998838  0.999183   0.999356  1.222069  1.000019  0.885975  1.422140   \n",
       "480   0.997462  0.997382   0.997740  1.052857  1.000090  1.134156  1.419440   \n",
       "751   0.998997  0.998299   0.999573  1.142433  0.999996  0.868184  1.426045   \n",
       "1263  0.998844  0.997357   0.993285  1.292026  0.999983  0.993824  1.417215   \n",
       "1780  0.998661  0.998098   0.993392  1.374343  1.000009  1.146567  1.403275   \n",
       "\n",
       "       HighRaw    LowRaw  CloseRaw       STD      Mean  \n",
       "371   1.422440  1.421155  1.421220  0.000182  0.999931  \n",
       "480   1.419445  1.418375  1.418500  0.000597  0.999866  \n",
       "751   1.426140  1.424715  1.424850  0.000253  0.999963  \n",
       "1263  1.417245  1.415455  1.415520  0.000340  0.999929  \n",
       "1780  1.403330  1.401170  1.401565  0.000365  0.999902  "
      ]
     },
     "execution_count": 46,
     "metadata": {},
     "output_type": "execute_result"
    }
   ],
   "source": [
    "shorts.head()"
   ]
  },
  {
   "cell_type": "markdown",
   "metadata": {},
   "source": [
    "### Visualize a Long and a Short"
   ]
  },
  {
   "cell_type": "markdown",
   "metadata": {},
   "source": [
    "##### Long Candle / Short Signal"
   ]
  },
  {
   "cell_type": "code",
   "execution_count": 56,
   "metadata": {},
   "outputs": [
    {
     "data": {
      "image/png": "[encoded data removed]",
      "text/plain": [
       "<Figure size 1440x648 with 1 Axes>"
      ]
     },
     "metadata": {
      "needs_background": "light"
     },
     "output_type": "display_data"
    }
   ],
   "source": [
    "idx = df[df.Datetime == longs.Datetime.values[np.random.randint(0, longs.shape[0])]].index.values[0]\n",
    "data = df.iloc[idx-20:idx+20, :][['Datetime', 'OpenRaw', 'HighRaw', 'LowRaw', 'CloseRaw']].values\n",
    "dp.simple_ohlc(data, 20)"
   ]
  },
  {
   "cell_type": "markdown",
   "metadata": {},
   "source": [
    "##### Short Candle / Long Signal"
   ]
  },
  {
   "cell_type": "code",
   "execution_count": 62,
   "metadata": {},
   "outputs": [
    {
     "data": {
      "image/png": "[encoded data removed]",
      "text/plain": [
       "<Figure size 1440x648 with 1 Axes>"
      ]
     },
     "metadata": {
      "needs_background": "light"
     },
     "output_type": "display_data"
    }
   ],
   "source": [
    "idx = df[df.Datetime == shorts.Datetime.values[np.random.randint(0, shorts.shape[0])]].index.values[0]\n",
    "data = df.iloc[idx-20:idx+20, :][['Datetime', 'OpenRaw', 'HighRaw', 'LowRaw', 'CloseRaw']].values\n",
    "dp.simple_ohlc(data, 20)"
   ]
  },
  {
   "cell_type": "markdown",
   "metadata": {},
   "source": [
    "### Calculate Average TTC (Time-to-close)"
   ]
  },
  {
   "cell_type": "markdown",
   "metadata": {},
   "source": [
    "##### Long Candle / Short Trade"
   ]
  },
  {
   "cell_type": "code",
   "execution_count": 64,
   "metadata": {},
   "outputs": [],
   "source": [
    "def long_short_ttc(datetime, df):\n",
    "    \n",
    "    idx = df[df.Datetime == datetime].index.values[0]\n",
    "    target = df.iloc[idx, :].OpenRaw\n",
    "    close, low = np.inf, np.inf\n",
    "    \n",
    "    ctr = idx\n",
    "    while close > target and low > target:\n",
    "        idx += 1\n",
    "        close = df.iloc[idx, :].CloseRaw\n",
    "        low = df.iloc[idx, :].LowRaw\n",
    "        if idx - ctr >= 100:\n",
    "            break\n",
    "    return idx - ctr"
   ]
  },
  {
   "cell_type": "markdown",
   "metadata": {},
   "source": [
    "##### Short Candle / Long Trade"
   ]
  },
  {
   "cell_type": "code",
   "execution_count": 65,
   "metadata": {},
   "outputs": [],
   "source": [
    "def short_long_ttc(datetime, df):\n",
    "    \n",
    "    idx = df[df.Datetime == datetime].index.values[0]\n",
    "    target = df.iloc[idx, :].OpenRaw\n",
    "    close, high = -np.inf, -np.inf\n",
    "    \n",
    "    ctr = idx\n",
    "    while close < target and high < target:\n",
    "        idx += 1\n",
    "        close = df.iloc[idx, :].CloseRaw\n",
    "        low = df.iloc[idx, :].HighRaw\n",
    "        if idx - ctr >= 100:\n",
    "            break\n",
    "    return idx - ctr"
   ]
  },
  {
   "cell_type": "markdown",
   "metadata": {},
   "source": [
    "### Get Average Time-To-Close on Longs"
   ]
  },
  {
   "cell_type": "code",
   "execution_count": 66,
   "metadata": {},
   "outputs": [
    {
     "name": "stdout",
     "output_type": "stream",
     "text": [
      "3944\n"
     ]
    }
   ],
   "source": [
    "ttc_long = []\n",
    "for i, datetime in enumerate(longs.Datetime):\n",
    "    clear_output()\n",
    "    print(i)\n",
    "    ttc_long.append(long_short_ttc(datetime, df))"
   ]
  },
  {
   "cell_type": "code",
   "execution_count": 67,
   "metadata": {},
   "outputs": [],
   "source": [
    "ttc_longs = pd.DataFrame(ttc_long, columns=['TTC'])"
   ]
  },
  {
   "cell_type": "code",
   "execution_count": 68,
   "metadata": {},
   "outputs": [
    {
     "data": {
      "text/plain": [
       "count    3945.000000\n",
       "mean       40.715843\n",
       "std        40.645216\n",
       "min         1.000000\n",
       "25%         5.000000\n",
       "50%        20.000000\n",
       "75%       100.000000\n",
       "max       100.000000\n",
       "Name: TTC, dtype: float64"
      ]
     },
     "execution_count": 68,
     "metadata": {},
     "output_type": "execute_result"
    }
   ],
   "source": [
    "ttc_longs.TTC.describe()"
   ]
  },
  {
   "cell_type": "markdown",
   "metadata": {},
   "source": [
    "### Get Average Time-To-Close on Shorts"
   ]
  },
  {
   "cell_type": "code",
   "execution_count": 25,
   "metadata": {},
   "outputs": [
    {
     "name": "stdout",
     "output_type": "stream",
     "text": [
      "3730\n"
     ]
    }
   ],
   "source": [
    "ttc_short = []\n",
    "for i, datetime in enumerate(shorts.Datetime):\n",
    "    clear_output()\n",
    "    print(i)\n",
    "    ttc_short.append(short_long_ttc(datetime, df))"
   ]
  },
  {
   "cell_type": "code",
   "execution_count": 26,
   "metadata": {},
   "outputs": [],
   "source": [
    "ttc_shorts = pd.DataFrame(ttc_short, columns=['TTC'])"
   ]
  },
  {
   "cell_type": "code",
   "execution_count": 27,
   "metadata": {},
   "outputs": [
    {
     "data": {
      "text/plain": [
       "count    3731.000000\n",
       "mean       47.131332\n",
       "std        40.707383\n",
       "min         1.000000\n",
       "25%         8.000000\n",
       "50%        32.000000\n",
       "75%       100.000000\n",
       "max       100.000000\n",
       "Name: TTC, dtype: float64"
      ]
     },
     "execution_count": 27,
     "metadata": {},
     "output_type": "execute_result"
    }
   ],
   "source": [
    "ttc_shorts.TTC.describe()"
   ]
  },
  {
   "cell_type": "code",
   "execution_count": 43,
   "metadata": {},
   "outputs": [
    {
     "data": {
      "text/plain": [
       "74.0"
      ]
     },
     "execution_count": 43,
     "metadata": {},
     "output_type": "execute_result"
    }
   ],
   "source": [
    "np.quantile(ttc_short, 0.65)"
   ]
  },
  {
   "cell_type": "code",
   "execution_count": null,
   "metadata": {},
   "outputs": [],
   "source": []
  },
  {
   "cell_type": "code",
   "execution_count": null,
   "metadata": {},
   "outputs": [],
   "source": []
  },
  {
   "cell_type": "code",
   "execution_count": null,
   "metadata": {},
   "outputs": [],
   "source": []
  },
  {
   "cell_type": "code",
   "execution_count": null,
   "metadata": {},
   "outputs": [],
   "source": []
  },
  {
   "cell_type": "code",
   "execution_count": null,
   "metadata": {},
   "outputs": [],
   "source": []
  },
  {
   "cell_type": "code",
   "execution_count": null,
   "metadata": {},
   "outputs": [],
   "source": []
  },
  {
   "cell_type": "raw",
   "metadata": {},
   "source": [
    "## These are all testing\n",
    "datetime = shorts.Datetime.values[i]\n",
    "# Get raw prices\n",
    "idx = df[df.Datetime == datetime].index.values[0]\n",
    "offset = 30\n",
    "dp.simple_ohlc(df.iloc[idx-offset:idx+offset][['Datetime', 'OpenRaw', 'HighRaw', 'LowRaw', 'CloseRaw']].values, offset)\n",
    "i += 1"
   ]
  },
  {
   "cell_type": "raw",
   "metadata": {},
   "source": [
    "target = df.iloc[idx, :].OpenRaw\n",
    "entry = df.iloc[idx+1, :].OpenRaw\n",
    "close = df.iloc[idx+1, :].CloseRaw\n",
    "high = df.iloc[idx+1, :].HighRaw"
   ]
  },
  {
   "cell_type": "raw",
   "metadata": {},
   "source": [
    "target, entry, close, high"
   ]
  },
  {
   "cell_type": "raw",
   "metadata": {},
   "source": [
    "close = -np.inf\n",
    "high = -np.inf"
   ]
  },
  {
   "cell_type": "raw",
   "metadata": {},
   "source": [
    "close < target and high < target"
   ]
  },
  {
   "cell_type": "raw",
   "metadata": {},
   "source": [
    "ctr = idx\n",
    "while close < target and high < target:\n",
    "    idx += 1\n",
    "    close = df.iloc[idx, :].CloseRaw\n",
    "    high = df.iloc[idx, :].HighRaw\n",
    "print(idx-ctr)"
   ]
  }
 ],
 "metadata": {
  "kernelspec": {
   "display_name": "tf",
   "language": "python",
   "name": "tf"
  },
  "language_info": {
   "codemirror_mode": {
    "name": "ipython",
    "version": 3
   },
   "file_extension": ".py",
   "mimetype": "text/x-python",
   "name": "python",
   "nbconvert_exporter": "python",
   "pygments_lexer": "ipython3",
   "version": "3.6.8"
  }
 },
 "nbformat": 4,
 "nbformat_minor": 2
}
