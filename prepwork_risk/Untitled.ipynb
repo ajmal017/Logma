{
 "cells": [
  {
   "cell_type": "code",
   "execution_count": 1,
   "metadata": {},
   "outputs": [],
   "source": [
    "import pandas as pd\n",
    "import numpy as np\n",
    "import joblib\n",
    "import sys, os\n",
    "from sklearn.preprocessing import KBinsDiscretizer, Normalizer\n",
    "\n",
    "import matplotlib.pyplot as plt\n",
    "import seaborn as sns"
   ]
  },
  {
   "cell_type": "code",
   "execution_count": 2,
   "metadata": {},
   "outputs": [
    {
     "name": "stdout",
     "output_type": "stream",
     "text": [
      "AUDNZD_progs.pkl\n",
      "AUDUSD_progs.pkl\n",
      "CADJPY_progs.pkl\n",
      "CHFJPY_progs.pkl\n",
      "EURCHF_progs.pkl\n",
      "EURGBP_progs.pkl\n",
      "EURJPY_progs.pkl\n",
      "EURUSD_progs.pkl\n",
      "GBPUSD_progs.pkl\n",
      "NZDUSD_progs.pkl\n",
      "USDJPY_progs.pkl\n"
     ]
    }
   ],
   "source": [
    "progs = []\n",
    "for file in os.listdir('D:/AlgoMLData/Progressions/'):\n",
    "    print(file)\n",
    "    progs.extend(joblib.load('D:/AlgoMLData/Progressions/{}'.format(file)))"
   ]
  },
  {
   "cell_type": "markdown",
   "metadata": {},
   "source": [
    "### Candle Size Priors"
   ]
  },
  {
   "cell_type": "code",
   "execution_count": 3,
   "metadata": {},
   "outputs": [],
   "source": [
    "## Get the max drawdown\n",
    "risk_multiplier = 2.5\n",
    "n_bins = 8"
   ]
  },
  {
   "cell_type": "code",
   "execution_count": 4,
   "metadata": {},
   "outputs": [
    {
     "data": {
      "text/plain": [
       "(80541, 80541)"
      ]
     },
     "execution_count": 4,
     "metadata": {},
     "output_type": "execute_result"
    }
   ],
   "source": [
    "success = []\n",
    "failure = []\n",
    "css = []\n",
    "\n",
    "for prog in progs:\n",
    "    cs = prog.CandleSize.values[0]\n",
    "    css.append(cs)\n",
    "    max_drawdown = cs * risk_multiplier + cs\n",
    "    x = prog[prog.RDD > max_drawdown]\n",
    "    if x.shape[0] != 0:\n",
    "        failure.append(cs)\n",
    "    else:\n",
    "        success.append(cs)\n",
    "len(failure) + len(success), len(progs)"
   ]
  },
  {
   "cell_type": "code",
   "execution_count": 5,
   "metadata": {},
   "outputs": [],
   "source": [
    "cs_encoder = KBinsDiscretizer(n_bins=n_bins, encode='ordinal', strategy='uniform')\n",
    "cs_encoder = cs_encoder.fit(np.reshape(css, (-1, 1)))\n",
    "css_bins = cs_encoder.transform(np.reshape(css, (-1, 1))).reshape(-1, )"
   ]
  },
  {
   "cell_type": "code",
   "execution_count": 6,
   "metadata": {},
   "outputs": [],
   "source": [
    "success = [cs_encoder.transform([[c]])[0][0] for c in success]\n",
    "failure = [cs_encoder.transform([[c]])[0][0] for c in failure]\n",
    "prob_success = len(success) / len(css)\n",
    "prob_failure = len(failure) / len(css)"
   ]
  },
  {
   "cell_type": "code",
   "execution_count": 7,
   "metadata": {},
   "outputs": [
    {
     "data": {
      "text/plain": [
       "(16628, 63913)"
      ]
     },
     "execution_count": 7,
     "metadata": {},
     "output_type": "execute_result"
    }
   ],
   "source": [
    "len(failure), len(success)"
   ]
  },
  {
   "cell_type": "code",
   "execution_count": 8,
   "metadata": {},
   "outputs": [
    {
     "data": {
      "text/plain": [
       "array([9.45530848e-01, 5.24825865e-02, 1.65133286e-03, 2.11072621e-04,\n",
       "       8.69122559e-05, 2.48320731e-05, 1.24160366e-05])"
      ]
     },
     "execution_count": 8,
     "metadata": {},
     "output_type": "execute_result"
    }
   ],
   "source": [
    "## Raw Probabilities\n",
    "_, counts = np.unique(css_bins, return_counts=True)\n",
    "counts = np.append(counts, [0]*min(0, n_bins - counts.shape[0]))\n",
    "raw_cs_probs = counts / counts.sum()\n",
    "raw_cs_probs"
   ]
  },
  {
   "cell_type": "code",
   "execution_count": 9,
   "metadata": {},
   "outputs": [
    {
     "data": {
      "text/plain": [
       "array([9.46145542e-01, 5.16796270e-02, 1.81496722e-03, 2.03401499e-04,\n",
       "       1.09523884e-04, 3.12925383e-05, 1.56462691e-05, 0.00000000e+00])"
      ]
     },
     "execution_count": 9,
     "metadata": {},
     "output_type": "execute_result"
    }
   ],
   "source": [
    "_, counts = np.unique(success, return_counts=True)\n",
    "counts = np.append(counts, [0]*max(0, n_bins - counts.shape[0]))\n",
    "raw_success_probs = counts / counts.sum()\n",
    "raw_success_probs"
   ]
  },
  {
   "cell_type": "code",
   "execution_count": 10,
   "metadata": {},
   "outputs": [
    {
     "data": {
      "text/plain": [
       "array([9.43168150e-01, 5.55689199e-02, 1.02237190e-03, 2.40558095e-04,\n",
       "       0.00000000e+00, 0.00000000e+00, 0.00000000e+00, 0.00000000e+00])"
      ]
     },
     "execution_count": 10,
     "metadata": {},
     "output_type": "execute_result"
    }
   ],
   "source": [
    "_, counts = np.unique(failure, return_counts=True)\n",
    "counts = np.append(counts, [0]*max(0, n_bins - counts.shape[0]))\n",
    "raw_failure_probs = counts / counts.sum()\n",
    "raw_failure_probs"
   ]
  },
  {
   "cell_type": "code",
   "execution_count": 11,
   "metadata": {},
   "outputs": [],
   "source": [
    "def candle_success(cs):\n",
    "    candle_bin = int(cs_encoder.transform([[cs]])[0][0])\n",
    "    p_s_b = raw_success_probs[candle_bin] * prob_success\n",
    "    p_s_b /= raw_success_probs[candle_bin] * prob_success + raw_failure_probs[candle_bin] * prob_failure\n",
    "    return p_s_b"
   ]
  },
  {
   "cell_type": "markdown",
   "metadata": {},
   "source": [
    "### Drawdown conditionals"
   ]
  },
  {
   "cell_type": "code",
   "execution_count": 12,
   "metadata": {},
   "outputs": [],
   "source": [
    "drawdowns = {}\n",
    "dd_encoders = {}\n",
    "candle_drawdowns = {\n",
    "    i : [] for i in range(100)\n",
    "}\n",
    "n_bins = 124\n",
    "max_risk = 2.5"
   ]
  },
  {
   "cell_type": "code",
   "execution_count": 13,
   "metadata": {},
   "outputs": [],
   "source": [
    "for file in os.listdir(\"D:/AlgoMLData/Drawdowns/\"):\n",
    "    ticker = file.split('_')[0]\n",
    "    with open(\"D:/AlgoMLData/Drawdowns/\" + file, 'rb') as file:\n",
    "        drawdowns[ticker] = joblib.load(file)"
   ]
  },
  {
   "cell_type": "code",
   "execution_count": 14,
   "metadata": {},
   "outputs": [],
   "source": [
    "for ticker in drawdowns:\n",
    "    for candle in drawdowns[ticker]:\n",
    "        candle_drawdowns[candle].extend(drawdowns[ticker][candle])"
   ]
  },
  {
   "cell_type": "code",
   "execution_count": 15,
   "metadata": {},
   "outputs": [],
   "source": [
    "for i in candle_drawdowns:\n",
    "    kbd = KBinsDiscretizer(n_bins=n_bins, encode='ordinal', strategy='uniform')\n",
    "    kbd = kbd.fit(np.reshape(candle_drawdowns[i], (-1, 1)))\n",
    "    dd_encoders[i] = kbd"
   ]
  },
  {
   "cell_type": "code",
   "execution_count": 16,
   "metadata": {},
   "outputs": [],
   "source": [
    "success = {\n",
    "    i : [] for i in range(100)\n",
    "}\n",
    "failure = {\n",
    "    i : [] for i in range(100)\n",
    "}\n",
    "for prog in progs:\n",
    "    cs = prog.CandleSize.values[0]\n",
    "    mdd = cs * max_risk\n",
    "    x = prog[prog.RDD > mdd]\n",
    "    if x.shape[0] == 0:\n",
    "        for i, rdd in enumerate(prog.RDD[1:]):\n",
    "            success[i].append(dd_encoders[i].transform([[rdd]])[0][0])\n",
    "    else:\n",
    "        for i, rdd in enumerate(prog[prog.RDD <= mdd].RDD[1:]):\n",
    "            failure[i].append(dd_encoders[i].transform([[rdd]])[0][0])"
   ]
  },
  {
   "cell_type": "code",
   "execution_count": 17,
   "metadata": {},
   "outputs": [
    {
     "name": "stderr",
     "output_type": "stream",
     "text": [
      "C:\\Users\\Zach\\Anaconda3\\envs\\tf\\lib\\site-packages\\ipykernel_launcher.py:13: RuntimeWarning: invalid value encountered in true_divide\n",
      "  del sys.path[0]\n"
     ]
    }
   ],
   "source": [
    "dd_success = []\n",
    "dd_failure = []\n",
    "\n",
    "for i in success:\n",
    "    _, counts = np.unique(success[i], return_counts=True)\n",
    "    counts = np.append(counts, [0]*max(0, n_bins - counts.shape[0]))\n",
    "    counts = counts / counts.sum()\n",
    "    dd_success.append(counts.tolist())\n",
    "    \n",
    "for i in failure:\n",
    "    _, counts = np.unique(failure[i], return_counts=True)\n",
    "    counts = np.append(counts, [0]*max(0, n_bins - counts.shape[0]))\n",
    "    counts = counts / counts.sum()\n",
    "    dd_failure.append(counts.tolist())\n",
    "    \n",
    "dd_success = np.array(dd_success).T\n",
    "dd_failure = np.array(dd_failure).T"
   ]
  },
  {
   "cell_type": "markdown",
   "metadata": {},
   "source": [
    "P(S | D1) = (P(D1|S) * P(S)) / (P(D1|S) * P(S) + P(D1|F) * P(F))"
   ]
  },
  {
   "cell_type": "markdown",
   "metadata": {},
   "source": [
    "### Trade Example"
   ]
  },
  {
   "cell_type": "markdown",
   "metadata": {},
   "source": [
    "### Function to calculate it"
   ]
  },
  {
   "cell_type": "code",
   "execution_count": 33,
   "metadata": {},
   "outputs": [],
   "source": [
    "ctr = 0"
   ]
  },
  {
   "cell_type": "code",
   "execution_count": 42,
   "metadata": {},
   "outputs": [
    {
     "name": "stdout",
     "output_type": "stream",
     "text": [
      "Candle Size 293.49999999999096 Candle Success 0.7814052519517388 Drawdown 56.000000000011596 Probability 0.7317179030655693\n",
      "Candle Size 293.49999999999096 Candle Success 0.7814052519517388 Drawdown 25.000000000008356 Probability 0.31092749899098554\n",
      "Candle Size 293.49999999999096 Candle Success 0.7814052519517388 Drawdown -0.49999999998107114 Probability 0.10248853392490634\n",
      "Candle Size 293.49999999999096 Candle Success 0.7814052519517388 Drawdown -250.49999999999793 Probability 0.09372349904359227\n",
      "Candle Size 293.49999999999096 Candle Success 0.7814052519517388 Drawdown -293.49999999999096 Probability 0.39738429061225183\n"
     ]
    }
   ],
   "source": [
    "\n",
    "for trade in progs[ctr:ctr+1]:\n",
    "    \n",
    "    cs = trade.CandleSize.values[0]\n",
    "    css = candle_success(cs)\n",
    "    bvf, bvs = [], []\n",
    "    \n",
    "    for i, rdd in enumerate(trade.RDD[1:]):\n",
    "        rdd_bin = int(dd_encoders[0].transform([[rdd]])[0][0])\n",
    "        bvs.append(dd_success[rdd_bin, i])\n",
    "        bvf.append(dd_failure[rdd_bin, i])\n",
    "        p_s_d = np.cumprod(bvs)[-1] * css\n",
    "        p_s_d /= np.cumprod(bvs)[-1] * css + np.cumproduct(bvf)[-1] * (1 - css)\n",
    "        print('Candle Size', cs, 'Candle Success', css, 'Drawdown', rdd - cs, 'Probability', p_s_d)\n",
    "ctr+=1"
   ]
  },
  {
   "cell_type": "code",
   "execution_count": null,
   "metadata": {},
   "outputs": [],
   "source": []
  }
 ],
 "metadata": {
  "kernelspec": {
   "display_name": "tf",
   "language": "python",
   "name": "tf"
  },
  "language_info": {
   "codemirror_mode": {
    "name": "ipython",
    "version": 3
   },
   "file_extension": ".py",
   "mimetype": "text/x-python",
   "name": "python",
   "nbconvert_exporter": "python",
   "pygments_lexer": "ipython3",
   "version": "3.6.8"
  }
 },
 "nbformat": 4,
 "nbformat_minor": 2
}
