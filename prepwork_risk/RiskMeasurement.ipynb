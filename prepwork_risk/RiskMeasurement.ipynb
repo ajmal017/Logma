{
 "cells": [
  {
   "cell_type": "code",
   "execution_count": 1,
   "metadata": {},
   "outputs": [],
   "source": [
    "from IPython.display import clear_output\n",
    "\n",
    "import pandas as pd\n",
    "import numpy as np\n",
    "import sys, os\n",
    "\n",
    "import matplotlib.pyplot as plt\n",
    "import seaborn as sns\n",
    "\n",
    "import joblib"
   ]
  },
  {
   "cell_type": "markdown",
   "metadata": {},
   "source": [
    "## Get the test files"
   ]
  },
  {
   "cell_type": "code",
   "execution_count": 2,
   "metadata": {},
   "outputs": [],
   "source": [
    "with open('D:/AlgoMLData/Risk/lgbm_test_set', 'rb') as file:\n",
    "    test_set = joblib.load(file)"
   ]
  },
  {
   "cell_type": "code",
   "execution_count": 3,
   "metadata": {},
   "outputs": [
    {
     "data": {
      "text/plain": [
       "(46481, 29)"
      ]
     },
     "execution_count": 3,
     "metadata": {},
     "output_type": "execute_result"
    }
   ],
   "source": [
    "test_set.shape"
   ]
  },
  {
   "cell_type": "code",
   "execution_count": 4,
   "metadata": {},
   "outputs": [],
   "source": [
    "## Order by the tickers\n",
    "test_set.sort_values('Ticker', inplace=True)"
   ]
  },
  {
   "cell_type": "code",
   "execution_count": 5,
   "metadata": {},
   "outputs": [],
   "source": [
    "## Set aside half of the data\n",
    "np.random.seed(72)\n",
    "idc = np.random.permutation(test_set.shape[0])\n",
    "idx = int(0.5 * len(idc))\n",
    "train = test_set.iloc[idc[:idx], :]\n",
    "test = test_set.iloc[idc[idx:], :]"
   ]
  },
  {
   "cell_type": "code",
   "execution_count": 6,
   "metadata": {},
   "outputs": [
    {
     "data": {
      "text/plain": [
       "(23240, 29)"
      ]
     },
     "execution_count": 6,
     "metadata": {},
     "output_type": "execute_result"
    }
   ],
   "source": [
    "train.shape"
   ]
  },
  {
   "cell_type": "markdown",
   "metadata": {},
   "source": [
    "### Load all the raw data files "
   ]
  },
  {
   "cell_type": "code",
   "execution_count": 7,
   "metadata": {},
   "outputs": [],
   "source": [
    "tickers = {}\n",
    "for file in os.listdir('D:/TickData_Agg/'):\n",
    "    tickers[file[:-4]] = pd.read_csv('D:/TickData_Agg/{}'.format(file))"
   ]
  },
  {
   "cell_type": "code",
   "execution_count": 8,
   "metadata": {},
   "outputs": [
    {
     "data": {
      "text/plain": [
       "dict_keys(['AUDJPY', 'AUDNZD', 'AUDUSD', 'CADJPY', 'CHFJPY', 'EURCHF', 'EURGBP', 'EURJPY', 'EURUSD', 'GBPJPY', 'GBPUSD', 'NZDUSD', 'USDCAD', 'USDCHF', 'USDJPY'])"
      ]
     },
     "execution_count": 8,
     "metadata": {},
     "output_type": "execute_result"
    }
   ],
   "source": [
    "tickers.keys()"
   ]
  },
  {
   "cell_type": "markdown",
   "metadata": {},
   "source": [
    "### Get 100 Candles for each trade"
   ]
  },
  {
   "cell_type": "code",
   "execution_count": 9,
   "metadata": {},
   "outputs": [],
   "source": [
    "## Tick Increments\n",
    "tick_increments = {\n",
    "    \"EURCHF\" : 0.00005,\n",
    "    \"USDCHF\" : 0.00005,\n",
    "    \"GBPUSD\" : 0.00005,\n",
    "    \"USDJPY\" : 0.005,\n",
    "    \"EURUSD\" : 0.00005,\n",
    "    \"EURGBP\" : 0.00005,\n",
    "    \"NZDUSD\" : 0.00005,\n",
    "    \"USDCAD\" : 0.00005,\n",
    "    \"EURJPY\" : 0.005,\n",
    "    \"AUDUSD\" : 0.00005,\n",
    "    \"GBPJPY\" : 0.005,\n",
    "    \"CHFJPY\" : 0.005,\n",
    "    \"AUDNZD\" : 0.00005,\n",
    "    \"AUDJPY\" : 0.005,\n",
    "    \"CADJPY\" : 0.005\n",
    "}"
   ]
  },
  {
   "cell_type": "code",
   "execution_count": 10,
   "metadata": {},
   "outputs": [
    {
     "name": "stdout",
     "output_type": "stream",
     "text": [
      "AUDJPY\n"
     ]
    },
    {
     "name": "stderr",
     "output_type": "stream",
     "text": [
      "C:\\Users\\Zach\\Anaconda3\\envs\\tf\\lib\\site-packages\\ipykernel_launcher.py:7: SettingWithCopyWarning: \n",
      "A value is trying to be set on a copy of a slice from a DataFrame.\n",
      "Try using .loc[row_indexer,col_indexer] = value instead\n",
      "\n",
      "See the caveats in the documentation: http://pandas.pydata.org/pandas-docs/stable/indexing.html#indexing-view-versus-copy\n",
      "  import sys\n",
      "C:\\Users\\Zach\\Anaconda3\\envs\\tf\\lib\\site-packages\\ipykernel_launcher.py:14: SettingWithCopyWarning: \n",
      "A value is trying to be set on a copy of a slice from a DataFrame.\n",
      "Try using .loc[row_indexer,col_indexer] = value instead\n",
      "\n",
      "See the caveats in the documentation: http://pandas.pydata.org/pandas-docs/stable/indexing.html#indexing-view-versus-copy\n",
      "  \n"
     ]
    },
    {
     "name": "stdout",
     "output_type": "stream",
     "text": [
      "AUDNZD\n",
      "AUDUSD\n",
      "CADJPY\n",
      "CHFJPY\n",
      "EURCHF\n",
      "EURGBP\n",
      "EURJPY\n",
      "EURUSD\n",
      "GBPJPY\n",
      "GBPUSD\n",
      "NZDUSD\n",
      "USDCAD\n",
      "USDCHF\n",
      "USDJPY\n"
     ]
    }
   ],
   "source": [
    "main = []\n",
    "for ticker in tickers:\n",
    "    print(ticker)\n",
    "    \n",
    "    ## Get the raw\n",
    "    raw = tickers[ticker][['Datetime', 'Open', 'High', 'Low', 'Close']]\n",
    "    raw['Ticker'] = ticker\n",
    "    \n",
    "    ## Get the trades\n",
    "    trades = train[train.Ticker == ticker].sort_values('Datetime')\n",
    "    raw_trades = raw[raw.Datetime.isin(trades.Datetime.values)]\n",
    "    dts = raw_trades.Datetime.values\n",
    "    directions = trades[trades.Datetime.isin(dts)].Direction\n",
    "    raw_trades['Direction'] = directions\n",
    "    \n",
    "    ## Get the candle progressions\n",
    "    idc = raw_trades.index.values\n",
    "    idc = [np.arange(idx, idx+101).tolist() for idx in idc]\n",
    "    dfs = [raw.iloc[idx, :] for idx in idc if idx[-1] in raw.index.values]\n",
    "    [df.insert(5, 'Direction', dir_) for df, dir_ in zip(dfs, directions)]\n",
    "    \n",
    "    ## Extend to main\n",
    "    main.extend(dfs)"
   ]
  },
  {
   "cell_type": "code",
   "execution_count": 11,
   "metadata": {},
   "outputs": [],
   "source": [
    "## Sanity check over all trades\n",
    "for df in main:\n",
    "    if df.Datetime.values[0] not in train.Datetime.values and df.Direction.values[0] != -1 * np.sign(df.Close.values[0] - df.Open.values[0]):\n",
    "        1/0"
   ]
  },
  {
   "cell_type": "code",
   "execution_count": 12,
   "metadata": {},
   "outputs": [],
   "source": [
    "for df in main:\n",
    "    if df.Direction.nunique() != 1:\n",
    "        1/0"
   ]
  },
  {
   "cell_type": "code",
   "execution_count": 13,
   "metadata": {},
   "outputs": [],
   "source": [
    "## No error means we have the first candle of every trade"
   ]
  },
  {
   "cell_type": "markdown",
   "metadata": {},
   "source": [
    "### Calculate the drawdowns and candle sizes for each of the dataframes"
   ]
  },
  {
   "cell_type": "code",
   "execution_count": 14,
   "metadata": {},
   "outputs": [],
   "source": [
    "trades_concat = pd.concat(main, axis=0)"
   ]
  },
  {
   "cell_type": "code",
   "execution_count": 15,
   "metadata": {},
   "outputs": [],
   "source": [
    "## Compute the candle size values\n",
    "trades_concat['Anchor'] = np.array([[trades_concat.Close.values[i]]*101 for i in range(0, len(trades_concat), 101)]).reshape(-1, )\n",
    "trades_concat['CandleSize'] = abs(np.array([[trades_concat.Close.values[i] - trades_concat.Open.values[i]]*101 for i in range(0, len(trades_concat), 101)]).reshape(-1, ))\n",
    "trades_concat['CandleSize'] = [cs / tick_increments[ticker] for cs, ticker in zip(trades_concat.CandleSize, trades_concat.Ticker)]"
   ]
  },
  {
   "cell_type": "code",
   "execution_count": 16,
   "metadata": {},
   "outputs": [],
   "source": [
    "## Compute the max risk per trade\n",
    "trades_concat['MaxRisk'] = trades_concat.CandleSize.values * 2.5"
   ]
  },
  {
   "cell_type": "code",
   "execution_count": 17,
   "metadata": {},
   "outputs": [
    {
     "data": {
      "text/html": [
       "<div>\n",
       "<style scoped>\n",
       "    .dataframe tbody tr th:only-of-type {\n",
       "        vertical-align: middle;\n",
       "    }\n",
       "\n",
       "    .dataframe tbody tr th {\n",
       "        vertical-align: top;\n",
       "    }\n",
       "\n",
       "    .dataframe thead th {\n",
       "        text-align: right;\n",
       "    }\n",
       "</style>\n",
       "<table border=\"1\" class=\"dataframe\">\n",
       "  <thead>\n",
       "    <tr style=\"text-align: right;\">\n",
       "      <th></th>\n",
       "      <th>Datetime</th>\n",
       "      <th>Open</th>\n",
       "      <th>High</th>\n",
       "      <th>Low</th>\n",
       "      <th>Close</th>\n",
       "      <th>Direction</th>\n",
       "      <th>Ticker</th>\n",
       "      <th>Anchor</th>\n",
       "      <th>CandleSize</th>\n",
       "      <th>MaxRisk</th>\n",
       "    </tr>\n",
       "  </thead>\n",
       "  <tbody>\n",
       "    <tr>\n",
       "      <th>1206</th>\n",
       "      <td>2009-05-05 04:30:00</td>\n",
       "      <td>72.890</td>\n",
       "      <td>73.1480</td>\n",
       "      <td>72.8515</td>\n",
       "      <td>73.1240</td>\n",
       "      <td>-1.0</td>\n",
       "      <td>AUDJPY</td>\n",
       "      <td>73.124</td>\n",
       "      <td>46.8</td>\n",
       "      <td>117.0</td>\n",
       "    </tr>\n",
       "    <tr>\n",
       "      <th>1207</th>\n",
       "      <td>2009-05-05 04:35:00</td>\n",
       "      <td>73.122</td>\n",
       "      <td>73.1310</td>\n",
       "      <td>73.0675</td>\n",
       "      <td>73.1270</td>\n",
       "      <td>-1.0</td>\n",
       "      <td>AUDJPY</td>\n",
       "      <td>73.124</td>\n",
       "      <td>46.8</td>\n",
       "      <td>117.0</td>\n",
       "    </tr>\n",
       "    <tr>\n",
       "      <th>1208</th>\n",
       "      <td>2009-05-05 04:40:00</td>\n",
       "      <td>73.130</td>\n",
       "      <td>73.1315</td>\n",
       "      <td>73.0495</td>\n",
       "      <td>73.1125</td>\n",
       "      <td>-1.0</td>\n",
       "      <td>AUDJPY</td>\n",
       "      <td>73.124</td>\n",
       "      <td>46.8</td>\n",
       "      <td>117.0</td>\n",
       "    </tr>\n",
       "    <tr>\n",
       "      <th>1209</th>\n",
       "      <td>2009-05-05 04:45:00</td>\n",
       "      <td>73.114</td>\n",
       "      <td>73.2605</td>\n",
       "      <td>73.1125</td>\n",
       "      <td>73.2465</td>\n",
       "      <td>-1.0</td>\n",
       "      <td>AUDJPY</td>\n",
       "      <td>73.124</td>\n",
       "      <td>46.8</td>\n",
       "      <td>117.0</td>\n",
       "    </tr>\n",
       "    <tr>\n",
       "      <th>1210</th>\n",
       "      <td>2009-05-05 04:50:00</td>\n",
       "      <td>73.246</td>\n",
       "      <td>73.2665</td>\n",
       "      <td>73.1770</td>\n",
       "      <td>73.1790</td>\n",
       "      <td>-1.0</td>\n",
       "      <td>AUDJPY</td>\n",
       "      <td>73.124</td>\n",
       "      <td>46.8</td>\n",
       "      <td>117.0</td>\n",
       "    </tr>\n",
       "  </tbody>\n",
       "</table>\n",
       "</div>"
      ],
      "text/plain": [
       "                 Datetime    Open     High      Low    Close  Direction  \\\n",
       "1206  2009-05-05 04:30:00  72.890  73.1480  72.8515  73.1240       -1.0   \n",
       "1207  2009-05-05 04:35:00  73.122  73.1310  73.0675  73.1270       -1.0   \n",
       "1208  2009-05-05 04:40:00  73.130  73.1315  73.0495  73.1125       -1.0   \n",
       "1209  2009-05-05 04:45:00  73.114  73.2605  73.1125  73.2465       -1.0   \n",
       "1210  2009-05-05 04:50:00  73.246  73.2665  73.1770  73.1790       -1.0   \n",
       "\n",
       "      Ticker  Anchor  CandleSize  MaxRisk  \n",
       "1206  AUDJPY  73.124        46.8    117.0  \n",
       "1207  AUDJPY  73.124        46.8    117.0  \n",
       "1208  AUDJPY  73.124        46.8    117.0  \n",
       "1209  AUDJPY  73.124        46.8    117.0  \n",
       "1210  AUDJPY  73.124        46.8    117.0  "
      ]
     },
     "execution_count": 17,
     "metadata": {},
     "output_type": "execute_result"
    }
   ],
   "source": [
    "## Compute the drawdown or run up for each trade\n",
    "trades_concat.head()"
   ]
  },
  {
   "cell_type": "code",
   "execution_count": 18,
   "metadata": {},
   "outputs": [],
   "source": [
    "drawdowns = (trades_concat.Direction * (trades_concat.Close - trades_concat.Anchor)).values\n",
    "drawdowns[drawdowns > 0] = 0\n",
    "trades_concat['Drawdown'] = drawdowns\n",
    "trades_concat['Drawdown'] = [dd / tick_increments[ticker] for dd, ticker in zip(trades_concat.Drawdown, trades_concat.Ticker)]"
   ]
  },
  {
   "cell_type": "code",
   "execution_count": 19,
   "metadata": {},
   "outputs": [],
   "source": [
    "runups = (trades_concat.Direction * (trades_concat.Close - trades_concat.Anchor)).values\n",
    "runups[runups < 0] = 0\n",
    "trades_concat['RunUp'] = runups\n",
    "trades_concat['RunUp'] = [ru / tick_increments[ticker] for ru, ticker in zip(trades_concat.RunUp, trades_concat.Ticker)]"
   ]
  },
  {
   "cell_type": "code",
   "execution_count": 20,
   "metadata": {},
   "outputs": [],
   "source": [
    "longs = (trades_concat.High - trades_concat.Anchor).values\n",
    "shorts = (trades_concat.Anchor - trades_concat.Low).values"
   ]
  },
  {
   "cell_type": "code",
   "execution_count": 21,
   "metadata": {},
   "outputs": [],
   "source": [
    "max_runup = [max(0, longs[i]) if dir_ == 1 else max(0, shorts[i]) for i, dir_ in enumerate(trades_concat.Direction.values)]\n",
    "trades_concat['MRunUp'] = max_runup\n",
    "trades_concat['MRunUp'] = [mru / tick_increments[ticker] for mru, ticker in zip(trades_concat.MRunUp, trades_concat.Ticker)]"
   ]
  },
  {
   "cell_type": "code",
   "execution_count": 22,
   "metadata": {},
   "outputs": [],
   "source": [
    "trades_concat['Drawdown'] = trades_concat.Drawdown / trades_concat.MaxRisk\n",
    "trades_concat['RunUp'] = trades_concat.RunUp / trades_concat.CandleSize\n",
    "trades_concat['MRunUp'] = trades_concat.MRunUp / trades_concat.CandleSize"
   ]
  },
  {
   "cell_type": "code",
   "execution_count": 23,
   "metadata": {},
   "outputs": [
    {
     "data": {
      "text/html": [
       "<div>\n",
       "<style scoped>\n",
       "    .dataframe tbody tr th:only-of-type {\n",
       "        vertical-align: middle;\n",
       "    }\n",
       "\n",
       "    .dataframe tbody tr th {\n",
       "        vertical-align: top;\n",
       "    }\n",
       "\n",
       "    .dataframe thead th {\n",
       "        text-align: right;\n",
       "    }\n",
       "</style>\n",
       "<table border=\"1\" class=\"dataframe\">\n",
       "  <thead>\n",
       "    <tr style=\"text-align: right;\">\n",
       "      <th></th>\n",
       "      <th>Datetime</th>\n",
       "      <th>Open</th>\n",
       "      <th>High</th>\n",
       "      <th>Low</th>\n",
       "      <th>Close</th>\n",
       "      <th>Direction</th>\n",
       "      <th>Ticker</th>\n",
       "      <th>Anchor</th>\n",
       "      <th>CandleSize</th>\n",
       "      <th>MaxRisk</th>\n",
       "      <th>Drawdown</th>\n",
       "      <th>RunUp</th>\n",
       "      <th>MRunUp</th>\n",
       "    </tr>\n",
       "  </thead>\n",
       "  <tbody>\n",
       "    <tr>\n",
       "      <th>1206</th>\n",
       "      <td>2009-05-05 04:30:00</td>\n",
       "      <td>72.8900</td>\n",
       "      <td>73.1480</td>\n",
       "      <td>72.8515</td>\n",
       "      <td>73.1240</td>\n",
       "      <td>-1.0</td>\n",
       "      <td>AUDJPY</td>\n",
       "      <td>73.124</td>\n",
       "      <td>46.8</td>\n",
       "      <td>117.0</td>\n",
       "      <td>-0.000000</td>\n",
       "      <td>-0.000000</td>\n",
       "      <td>1.164530</td>\n",
       "    </tr>\n",
       "    <tr>\n",
       "      <th>1207</th>\n",
       "      <td>2009-05-05 04:35:00</td>\n",
       "      <td>73.1220</td>\n",
       "      <td>73.1310</td>\n",
       "      <td>73.0675</td>\n",
       "      <td>73.1270</td>\n",
       "      <td>-1.0</td>\n",
       "      <td>AUDJPY</td>\n",
       "      <td>73.124</td>\n",
       "      <td>46.8</td>\n",
       "      <td>117.0</td>\n",
       "      <td>-0.005128</td>\n",
       "      <td>0.000000</td>\n",
       "      <td>0.241453</td>\n",
       "    </tr>\n",
       "    <tr>\n",
       "      <th>1208</th>\n",
       "      <td>2009-05-05 04:40:00</td>\n",
       "      <td>73.1300</td>\n",
       "      <td>73.1315</td>\n",
       "      <td>73.0495</td>\n",
       "      <td>73.1125</td>\n",
       "      <td>-1.0</td>\n",
       "      <td>AUDJPY</td>\n",
       "      <td>73.124</td>\n",
       "      <td>46.8</td>\n",
       "      <td>117.0</td>\n",
       "      <td>0.000000</td>\n",
       "      <td>0.049145</td>\n",
       "      <td>0.318376</td>\n",
       "    </tr>\n",
       "    <tr>\n",
       "      <th>1209</th>\n",
       "      <td>2009-05-05 04:45:00</td>\n",
       "      <td>73.1140</td>\n",
       "      <td>73.2605</td>\n",
       "      <td>73.1125</td>\n",
       "      <td>73.2465</td>\n",
       "      <td>-1.0</td>\n",
       "      <td>AUDJPY</td>\n",
       "      <td>73.124</td>\n",
       "      <td>46.8</td>\n",
       "      <td>117.0</td>\n",
       "      <td>-0.209402</td>\n",
       "      <td>0.000000</td>\n",
       "      <td>0.049145</td>\n",
       "    </tr>\n",
       "    <tr>\n",
       "      <th>1210</th>\n",
       "      <td>2009-05-05 04:50:00</td>\n",
       "      <td>73.2460</td>\n",
       "      <td>73.2665</td>\n",
       "      <td>73.1770</td>\n",
       "      <td>73.1790</td>\n",
       "      <td>-1.0</td>\n",
       "      <td>AUDJPY</td>\n",
       "      <td>73.124</td>\n",
       "      <td>46.8</td>\n",
       "      <td>117.0</td>\n",
       "      <td>-0.094017</td>\n",
       "      <td>0.000000</td>\n",
       "      <td>0.000000</td>\n",
       "    </tr>\n",
       "    <tr>\n",
       "      <th>1211</th>\n",
       "      <td>2009-05-05 04:55:00</td>\n",
       "      <td>73.1770</td>\n",
       "      <td>73.1790</td>\n",
       "      <td>73.0525</td>\n",
       "      <td>73.0645</td>\n",
       "      <td>-1.0</td>\n",
       "      <td>AUDJPY</td>\n",
       "      <td>73.124</td>\n",
       "      <td>46.8</td>\n",
       "      <td>117.0</td>\n",
       "      <td>0.000000</td>\n",
       "      <td>0.254274</td>\n",
       "      <td>0.305556</td>\n",
       "    </tr>\n",
       "    <tr>\n",
       "      <th>1212</th>\n",
       "      <td>2009-05-05 05:00:00</td>\n",
       "      <td>73.0625</td>\n",
       "      <td>73.0935</td>\n",
       "      <td>72.9885</td>\n",
       "      <td>73.0935</td>\n",
       "      <td>-1.0</td>\n",
       "      <td>AUDJPY</td>\n",
       "      <td>73.124</td>\n",
       "      <td>46.8</td>\n",
       "      <td>117.0</td>\n",
       "      <td>0.000000</td>\n",
       "      <td>0.130342</td>\n",
       "      <td>0.579060</td>\n",
       "    </tr>\n",
       "    <tr>\n",
       "      <th>1213</th>\n",
       "      <td>2009-05-05 05:05:00</td>\n",
       "      <td>73.0980</td>\n",
       "      <td>73.1810</td>\n",
       "      <td>73.0980</td>\n",
       "      <td>73.1695</td>\n",
       "      <td>-1.0</td>\n",
       "      <td>AUDJPY</td>\n",
       "      <td>73.124</td>\n",
       "      <td>46.8</td>\n",
       "      <td>117.0</td>\n",
       "      <td>-0.077778</td>\n",
       "      <td>0.000000</td>\n",
       "      <td>0.111111</td>\n",
       "    </tr>\n",
       "    <tr>\n",
       "      <th>1214</th>\n",
       "      <td>2009-05-05 05:10:00</td>\n",
       "      <td>73.1670</td>\n",
       "      <td>73.1680</td>\n",
       "      <td>73.0205</td>\n",
       "      <td>73.0730</td>\n",
       "      <td>-1.0</td>\n",
       "      <td>AUDJPY</td>\n",
       "      <td>73.124</td>\n",
       "      <td>46.8</td>\n",
       "      <td>117.0</td>\n",
       "      <td>0.000000</td>\n",
       "      <td>0.217949</td>\n",
       "      <td>0.442308</td>\n",
       "    </tr>\n",
       "    <tr>\n",
       "      <th>1215</th>\n",
       "      <td>2009-05-05 05:15:00</td>\n",
       "      <td>73.0720</td>\n",
       "      <td>73.0890</td>\n",
       "      <td>73.0275</td>\n",
       "      <td>73.0620</td>\n",
       "      <td>-1.0</td>\n",
       "      <td>AUDJPY</td>\n",
       "      <td>73.124</td>\n",
       "      <td>46.8</td>\n",
       "      <td>117.0</td>\n",
       "      <td>0.000000</td>\n",
       "      <td>0.264957</td>\n",
       "      <td>0.412393</td>\n",
       "    </tr>\n",
       "  </tbody>\n",
       "</table>\n",
       "</div>"
      ],
      "text/plain": [
       "                 Datetime     Open     High      Low    Close  Direction  \\\n",
       "1206  2009-05-05 04:30:00  72.8900  73.1480  72.8515  73.1240       -1.0   \n",
       "1207  2009-05-05 04:35:00  73.1220  73.1310  73.0675  73.1270       -1.0   \n",
       "1208  2009-05-05 04:40:00  73.1300  73.1315  73.0495  73.1125       -1.0   \n",
       "1209  2009-05-05 04:45:00  73.1140  73.2605  73.1125  73.2465       -1.0   \n",
       "1210  2009-05-05 04:50:00  73.2460  73.2665  73.1770  73.1790       -1.0   \n",
       "1211  2009-05-05 04:55:00  73.1770  73.1790  73.0525  73.0645       -1.0   \n",
       "1212  2009-05-05 05:00:00  73.0625  73.0935  72.9885  73.0935       -1.0   \n",
       "1213  2009-05-05 05:05:00  73.0980  73.1810  73.0980  73.1695       -1.0   \n",
       "1214  2009-05-05 05:10:00  73.1670  73.1680  73.0205  73.0730       -1.0   \n",
       "1215  2009-05-05 05:15:00  73.0720  73.0890  73.0275  73.0620       -1.0   \n",
       "\n",
       "      Ticker  Anchor  CandleSize  MaxRisk  Drawdown     RunUp    MRunUp  \n",
       "1206  AUDJPY  73.124        46.8    117.0 -0.000000 -0.000000  1.164530  \n",
       "1207  AUDJPY  73.124        46.8    117.0 -0.005128  0.000000  0.241453  \n",
       "1208  AUDJPY  73.124        46.8    117.0  0.000000  0.049145  0.318376  \n",
       "1209  AUDJPY  73.124        46.8    117.0 -0.209402  0.000000  0.049145  \n",
       "1210  AUDJPY  73.124        46.8    117.0 -0.094017  0.000000  0.000000  \n",
       "1211  AUDJPY  73.124        46.8    117.0  0.000000  0.254274  0.305556  \n",
       "1212  AUDJPY  73.124        46.8    117.0  0.000000  0.130342  0.579060  \n",
       "1213  AUDJPY  73.124        46.8    117.0 -0.077778  0.000000  0.111111  \n",
       "1214  AUDJPY  73.124        46.8    117.0  0.000000  0.217949  0.442308  \n",
       "1215  AUDJPY  73.124        46.8    117.0  0.000000  0.264957  0.412393  "
      ]
     },
     "execution_count": 23,
     "metadata": {},
     "output_type": "execute_result"
    }
   ],
   "source": [
    "## Represent it as a percentage format\n",
    "trades_concat.head(10)"
   ]
  },
  {
   "cell_type": "code",
   "execution_count": 24,
   "metadata": {},
   "outputs": [],
   "source": [
    "## Break the trades back into small pieces\n",
    "trades_ind = np.split(trades_concat, len(trades_concat) / 101)"
   ]
  },
  {
   "cell_type": "markdown",
   "metadata": {},
   "source": [
    "### See how many trades run up after the signal"
   ]
  },
  {
   "cell_type": "code",
   "execution_count": 25,
   "metadata": {},
   "outputs": [],
   "source": [
    "all_the_same = []\n",
    "close_over = []\n",
    "wick_to_close = []\n",
    "stop_outs = []\n",
    "close_and_wick = []\n",
    "\n",
    "## Filter any trades that are less than 10$\n",
    "\n",
    "for i, trade in enumerate(trades_ind):\n",
    "    \n",
    "    if trade.iloc[0, :].CandleSize >= 10:\n",
    "    \n",
    "        full_trade = trade.copy()\n",
    "        trade = trade.iloc[1:, :]\n",
    "\n",
    "        ## Get closing winners\n",
    "        idx_close = trade[trade.RunUp > 1].index.values\n",
    "        idx_close = min(idx_close) if len(idx_close) != 0 else 10e6\n",
    "\n",
    "        ## Get wicking winners\n",
    "        idx_wick = trade[trade.MRunUp > 1].index.values\n",
    "        idx_wick = min(idx_wick) if len(idx_wick) != 0 else 10e6\n",
    "\n",
    "        ## Get losers\n",
    "        idx_lost = trade[trade.Drawdown < -1].index.values\n",
    "        idx_lost = min(idx_lost) if len(idx_lost) != 0 else 10e6\n",
    "\n",
    "        ## Loser\n",
    "        if idx_lost < idx_close and idx_lost < idx_wick:\n",
    "            stop_outs.append(full_trade)\n",
    "        ## Close over\n",
    "        elif idx_close == idx_wick and idx_wick < idx_lost:\n",
    "            close_over.append(full_trade)\n",
    "        ## Wick closed\n",
    "        elif idx_wick < idx_close and idx_wick < idx_lost:\n",
    "            wick_to_close.append(full_trade)\n",
    "        elif idx_wick == idx_close and idx_wick == idx_lost:\n",
    "            all_the_same.append(full_trade)\n",
    "        elif idx_wick == idx_lost and idx_wick < idx_close:\n",
    "            close_and_wick.append(full_trade)\n",
    "        else:\n",
    "            print(idx_wick, idx_close, idx_lost)"
   ]
  },
  {
   "cell_type": "code",
   "execution_count": 26,
   "metadata": {},
   "outputs": [
    {
     "data": {
      "text/plain": [
       "23215"
      ]
     },
     "execution_count": 26,
     "metadata": {},
     "output_type": "execute_result"
    }
   ],
   "source": [
    "len(trades_ind)"
   ]
  },
  {
   "cell_type": "code",
   "execution_count": 27,
   "metadata": {},
   "outputs": [
    {
     "data": {
      "text/plain": [
       "2769"
      ]
     },
     "execution_count": 27,
     "metadata": {},
     "output_type": "execute_result"
    }
   ],
   "source": [
    "len(all_the_same)"
   ]
  },
  {
   "cell_type": "code",
   "execution_count": 28,
   "metadata": {},
   "outputs": [
    {
     "data": {
      "text/plain": [
       "10"
      ]
     },
     "execution_count": 28,
     "metadata": {},
     "output_type": "execute_result"
    }
   ],
   "source": [
    "len(close_and_wick)"
   ]
  },
  {
   "cell_type": "code",
   "execution_count": 29,
   "metadata": {},
   "outputs": [
    {
     "data": {
      "text/plain": [
       "3493"
      ]
     },
     "execution_count": 29,
     "metadata": {},
     "output_type": "execute_result"
    }
   ],
   "source": [
    "len(stop_outs)"
   ]
  },
  {
   "cell_type": "code",
   "execution_count": 30,
   "metadata": {},
   "outputs": [
    {
     "data": {
      "text/plain": [
       "6262"
      ]
     },
     "execution_count": 30,
     "metadata": {},
     "output_type": "execute_result"
    }
   ],
   "source": [
    "len(close_over)"
   ]
  },
  {
   "cell_type": "code",
   "execution_count": 31,
   "metadata": {},
   "outputs": [
    {
     "data": {
      "text/plain": [
       "6670"
      ]
     },
     "execution_count": 31,
     "metadata": {},
     "output_type": "execute_result"
    }
   ],
   "source": [
    "len(wick_to_close)"
   ]
  },
  {
   "cell_type": "code",
   "execution_count": 32,
   "metadata": {},
   "outputs": [],
   "source": [
    "## Look at the number of trades that go back under the the limit\n",
    "## Look at the distribution of the margin of closes"
   ]
  },
  {
   "cell_type": "markdown",
   "metadata": {},
   "source": [
    "### Check Sequences"
   ]
  },
  {
   "cell_type": "code",
   "execution_count": 27,
   "metadata": {},
   "outputs": [],
   "source": [
    "success = []\n",
    "loss = []\n",
    "stats = []\n",
    "for trade in trades_ind:\n",
    "    \n",
    "    max_risk = 1\n",
    "    init_time = trade.Datetime.values[0]\n",
    "    \n",
    "    for i, row in enumerate(trade.values[1:]):\n",
    "        \n",
    "        dt, open_, high, low, close, dir_, ticker, anchor, cs, mr, dd, ru, mru = row\n",
    "        \n",
    "        if cs < 10:\n",
    "            break\n",
    "        \n",
    "        if i == 19 or mru > 1:\n",
    "            max_risk = 0.5\n",
    "        \n",
    "        if ru > 1:\n",
    "            stats.append([init_time, trade.Ticker.values[0], ru, cs, 'Winner'])\n",
    "            break\n",
    "        elif dd < -max_risk:\n",
    "            stats.append([init_time, trade.Ticker.values[0], dd, cs, 'Loser'])\n",
    "            break"
   ]
  },
  {
   "cell_type": "code",
   "execution_count": 30,
   "metadata": {},
   "outputs": [],
   "source": [
    "seqs = pd.DataFrame(stats, columns = ['InitTime', 'Ticker', 'Realized', 'CandleSize', 'Type']).sort_values('InitTime', ascending=True)"
   ]
  },
  {
   "cell_type": "code",
   "execution_count": 51,
   "metadata": {},
   "outputs": [],
   "source": [
    "types = seqs.Type.values\n",
    "streak = 0\n",
    "streaks = [0]\n",
    "curr = types[0]\n",
    "\n",
    "for t in types[1:]:\n",
    "    \n",
    "    if t == curr:\n",
    "        streak += 1\n",
    "    else:\n",
    "        streak = 0\n",
    "        \n",
    "    curr = t\n",
    "    streaks.append(streak)\n",
    "seqs['Streak'] = streaks"
   ]
  },
  {
   "cell_type": "code",
   "execution_count": 124,
   "metadata": {},
   "outputs": [],
   "source": [
    "idc = seqs[(seqs.Streak == 1) & (seqs.Type == 'Loser')].index.values"
   ]
  },
  {
   "cell_type": "code",
   "execution_count": 125,
   "metadata": {},
   "outputs": [],
   "source": [
    "stats = []\n",
    "for idx in idc:\n",
    "    try:\n",
    "        stats.append(1 if seqs.loc[idx+1, 'Type'] == 'Winner' else 0)\n",
    "    except Exception as e:\n",
    "        print(e)"
   ]
  },
  {
   "cell_type": "code",
   "execution_count": 126,
   "metadata": {},
   "outputs": [
    {
     "data": {
      "text/plain": [
       "(0.627892030848329, 1556)"
      ]
     },
     "execution_count": 126,
     "metadata": {},
     "output_type": "execute_result"
    }
   ],
   "source": [
    "sum(stats) / len(stats), len(stats)"
   ]
  },
  {
   "cell_type": "markdown",
   "metadata": {},
   "source": [
    "### Check the next 10 Trades"
   ]
  },
  {
   "cell_type": "code",
   "execution_count": 127,
   "metadata": {},
   "outputs": [],
   "source": [
    "stats = []\n",
    "for idx in idc:\n",
    "    try:\n",
    "        tmp = []\n",
    "        for trade in seqs.loc[idx+1:idx+1+10, 'Type']:\n",
    "            tmp.append(1 if trade == 'Winner' else 0)\n",
    "        stats.append(tmp) if len(tmp) != 0 else None\n",
    "    except Exception as e:\n",
    "        print(e)"
   ]
  },
  {
   "cell_type": "code",
   "execution_count": 128,
   "metadata": {},
   "outputs": [],
   "source": [
    "stats = [sum(t) / len(t) for t in stats]"
   ]
  },
  {
   "cell_type": "code",
   "execution_count": 129,
   "metadata": {},
   "outputs": [
    {
     "data": {
      "image/png": "[encoded data removed]",
      "text/plain": [
       "<Figure size 432x288 with 1 Axes>"
      ]
     },
     "metadata": {
      "needs_background": "light"
     },
     "output_type": "display_data"
    }
   ],
   "source": [
    "plt.hist(stats, bins=100)\n",
    "plt.show()"
   ]
  },
  {
   "cell_type": "code",
   "execution_count": 143,
   "metadata": {},
   "outputs": [],
   "source": [
    "n_day_chunks = [seqs.Type[i-12:i].values for i in range(12, df.shape[0] + 12)]\n",
    "n_day_chunks = [[1 if t == 'Winner' else 0 for t in types] for types in n_day_chunks]\n",
    "n_day_chunks = [sum(t) / len(t) for t in n_day_chunks]"
   ]
  },
  {
   "cell_type": "code",
   "execution_count": 145,
   "metadata": {},
   "outputs": [
    {
     "data": {
      "image/png": "[encoded data removed]",
      "text/plain": [
       "<Figure size 432x288 with 1 Axes>"
      ]
     },
     "metadata": {
      "needs_background": "light"
     },
     "output_type": "display_data"
    }
   ],
   "source": [
    "plt.hist(stats, bins=100)\n",
    "plt.show()"
   ]
  },
  {
   "cell_type": "markdown",
   "metadata": {},
   "source": [
    "### Look at the distribution of candle sizes per category "
   ]
  },
  {
   "cell_type": "code",
   "execution_count": 33,
   "metadata": {},
   "outputs": [
    {
     "data": {
      "image/png": "[encoded data removed]",
      "text/plain": [
       "<Figure size 1440x1008 with 1 Axes>"
      ]
     },
     "metadata": {
      "needs_background": "light"
     },
     "output_type": "display_data"
    }
   ],
   "source": [
    "plt.figure(figsize=(20, 14))\n",
    "plt.hist([df.iloc[0, :].CandleSize for df in stop_outs], bins=100, label='Stop Outs')\n",
    "plt.hist([df.iloc[0, :].CandleSize for df in close_over], bins=100, label='Close Over')\n",
    "plt.hist([df.iloc[0, :].CandleSize for df in wick_to_close], bins=100, label='Wick To Close')\n",
    "plt.legend()\n",
    "plt.show()"
   ]
  },
  {
   "cell_type": "code",
   "execution_count": 34,
   "metadata": {},
   "outputs": [
    {
     "data": {
      "image/png": "[encoded data removed]",
      "text/plain": [
       "<Figure size 1440x1008 with 1 Axes>"
      ]
     },
     "metadata": {
      "needs_background": "light"
     },
     "output_type": "display_data"
    }
   ],
   "source": [
    "plt.figure(figsize=(20, 14))\n",
    "sns.kdeplot([df.iloc[0, :].CandleSize for df in stop_outs],label='Stop Outs')\n",
    "sns.kdeplot([df.iloc[0, :].CandleSize for df in close_over], label='Close Over')\n",
    "sns.kdeplot([df.iloc[0, :].CandleSize for df in wick_to_close], label='Wick To Close')\n",
    "plt.legend()\n",
    "plt.show()"
   ]
  },
  {
   "cell_type": "markdown",
   "metadata": {},
   "source": [
    "### Candle Sizes"
   ]
  },
  {
   "cell_type": "code",
   "execution_count": 35,
   "metadata": {},
   "outputs": [],
   "source": [
    "candles = [trade.iloc[0, :].CandleSize for trade in trades_ind]"
   ]
  },
  {
   "cell_type": "code",
   "execution_count": 36,
   "metadata": {},
   "outputs": [
    {
     "data": {
      "text/plain": [
       "count    23215.000000\n",
       "mean        28.592724\n",
       "std         38.953574\n",
       "min          0.000000\n",
       "25%         12.800000\n",
       "50%         21.800000\n",
       "75%         35.600000\n",
       "max       4029.200000\n",
       "dtype: float64"
      ]
     },
     "execution_count": 36,
     "metadata": {},
     "output_type": "execute_result"
    }
   ],
   "source": [
    "pd.Series(candles).describe()"
   ]
  },
  {
   "cell_type": "markdown",
   "metadata": {},
   "source": [
    "### Distribution of margins - On close over"
   ]
  },
  {
   "cell_type": "code",
   "execution_count": 37,
   "metadata": {},
   "outputs": [
    {
     "data": {
      "text/plain": [
       "6262"
      ]
     },
     "execution_count": 37,
     "metadata": {},
     "output_type": "execute_result"
    }
   ],
   "source": [
    "len(close_over)"
   ]
  },
  {
   "cell_type": "code",
   "execution_count": 38,
   "metadata": {},
   "outputs": [],
   "source": [
    "margins = []\n",
    "progressions = []\n",
    "\n",
    "for trade in close_over:\n",
    "    \n",
    "    idx = trade[trade.RunUp > 1].index.values[0]\n",
    "    margins.append(trade.loc[idx, :].RunUp - 1)\n",
    "    \n",
    "    progressions.append(trade.loc[idx:, :].RunUp.values.tolist())"
   ]
  },
  {
   "cell_type": "code",
   "execution_count": 39,
   "metadata": {},
   "outputs": [
    {
     "data": {
      "text/plain": [
       "100"
      ]
     },
     "execution_count": 39,
     "metadata": {},
     "output_type": "execute_result"
    }
   ],
   "source": [
    "max_size = max([len(prog) for prog in progressions])\n",
    "max_size"
   ]
  },
  {
   "cell_type": "code",
   "execution_count": 40,
   "metadata": {},
   "outputs": [],
   "source": [
    "candle_bins = []\n",
    "for i in range(100):\n",
    "    candle_bins.append([np.nan_to_num(prog[i]) for prog in progressions if len(prog) > i and prog[i] != np.inf])"
   ]
  },
  {
   "cell_type": "code",
   "execution_count": 41,
   "metadata": {},
   "outputs": [
    {
     "data": {
      "image/png": "[encoded data removed]",
      "text/plain": [
       "<Figure size 1440x1008 with 1 Axes>"
      ]
     },
     "metadata": {
      "needs_background": "light"
     },
     "output_type": "display_data"
    }
   ],
   "source": [
    "plt.figure(figsize=(20, 14))\n",
    "plt.ylim(0, 10)\n",
    "plt.boxplot(candle_bins)\n",
    "plt.show()"
   ]
  },
  {
   "cell_type": "markdown",
   "metadata": {},
   "source": [
    "### Check for those that close over, the ROC of the next candle"
   ]
  },
  {
   "cell_type": "code",
   "execution_count": 42,
   "metadata": {},
   "outputs": [],
   "source": [
    "candles = []\n",
    "rocs = []\n",
    "\n",
    "for trade in close_over:\n",
    "    \n",
    "    idx = trade[trade.RunUp > 1].index.values[0]\n",
    "    closer = trade.loc[idx, :].RunUp\n",
    "    try:\n",
    "        next_candle = trade.loc[idx:idx+2, :].RunUp\n",
    "        roc = (next_candle.mean() - closer) / closer\n",
    "        candles.append(closer)\n",
    "        rocs.append(roc)\n",
    "    except:\n",
    "        pass"
   ]
  },
  {
   "cell_type": "code",
   "execution_count": 43,
   "metadata": {},
   "outputs": [],
   "source": [
    "df = pd.DataFrame(list(zip(candles, rocs)), columns = ['Candle', 'ROC'])"
   ]
  },
  {
   "cell_type": "code",
   "execution_count": 44,
   "metadata": {},
   "outputs": [
    {
     "data": {
      "text/html": [
       "<div>\n",
       "<style scoped>\n",
       "    .dataframe tbody tr th:only-of-type {\n",
       "        vertical-align: middle;\n",
       "    }\n",
       "\n",
       "    .dataframe tbody tr th {\n",
       "        vertical-align: top;\n",
       "    }\n",
       "\n",
       "    .dataframe thead th {\n",
       "        text-align: right;\n",
       "    }\n",
       "</style>\n",
       "<table border=\"1\" class=\"dataframe\">\n",
       "  <thead>\n",
       "    <tr style=\"text-align: right;\">\n",
       "      <th></th>\n",
       "      <th>Candle</th>\n",
       "      <th>ROC</th>\n",
       "    </tr>\n",
       "  </thead>\n",
       "  <tbody>\n",
       "    <tr>\n",
       "      <th>Candle</th>\n",
       "      <td>1.000000</td>\n",
       "      <td>0.018687</td>\n",
       "    </tr>\n",
       "    <tr>\n",
       "      <th>ROC</th>\n",
       "      <td>0.018687</td>\n",
       "      <td>1.000000</td>\n",
       "    </tr>\n",
       "  </tbody>\n",
       "</table>\n",
       "</div>"
      ],
      "text/plain": [
       "          Candle       ROC\n",
       "Candle  1.000000  0.018687\n",
       "ROC     0.018687  1.000000"
      ]
     },
     "execution_count": 44,
     "metadata": {},
     "output_type": "execute_result"
    }
   ],
   "source": [
    "df.corr()"
   ]
  },
  {
   "cell_type": "code",
   "execution_count": 45,
   "metadata": {},
   "outputs": [
    {
     "data": {
      "text/plain": [
       "<matplotlib.axes._subplots.AxesSubplot at 0x1d885ceb630>"
      ]
     },
     "execution_count": 45,
     "metadata": {},
     "output_type": "execute_result"
    },
    {
     "data": {
      "image/png": "[encoded data removed]",
      "text/plain": [
       "<Figure size 432x288 with 1 Axes>"
      ]
     },
     "metadata": {
      "needs_background": "light"
     },
     "output_type": "display_data"
    }
   ],
   "source": [
    "sns.kdeplot(df[df.Candle >= 1.5].ROC)\n",
    "sns.kdeplot(df.ROC)"
   ]
  },
  {
   "cell_type": "markdown",
   "metadata": {},
   "source": [
    "### Check how many of those that wick to close get stopped out "
   ]
  },
  {
   "cell_type": "code",
   "execution_count": 46,
   "metadata": {},
   "outputs": [],
   "source": [
    "stop_before = []\n",
    "close_before = []\n",
    "all_the_same = []\n",
    "\n",
    "for trade in wick_to_close:\n",
    "    \n",
    "    full_trade = trade.copy()\n",
    "    trade = trade.iloc[1:, :]\n",
    "    \n",
    "    idx_wick = trade[trade.MRunUp > 1].index.values[0]\n",
    "    trade = trade.loc[idx_wick:, :]\n",
    "    \n",
    "    idx_close = trade[trade.RunUp > 1].index.values\n",
    "    idx_close = min(idx_close) if len(idx_close) != 0 else 10e6\n",
    "    \n",
    "    idx_lost = trade[trade.Drawdown < -0.5].index.values\n",
    "    idx_lost = min(idx_lost) if len(idx_lost) != 0 else 10e6\n",
    "    \n",
    "    if idx_lost < idx_close:\n",
    "        \n",
    "        stop_before.append(full_trade)\n",
    "    \n",
    "    elif idx_close < idx_lost:\n",
    "        \n",
    "        close_before.append(full_trade)\n",
    "    \n",
    "    else:\n",
    "        \n",
    "        all_the_same.append(full_trade)"
   ]
  },
  {
   "cell_type": "code",
   "execution_count": 47,
   "metadata": {},
   "outputs": [
    {
     "data": {
      "text/plain": [
       "6670"
      ]
     },
     "execution_count": 47,
     "metadata": {},
     "output_type": "execute_result"
    }
   ],
   "source": [
    "len(wick_to_close)"
   ]
  },
  {
   "cell_type": "code",
   "execution_count": 48,
   "metadata": {},
   "outputs": [
    {
     "data": {
      "text/plain": [
       "(926, 5323, 421)"
      ]
     },
     "execution_count": 48,
     "metadata": {},
     "output_type": "execute_result"
    }
   ],
   "source": [
    "len(stop_before), len(close_before), len(all_the_same)"
   ]
  },
  {
   "cell_type": "code",
   "execution_count": 49,
   "metadata": {},
   "outputs": [
    {
     "data": {
      "text/plain": [
       "6670"
      ]
     },
     "execution_count": 49,
     "metadata": {},
     "output_type": "execute_result"
    }
   ],
   "source": [
    "len(wick_to_close)"
   ]
  },
  {
   "cell_type": "markdown",
   "metadata": {},
   "source": [
    "### Get the average margins"
   ]
  },
  {
   "cell_type": "code",
   "execution_count": 50,
   "metadata": {},
   "outputs": [],
   "source": [
    "margins = []\n",
    "\n",
    "for trade in close_before:\n",
    "    \n",
    "    idx_close = trade[trade.RunUp > 1].index.values[0]\n",
    "    margins.append(trade.loc[idx_close, :].RunUp)\n",
    "    \n",
    "for trade in close_and_wick:\n",
    "    idx_close = trade[trade.RunUp < 1].index.values[0]\n",
    "    margins.append(trade.loc[idx_close, :].RunUp)"
   ]
  },
  {
   "cell_type": "code",
   "execution_count": 51,
   "metadata": {},
   "outputs": [
    {
     "data": {
      "text/plain": [
       "count    5333.000000\n",
       "mean        1.247091\n",
       "std         0.501525\n",
       "min        -0.000000\n",
       "25%         1.059801\n",
       "50%         1.146597\n",
       "75%         1.301496\n",
       "max        17.547619\n",
       "dtype: float64"
      ]
     },
     "execution_count": 51,
     "metadata": {},
     "output_type": "execute_result"
    }
   ],
   "source": [
    "pd.Series(margins).describe()"
   ]
  },
  {
   "cell_type": "code",
   "execution_count": 52,
   "metadata": {},
   "outputs": [],
   "source": [
    "lower = np.quantile(margins, 0.01)\n",
    "upper = np.quantile(margins, 0.99)"
   ]
  },
  {
   "cell_type": "code",
   "execution_count": 53,
   "metadata": {},
   "outputs": [],
   "source": [
    "margins = pd.Series(margins)"
   ]
  },
  {
   "cell_type": "code",
   "execution_count": 54,
   "metadata": {},
   "outputs": [],
   "source": [
    "margins = margins[(margins >= lower) & (margins <= upper)]"
   ]
  },
  {
   "cell_type": "code",
   "execution_count": 55,
   "metadata": {},
   "outputs": [
    {
     "data": {
      "text/plain": [
       "count    5225.000000\n",
       "mean        1.221564\n",
       "std         0.231505\n",
       "min         1.003589\n",
       "25%         1.061136\n",
       "50%         1.146597\n",
       "75%         1.295580\n",
       "max         2.453901\n",
       "dtype: float64"
      ]
     },
     "execution_count": 55,
     "metadata": {},
     "output_type": "execute_result"
    }
   ],
   "source": [
    "margins.describe()"
   ]
  },
  {
   "cell_type": "code",
   "execution_count": 56,
   "metadata": {},
   "outputs": [],
   "source": [
    "### Average margin we make for letting it close it 22%"
   ]
  },
  {
   "cell_type": "code",
   "execution_count": 57,
   "metadata": {},
   "outputs": [],
   "source": [
    "### For those that wick above, we take a 50% smaller loss than usual.\n",
    "### The ones that do close under are only 14% of the trades."
   ]
  },
  {
   "cell_type": "markdown",
   "metadata": {},
   "source": [
    "### Downside margin"
   ]
  },
  {
   "cell_type": "code",
   "execution_count": 58,
   "metadata": {},
   "outputs": [],
   "source": [
    "margins = []\n",
    "for trade in stop_outs:\n",
    "    idx_close = trade[trade.Drawdown < -1].index.values[0]\n",
    "    margins.append(trade.loc[idx_close, :].Drawdown)"
   ]
  },
  {
   "cell_type": "code",
   "execution_count": 59,
   "metadata": {},
   "outputs": [],
   "source": [
    "half_margins = []\n",
    "for trade in stop_before:\n",
    "    \n",
    "    full_trade = trade.copy()\n",
    "    trade = trade.iloc[1:, :]\n",
    "    \n",
    "    idx_wick = trade[trade.MRunUp > 1].index.values[0]\n",
    "    trade = trade.loc[idx_wick:, :]\n",
    "    \n",
    "    idx_wick = trade[trade.Drawdown < -0.5].index.values[0]\n",
    "    half_margins.append(trade.loc[idx_wick, :].Drawdown)"
   ]
  },
  {
   "cell_type": "code",
   "execution_count": 60,
   "metadata": {},
   "outputs": [
    {
     "data": {
      "text/plain": [
       "926"
      ]
     },
     "execution_count": 60,
     "metadata": {},
     "output_type": "execute_result"
    }
   ],
   "source": [
    "len(half_margins)"
   ]
  },
  {
   "cell_type": "code",
   "execution_count": 61,
   "metadata": {},
   "outputs": [],
   "source": [
    "margins = pd.Series(margins)\n",
    "half_margins = pd.Series(half_margins)"
   ]
  },
  {
   "cell_type": "code",
   "execution_count": 62,
   "metadata": {},
   "outputs": [
    {
     "data": {
      "text/plain": [
       "count    3493.000000\n",
       "mean       -1.157796\n",
       "std         0.327364\n",
       "min        -8.410909\n",
       "25%        -1.172571\n",
       "50%        -1.081728\n",
       "75%        -1.034965\n",
       "max        -1.000000\n",
       "dtype: float64"
      ]
     },
     "execution_count": 62,
     "metadata": {},
     "output_type": "execute_result"
    }
   ],
   "source": [
    "margins.describe()"
   ]
  },
  {
   "cell_type": "code",
   "execution_count": 63,
   "metadata": {},
   "outputs": [],
   "source": [
    "lower = np.quantile(margins, 0.01)\n",
    "upper = np.quantile(margins, 0.99)\n",
    "margins = margins[(margins >= lower) & (margins <= upper)]"
   ]
  },
  {
   "cell_type": "code",
   "execution_count": 64,
   "metadata": {},
   "outputs": [
    {
     "data": {
      "text/plain": [
       "count    3423.000000\n",
       "mean       -1.135731\n",
       "std         0.164552\n",
       "min        -2.308370\n",
       "25%        -1.169504\n",
       "50%        -1.081728\n",
       "75%        -1.035940\n",
       "max        -1.001113\n",
       "dtype: float64"
      ]
     },
     "execution_count": 64,
     "metadata": {},
     "output_type": "execute_result"
    }
   ],
   "source": [
    "margins.describe()"
   ]
  },
  {
   "cell_type": "code",
   "execution_count": 65,
   "metadata": {},
   "outputs": [
    {
     "data": {
      "text/plain": [
       "count    926.000000\n",
       "mean      -0.639790\n",
       "std        0.215295\n",
       "min       -4.215707\n",
       "25%       -0.671418\n",
       "50%       -0.582448\n",
       "75%       -0.534742\n",
       "max       -0.500334\n",
       "dtype: float64"
      ]
     },
     "execution_count": 65,
     "metadata": {},
     "output_type": "execute_result"
    }
   ],
   "source": [
    "half_margins.describe()"
   ]
  },
  {
   "cell_type": "code",
   "execution_count": 66,
   "metadata": {},
   "outputs": [],
   "source": [
    "lower = np.quantile(half_margins, 0.01)\n",
    "upper = np.quantile(half_margins, 0.99)\n",
    "half_margins = half_margins[(half_margins >= lower) & (half_margins <= upper)]"
   ]
  },
  {
   "cell_type": "code",
   "execution_count": 67,
   "metadata": {},
   "outputs": [
    {
     "data": {
      "text/plain": [
       "count    906.000000\n",
       "mean      -0.626509\n",
       "std        0.133861\n",
       "min       -1.328926\n",
       "25%       -0.669196\n",
       "50%       -0.582448\n",
       "75%       -0.535342\n",
       "max       -0.501667\n",
       "dtype: float64"
      ]
     },
     "execution_count": 67,
     "metadata": {},
     "output_type": "execute_result"
    }
   ],
   "source": [
    "half_margins.describe()"
   ]
  },
  {
   "cell_type": "markdown",
   "metadata": {},
   "source": [
    "### Determine if you sell on close OR hold under certain conditions"
   ]
  },
  {
   "cell_type": "code",
   "execution_count": 68,
   "metadata": {},
   "outputs": [],
   "source": [
    "progs = []\n",
    "candle_sizes = []\n",
    "\n",
    "for trade in close_over:\n",
    "    \n",
    "    idx_close = trade[trade.RunUp > 1].index.values[0]\n",
    "    trade = trade.loc[idx_close:, :]\n",
    "    \n",
    "    candle_sizes.append(trade.RunUp.values[0])\n",
    "    progs.append((trade.RunUp.pct_change() + 1).cumprod())"
   ]
  },
  {
   "cell_type": "code",
   "execution_count": 69,
   "metadata": {},
   "outputs": [],
   "source": [
    "max_5_progs = [np.mean(np.nan_to_num(p[1:15])) for p in progs if len(p) > 1]\n",
    "candle_sizes_5 = [cs for p, cs in zip(progs, candle_sizes) if len(p) > 1]"
   ]
  },
  {
   "cell_type": "code",
   "execution_count": 70,
   "metadata": {},
   "outputs": [
    {
     "data": {
      "image/png": "[encoded data removed]",
      "text/plain": [
       "<Figure size 1440x576 with 1 Axes>"
      ]
     },
     "metadata": {
      "needs_background": "light"
     },
     "output_type": "display_data"
    }
   ],
   "source": [
    "plt.figure(figsize=(20, 8))\n",
    "plt.scatter(candle_sizes_5, max_5_progs)\n",
    "plt.xlabel('Initial Close')\n",
    "plt.ylabel('Max Progression')\n",
    "plt.axhline(1)\n",
    "plt.show()"
   ]
  },
  {
   "cell_type": "code",
   "execution_count": 71,
   "metadata": {},
   "outputs": [],
   "source": [
    "## I dont think there's anything much we can do at this point.\n",
    "## Maybe we develop something afterwards that gets more profit if we see it through. E.v of 60c is great."
   ]
  },
  {
   "cell_type": "markdown",
   "metadata": {},
   "source": [
    "### Check the average TTC of each of the trades"
   ]
  },
  {
   "cell_type": "code",
   "execution_count": 103,
   "metadata": {},
   "outputs": [],
   "source": [
    "ttcs_close_over = []\n",
    "for trade in close_over:\n",
    "    \n",
    "    idx_close = trade[trade.RunUp > 1].index.values[0]\n",
    "    ttcs_close_over.append(trade.loc[:idx_close, :].shape[0] - 1)"
   ]
  },
  {
   "cell_type": "code",
   "execution_count": 81,
   "metadata": {},
   "outputs": [],
   "source": [
    "ttcs_close_before = []\n",
    "for trade in close_before:\n",
    "    \n",
    "    idx_close = trade[trade.RunUp > 1].index.values[0]\n",
    "    ttcs_close_before.append(trade.loc[:idx_close, :].shape[0] - 1)"
   ]
  },
  {
   "cell_type": "code",
   "execution_count": 82,
   "metadata": {},
   "outputs": [],
   "source": [
    "ttcs_stop_out = []\n",
    "for trade in stop_outs:\n",
    "    idx_close = trade[trade.Drawdown < -1].index.values[0]\n",
    "    ttcs_stop_out.append(trade.loc[:idx_close, :].shape[0] - 1)"
   ]
  },
  {
   "cell_type": "code",
   "execution_count": 96,
   "metadata": {},
   "outputs": [],
   "source": [
    "ttcs_stop_before = []\n",
    "for trade in stop_before:\n",
    "    \n",
    "    full_trade = trade.copy()\n",
    "    trade = trade.iloc[1:, :]\n",
    "    \n",
    "    idx_wick = trade[trade.MRunUp > 1].index.values[0]\n",
    "    trade = trade.loc[idx_wick:, :]\n",
    "    try:\n",
    "        idx_close = trade[trade.Drawdown < -0.5].index.values[0]\n",
    "        ttcs_stop_before.append(full_trade.loc[:idx_close, :].shape[0] - 1)\n",
    "    except Exception as e:\n",
    "        pass"
   ]
  },
  {
   "cell_type": "code",
   "execution_count": 104,
   "metadata": {},
   "outputs": [
    {
     "data": {
      "image/png": "[encoded data removed]",
      "text/plain": [
       "<Figure size 1440x1008 with 1 Axes>"
      ]
     },
     "metadata": {
      "needs_background": "light"
     },
     "output_type": "display_data"
    }
   ],
   "source": [
    "plt.figure(figsize=(20, 14))\n",
    "plt.boxplot([ttcs_close_over, ttcs_close_before, ttcs_stop_out, ttcs_stop_before])\n",
    "plt.show()"
   ]
  },
  {
   "cell_type": "markdown",
   "metadata": {},
   "source": [
    "### Check the average drawdown of those after 20 ttc"
   ]
  },
  {
   "cell_type": "code",
   "execution_count": 170,
   "metadata": {},
   "outputs": [],
   "source": [
    "ttc_thold = 20"
   ]
  },
  {
   "cell_type": "code",
   "execution_count": 171,
   "metadata": {},
   "outputs": [],
   "source": [
    "close_over_drawdowns = []\n",
    "for trade in close_over:\n",
    "    \n",
    "    idx_close = trade[trade.RunUp > 1].index.values[0]\n",
    "    close_over_drawdowns.append(trade.loc[trade.index.values[0]+ttc_thold:idx_close, :].Drawdown.values.tolist())"
   ]
  },
  {
   "cell_type": "code",
   "execution_count": 172,
   "metadata": {},
   "outputs": [
    {
     "data": {
      "image/png": "[encoded data removed]",
      "text/plain": [
       "<Figure size 432x288 with 1 Axes>"
      ]
     },
     "metadata": {
      "needs_background": "light"
     },
     "output_type": "display_data"
    }
   ],
   "source": [
    "close_over_dds_flat = [item for sublist in close_over_drawdowns for item in sublist]\n",
    "plt.boxplot(close_over_dds_flat)\n",
    "plt.show()"
   ]
  },
  {
   "cell_type": "code",
   "execution_count": 173,
   "metadata": {},
   "outputs": [],
   "source": [
    "lost = []\n",
    "remains = []\n",
    "for trade in close_over_drawdowns:\n",
    "    \n",
    "    if len(trade) != 0:\n",
    "        \n",
    "        trade = np.array(trade)\n",
    "        \n",
    "        if trade[trade < -0.5].shape[0] != 0:\n",
    "            lost.append(trade)"
   ]
  },
  {
   "cell_type": "code",
   "execution_count": 174,
   "metadata": {},
   "outputs": [
    {
     "data": {
      "text/plain": [
       "368"
      ]
     },
     "execution_count": 174,
     "metadata": {},
     "output_type": "execute_result"
    }
   ],
   "source": [
    "len(lost)"
   ]
  },
  {
   "cell_type": "code",
   "execution_count": 148,
   "metadata": {},
   "outputs": [],
   "source": [
    "ttcs_close_before_drawdown = []\n",
    "for trade in close_before:\n",
    "    \n",
    "    idx_close = trade[trade.RunUp > 1].index.values[0]\n",
    "    ttcs_close_before_drawdown.append(trade.loc[trade.index.values[0]+ttc_thold:idx_close, :].Drawdown.values.tolist())"
   ]
  },
  {
   "cell_type": "code",
   "execution_count": 149,
   "metadata": {},
   "outputs": [
    {
     "data": {
      "image/png": "[encoded data removed]",
      "text/plain": [
       "<Figure size 432x288 with 1 Axes>"
      ]
     },
     "metadata": {
      "needs_background": "light"
     },
     "output_type": "display_data"
    }
   ],
   "source": [
    "close_before_dds_flat = [item for sublist in ttcs_close_before_drawdown for item in sublist]\n",
    "plt.boxplot(close_before_dds_flat)\n",
    "plt.show()"
   ]
  },
  {
   "cell_type": "code",
   "execution_count": null,
   "metadata": {},
   "outputs": [],
   "source": [
    "lost = []\n",
    "remains = []\n",
    "for trade in close_over_drawdowns:\n",
    "    \n",
    "    if len(trade) != 0:\n",
    "        \n",
    "        trade = np.array(trade)\n",
    "        \n",
    "        if trade[trade < -0.5].shape[0] != 0:\n",
    "            lost.append(trade)"
   ]
  },
  {
   "cell_type": "markdown",
   "metadata": {},
   "source": [
    "### Stop outs"
   ]
  },
  {
   "cell_type": "code",
   "execution_count": 166,
   "metadata": {},
   "outputs": [],
   "source": [
    "stop_out_dds = []\n",
    "for trade in stop_outs:\n",
    "    \n",
    "    idx_close = trade[trade.Drawdown < -1].index.values[0]\n",
    "    trade = trade.loc[trade.index.values[0] + 20 : idx_close, :]\n",
    "    \n",
    "    stop_out_dds.append(trade.Drawdown.values.tolist())"
   ]
  },
  {
   "cell_type": "code",
   "execution_count": 167,
   "metadata": {},
   "outputs": [
    {
     "data": {
      "text/plain": [
       "2121"
      ]
     },
     "execution_count": 167,
     "metadata": {},
     "output_type": "execute_result"
    }
   ],
   "source": [
    "len([d for d in stop_out_dds if len(d) != 0])"
   ]
  },
  {
   "cell_type": "code",
   "execution_count": 169,
   "metadata": {},
   "outputs": [
    {
     "data": {
      "text/plain": [
       "0.6072144288577155"
      ]
     },
     "execution_count": 169,
     "metadata": {},
     "output_type": "execute_result"
    }
   ],
   "source": [
    "2121 / len(stop_out_dds)"
   ]
  },
  {
   "cell_type": "code",
   "execution_count": 175,
   "metadata": {},
   "outputs": [
    {
     "data": {
      "text/plain": [
       "(3493, 2121)"
      ]
     },
     "execution_count": 175,
     "metadata": {},
     "output_type": "execute_result"
    }
   ],
   "source": [
    "len(stop_out_dds), 2121"
   ]
  },
  {
   "cell_type": "code",
   "execution_count": 176,
   "metadata": {},
   "outputs": [
    {
     "data": {
      "text/plain": [
       "(368, 6262)"
      ]
     },
     "execution_count": 176,
     "metadata": {},
     "output_type": "execute_result"
    }
   ],
   "source": [
    "368, len(close_over)"
   ]
  },
  {
   "cell_type": "markdown",
   "metadata": {},
   "source": [
    "### Test set results "
   ]
  },
  {
   "cell_type": "code",
   "execution_count": 130,
   "metadata": {},
   "outputs": [
    {
     "name": "stdout",
     "output_type": "stream",
     "text": [
      "AUDJPY\n"
     ]
    },
    {
     "name": "stderr",
     "output_type": "stream",
     "text": [
      "C:\\Users\\Zach\\Anaconda3\\envs\\tf\\lib\\site-packages\\ipykernel_launcher.py:7: SettingWithCopyWarning: \n",
      "A value is trying to be set on a copy of a slice from a DataFrame.\n",
      "Try using .loc[row_indexer,col_indexer] = value instead\n",
      "\n",
      "See the caveats in the documentation: http://pandas.pydata.org/pandas-docs/stable/indexing.html#indexing-view-versus-copy\n",
      "  import sys\n",
      "C:\\Users\\Zach\\Anaconda3\\envs\\tf\\lib\\site-packages\\ipykernel_launcher.py:14: SettingWithCopyWarning: \n",
      "A value is trying to be set on a copy of a slice from a DataFrame.\n",
      "Try using .loc[row_indexer,col_indexer] = value instead\n",
      "\n",
      "See the caveats in the documentation: http://pandas.pydata.org/pandas-docs/stable/indexing.html#indexing-view-versus-copy\n",
      "  \n"
     ]
    },
    {
     "name": "stdout",
     "output_type": "stream",
     "text": [
      "AUDNZD\n",
      "AUDUSD\n",
      "CADJPY\n",
      "CHFJPY\n",
      "EURCHF\n",
      "EURGBP\n",
      "EURJPY\n",
      "EURUSD\n",
      "GBPJPY\n",
      "GBPUSD\n",
      "NZDUSD\n",
      "USDCAD\n",
      "USDCHF\n",
      "USDJPY\n"
     ]
    }
   ],
   "source": [
    "main = []\n",
    "for ticker in tickers:\n",
    "    print(ticker)\n",
    "    \n",
    "    ## Get the raw\n",
    "    raw = tickers[ticker][['Datetime', 'Open', 'High', 'Low', 'Close']]\n",
    "    raw['Ticker'] = ticker\n",
    "    \n",
    "    ## Get the trades\n",
    "    trades = test[test.Ticker == ticker].sort_values('Datetime')\n",
    "    raw_trades = raw[raw.Datetime.isin(trades.Datetime.values)]\n",
    "    dts = raw_trades.Datetime.values\n",
    "    directions = trades[trades.Datetime.isin(dts)].Direction\n",
    "    raw_trades['Direction'] = directions\n",
    "    \n",
    "    ## Get the candle progressions\n",
    "    idc = raw_trades.index.values\n",
    "    idc = [np.arange(idx, idx+101).tolist() for idx in idc]\n",
    "    dfs = [raw.iloc[idx, :] for idx in idc if idx[-1] in raw.index.values]\n",
    "    [df.insert(5, 'Direction', dir_) for df, dir_ in zip(dfs, directions)]\n",
    "    \n",
    "    ## Extend to main\n",
    "    main.extend(dfs)"
   ]
  },
  {
   "cell_type": "code",
   "execution_count": 131,
   "metadata": {},
   "outputs": [],
   "source": [
    "## Sanity check over all trades\n",
    "for df in main:\n",
    "    if df.Datetime.values[0] not in test.Datetime.values and df.Direction.values[0] != -1 * np.sign(df.Close.values[0] - df.Open.values[0]):\n",
    "        1/0"
   ]
  },
  {
   "cell_type": "code",
   "execution_count": 132,
   "metadata": {},
   "outputs": [],
   "source": [
    "for df in main:\n",
    "    if df.Direction.nunique() != 1:\n",
    "        1/0"
   ]
  },
  {
   "cell_type": "code",
   "execution_count": 146,
   "metadata": {},
   "outputs": [],
   "source": [
    "## No error means we have the first candle of every trade"
   ]
  },
  {
   "cell_type": "markdown",
   "metadata": {},
   "source": [
    "### Calculate the drawdowns and candle sizes for each of the dataframes"
   ]
  },
  {
   "cell_type": "code",
   "execution_count": 147,
   "metadata": {},
   "outputs": [],
   "source": [
    "trades_concat = pd.concat(main, axis=0)"
   ]
  },
  {
   "cell_type": "code",
   "execution_count": 148,
   "metadata": {},
   "outputs": [],
   "source": [
    "## Compute the candle size values\n",
    "trades_concat['Anchor'] = np.array([[trades_concat.Close.values[i]]*101 for i in range(0, len(trades_concat), 101)]).reshape(-1, )\n",
    "trades_concat['CandleSize'] = abs(np.array([[trades_concat.Close.values[i] - trades_concat.Open.values[i]]*101 for i in range(0, len(trades_concat), 101)]).reshape(-1, ))\n",
    "trades_concat['CandleSize'] = [cs / tick_increments[ticker] for cs, ticker in zip(trades_concat.CandleSize, trades_concat.Ticker)]"
   ]
  },
  {
   "cell_type": "code",
   "execution_count": 149,
   "metadata": {},
   "outputs": [],
   "source": [
    "## Compute the max risk per trade\n",
    "trades_concat['MaxRisk'] = trades_concat.CandleSize.values * 2.5"
   ]
  },
  {
   "cell_type": "code",
   "execution_count": 150,
   "metadata": {},
   "outputs": [
    {
     "data": {
      "text/html": [
       "<div>\n",
       "<style scoped>\n",
       "    .dataframe tbody tr th:only-of-type {\n",
       "        vertical-align: middle;\n",
       "    }\n",
       "\n",
       "    .dataframe tbody tr th {\n",
       "        vertical-align: top;\n",
       "    }\n",
       "\n",
       "    .dataframe thead th {\n",
       "        text-align: right;\n",
       "    }\n",
       "</style>\n",
       "<table border=\"1\" class=\"dataframe\">\n",
       "  <thead>\n",
       "    <tr style=\"text-align: right;\">\n",
       "      <th></th>\n",
       "      <th>Datetime</th>\n",
       "      <th>Open</th>\n",
       "      <th>High</th>\n",
       "      <th>Low</th>\n",
       "      <th>Close</th>\n",
       "      <th>Direction</th>\n",
       "      <th>Ticker</th>\n",
       "      <th>Anchor</th>\n",
       "      <th>CandleSize</th>\n",
       "      <th>MaxRisk</th>\n",
       "    </tr>\n",
       "  </thead>\n",
       "  <tbody>\n",
       "    <tr>\n",
       "      <th>1122</th>\n",
       "      <td>2009-05-04 21:30:00</td>\n",
       "      <td>73.0385</td>\n",
       "      <td>73.2385</td>\n",
       "      <td>73.0385</td>\n",
       "      <td>73.2365</td>\n",
       "      <td>-1.0</td>\n",
       "      <td>AUDJPY</td>\n",
       "      <td>73.2365</td>\n",
       "      <td>39.6</td>\n",
       "      <td>99.0</td>\n",
       "    </tr>\n",
       "    <tr>\n",
       "      <th>1123</th>\n",
       "      <td>2009-05-04 21:35:00</td>\n",
       "      <td>73.2390</td>\n",
       "      <td>73.2445</td>\n",
       "      <td>73.2095</td>\n",
       "      <td>73.2150</td>\n",
       "      <td>-1.0</td>\n",
       "      <td>AUDJPY</td>\n",
       "      <td>73.2365</td>\n",
       "      <td>39.6</td>\n",
       "      <td>99.0</td>\n",
       "    </tr>\n",
       "    <tr>\n",
       "      <th>1124</th>\n",
       "      <td>2009-05-04 21:40:00</td>\n",
       "      <td>73.2125</td>\n",
       "      <td>73.2220</td>\n",
       "      <td>73.2005</td>\n",
       "      <td>73.2220</td>\n",
       "      <td>-1.0</td>\n",
       "      <td>AUDJPY</td>\n",
       "      <td>73.2365</td>\n",
       "      <td>39.6</td>\n",
       "      <td>99.0</td>\n",
       "    </tr>\n",
       "    <tr>\n",
       "      <th>1125</th>\n",
       "      <td>2009-05-04 21:45:00</td>\n",
       "      <td>73.2205</td>\n",
       "      <td>73.2205</td>\n",
       "      <td>73.1795</td>\n",
       "      <td>73.1860</td>\n",
       "      <td>-1.0</td>\n",
       "      <td>AUDJPY</td>\n",
       "      <td>73.2365</td>\n",
       "      <td>39.6</td>\n",
       "      <td>99.0</td>\n",
       "    </tr>\n",
       "    <tr>\n",
       "      <th>1126</th>\n",
       "      <td>2009-05-04 21:50:00</td>\n",
       "      <td>73.1860</td>\n",
       "      <td>73.2330</td>\n",
       "      <td>73.1860</td>\n",
       "      <td>73.2285</td>\n",
       "      <td>-1.0</td>\n",
       "      <td>AUDJPY</td>\n",
       "      <td>73.2365</td>\n",
       "      <td>39.6</td>\n",
       "      <td>99.0</td>\n",
       "    </tr>\n",
       "  </tbody>\n",
       "</table>\n",
       "</div>"
      ],
      "text/plain": [
       "                 Datetime     Open     High      Low    Close  Direction  \\\n",
       "1122  2009-05-04 21:30:00  73.0385  73.2385  73.0385  73.2365       -1.0   \n",
       "1123  2009-05-04 21:35:00  73.2390  73.2445  73.2095  73.2150       -1.0   \n",
       "1124  2009-05-04 21:40:00  73.2125  73.2220  73.2005  73.2220       -1.0   \n",
       "1125  2009-05-04 21:45:00  73.2205  73.2205  73.1795  73.1860       -1.0   \n",
       "1126  2009-05-04 21:50:00  73.1860  73.2330  73.1860  73.2285       -1.0   \n",
       "\n",
       "      Ticker   Anchor  CandleSize  MaxRisk  \n",
       "1122  AUDJPY  73.2365        39.6     99.0  \n",
       "1123  AUDJPY  73.2365        39.6     99.0  \n",
       "1124  AUDJPY  73.2365        39.6     99.0  \n",
       "1125  AUDJPY  73.2365        39.6     99.0  \n",
       "1126  AUDJPY  73.2365        39.6     99.0  "
      ]
     },
     "execution_count": 150,
     "metadata": {},
     "output_type": "execute_result"
    }
   ],
   "source": [
    "## Compute the drawdown or run up for each trade\n",
    "trades_concat.head()"
   ]
  },
  {
   "cell_type": "code",
   "execution_count": 151,
   "metadata": {},
   "outputs": [],
   "source": [
    "drawdowns = (trades_concat.Direction * (trades_concat.Close - trades_concat.Anchor)).values\n",
    "drawdowns[drawdowns > 0] = 0\n",
    "trades_concat['Drawdown'] = drawdowns\n",
    "trades_concat['Drawdown'] = [dd / tick_increments[ticker] for dd, ticker in zip(trades_concat.Drawdown, trades_concat.Ticker)]"
   ]
  },
  {
   "cell_type": "code",
   "execution_count": 152,
   "metadata": {},
   "outputs": [],
   "source": [
    "runups = (trades_concat.Direction * (trades_concat.Close - trades_concat.Anchor)).values\n",
    "runups[runups < 0] = 0\n",
    "trades_concat['RunUp'] = runups\n",
    "trades_concat['RunUp'] = [ru / tick_increments[ticker] for ru, ticker in zip(trades_concat.RunUp, trades_concat.Ticker)]"
   ]
  },
  {
   "cell_type": "code",
   "execution_count": 153,
   "metadata": {},
   "outputs": [],
   "source": [
    "longs = (trades_concat.High - trades_concat.Anchor).values\n",
    "shorts = (trades_concat.Anchor - trades_concat.Low).values"
   ]
  },
  {
   "cell_type": "code",
   "execution_count": 154,
   "metadata": {},
   "outputs": [],
   "source": [
    "max_runup = [max(0, longs[i]) if dir_ == 1 else max(0, shorts[i]) for i, dir_ in enumerate(trades_concat.Direction.values)]\n",
    "trades_concat['MRunUp'] = max_runup\n",
    "trades_concat['MRunUp'] = [mru / tick_increments[ticker] for mru, ticker in zip(trades_concat.MRunUp, trades_concat.Ticker)]"
   ]
  },
  {
   "cell_type": "code",
   "execution_count": 155,
   "metadata": {},
   "outputs": [],
   "source": [
    "trades_concat['Drawdown'] = trades_concat.Drawdown / trades_concat.MaxRisk\n",
    "trades_concat['RunUp'] = trades_concat.RunUp / trades_concat.CandleSize\n",
    "trades_concat['MRunUp'] = trades_concat.MRunUp / trades_concat.CandleSize"
   ]
  },
  {
   "cell_type": "code",
   "execution_count": 156,
   "metadata": {},
   "outputs": [
    {
     "data": {
      "text/html": [
       "<div>\n",
       "<style scoped>\n",
       "    .dataframe tbody tr th:only-of-type {\n",
       "        vertical-align: middle;\n",
       "    }\n",
       "\n",
       "    .dataframe tbody tr th {\n",
       "        vertical-align: top;\n",
       "    }\n",
       "\n",
       "    .dataframe thead th {\n",
       "        text-align: right;\n",
       "    }\n",
       "</style>\n",
       "<table border=\"1\" class=\"dataframe\">\n",
       "  <thead>\n",
       "    <tr style=\"text-align: right;\">\n",
       "      <th></th>\n",
       "      <th>Datetime</th>\n",
       "      <th>Open</th>\n",
       "      <th>High</th>\n",
       "      <th>Low</th>\n",
       "      <th>Close</th>\n",
       "      <th>Direction</th>\n",
       "      <th>Ticker</th>\n",
       "      <th>Anchor</th>\n",
       "      <th>CandleSize</th>\n",
       "      <th>MaxRisk</th>\n",
       "      <th>Drawdown</th>\n",
       "      <th>RunUp</th>\n",
       "      <th>MRunUp</th>\n",
       "    </tr>\n",
       "  </thead>\n",
       "  <tbody>\n",
       "    <tr>\n",
       "      <th>1122</th>\n",
       "      <td>2009-05-04 21:30:00</td>\n",
       "      <td>73.0385</td>\n",
       "      <td>73.2385</td>\n",
       "      <td>73.0385</td>\n",
       "      <td>73.2365</td>\n",
       "      <td>-1.0</td>\n",
       "      <td>AUDJPY</td>\n",
       "      <td>73.2365</td>\n",
       "      <td>39.6</td>\n",
       "      <td>99.0</td>\n",
       "      <td>-0.000000</td>\n",
       "      <td>-0.000000</td>\n",
       "      <td>1.000000</td>\n",
       "    </tr>\n",
       "    <tr>\n",
       "      <th>1123</th>\n",
       "      <td>2009-05-04 21:35:00</td>\n",
       "      <td>73.2390</td>\n",
       "      <td>73.2445</td>\n",
       "      <td>73.2095</td>\n",
       "      <td>73.2150</td>\n",
       "      <td>-1.0</td>\n",
       "      <td>AUDJPY</td>\n",
       "      <td>73.2365</td>\n",
       "      <td>39.6</td>\n",
       "      <td>99.0</td>\n",
       "      <td>0.000000</td>\n",
       "      <td>0.108586</td>\n",
       "      <td>0.136364</td>\n",
       "    </tr>\n",
       "    <tr>\n",
       "      <th>1124</th>\n",
       "      <td>2009-05-04 21:40:00</td>\n",
       "      <td>73.2125</td>\n",
       "      <td>73.2220</td>\n",
       "      <td>73.2005</td>\n",
       "      <td>73.2220</td>\n",
       "      <td>-1.0</td>\n",
       "      <td>AUDJPY</td>\n",
       "      <td>73.2365</td>\n",
       "      <td>39.6</td>\n",
       "      <td>99.0</td>\n",
       "      <td>0.000000</td>\n",
       "      <td>0.073232</td>\n",
       "      <td>0.181818</td>\n",
       "    </tr>\n",
       "    <tr>\n",
       "      <th>1125</th>\n",
       "      <td>2009-05-04 21:45:00</td>\n",
       "      <td>73.2205</td>\n",
       "      <td>73.2205</td>\n",
       "      <td>73.1795</td>\n",
       "      <td>73.1860</td>\n",
       "      <td>-1.0</td>\n",
       "      <td>AUDJPY</td>\n",
       "      <td>73.2365</td>\n",
       "      <td>39.6</td>\n",
       "      <td>99.0</td>\n",
       "      <td>0.000000</td>\n",
       "      <td>0.255051</td>\n",
       "      <td>0.287879</td>\n",
       "    </tr>\n",
       "    <tr>\n",
       "      <th>1126</th>\n",
       "      <td>2009-05-04 21:50:00</td>\n",
       "      <td>73.1860</td>\n",
       "      <td>73.2330</td>\n",
       "      <td>73.1860</td>\n",
       "      <td>73.2285</td>\n",
       "      <td>-1.0</td>\n",
       "      <td>AUDJPY</td>\n",
       "      <td>73.2365</td>\n",
       "      <td>39.6</td>\n",
       "      <td>99.0</td>\n",
       "      <td>0.000000</td>\n",
       "      <td>0.040404</td>\n",
       "      <td>0.255051</td>\n",
       "    </tr>\n",
       "    <tr>\n",
       "      <th>1127</th>\n",
       "      <td>2009-05-04 21:55:00</td>\n",
       "      <td>73.2260</td>\n",
       "      <td>73.2935</td>\n",
       "      <td>73.2135</td>\n",
       "      <td>73.2935</td>\n",
       "      <td>-1.0</td>\n",
       "      <td>AUDJPY</td>\n",
       "      <td>73.2365</td>\n",
       "      <td>39.6</td>\n",
       "      <td>99.0</td>\n",
       "      <td>-0.115152</td>\n",
       "      <td>0.000000</td>\n",
       "      <td>0.116162</td>\n",
       "    </tr>\n",
       "    <tr>\n",
       "      <th>1128</th>\n",
       "      <td>2009-05-04 22:00:00</td>\n",
       "      <td>73.2930</td>\n",
       "      <td>73.3515</td>\n",
       "      <td>73.2920</td>\n",
       "      <td>73.3515</td>\n",
       "      <td>-1.0</td>\n",
       "      <td>AUDJPY</td>\n",
       "      <td>73.2365</td>\n",
       "      <td>39.6</td>\n",
       "      <td>99.0</td>\n",
       "      <td>-0.232323</td>\n",
       "      <td>0.000000</td>\n",
       "      <td>0.000000</td>\n",
       "    </tr>\n",
       "    <tr>\n",
       "      <th>1129</th>\n",
       "      <td>2009-05-04 22:05:00</td>\n",
       "      <td>73.3525</td>\n",
       "      <td>73.3640</td>\n",
       "      <td>73.3305</td>\n",
       "      <td>73.3515</td>\n",
       "      <td>-1.0</td>\n",
       "      <td>AUDJPY</td>\n",
       "      <td>73.2365</td>\n",
       "      <td>39.6</td>\n",
       "      <td>99.0</td>\n",
       "      <td>-0.232323</td>\n",
       "      <td>0.000000</td>\n",
       "      <td>0.000000</td>\n",
       "    </tr>\n",
       "    <tr>\n",
       "      <th>1130</th>\n",
       "      <td>2009-05-04 22:10:00</td>\n",
       "      <td>73.3520</td>\n",
       "      <td>73.3545</td>\n",
       "      <td>73.3020</td>\n",
       "      <td>73.3175</td>\n",
       "      <td>-1.0</td>\n",
       "      <td>AUDJPY</td>\n",
       "      <td>73.2365</td>\n",
       "      <td>39.6</td>\n",
       "      <td>99.0</td>\n",
       "      <td>-0.163636</td>\n",
       "      <td>0.000000</td>\n",
       "      <td>0.000000</td>\n",
       "    </tr>\n",
       "    <tr>\n",
       "      <th>1131</th>\n",
       "      <td>2009-05-04 22:15:00</td>\n",
       "      <td>73.3180</td>\n",
       "      <td>73.3210</td>\n",
       "      <td>73.2350</td>\n",
       "      <td>73.2845</td>\n",
       "      <td>-1.0</td>\n",
       "      <td>AUDJPY</td>\n",
       "      <td>73.2365</td>\n",
       "      <td>39.6</td>\n",
       "      <td>99.0</td>\n",
       "      <td>-0.096970</td>\n",
       "      <td>0.000000</td>\n",
       "      <td>0.007576</td>\n",
       "    </tr>\n",
       "  </tbody>\n",
       "</table>\n",
       "</div>"
      ],
      "text/plain": [
       "                 Datetime     Open     High      Low    Close  Direction  \\\n",
       "1122  2009-05-04 21:30:00  73.0385  73.2385  73.0385  73.2365       -1.0   \n",
       "1123  2009-05-04 21:35:00  73.2390  73.2445  73.2095  73.2150       -1.0   \n",
       "1124  2009-05-04 21:40:00  73.2125  73.2220  73.2005  73.2220       -1.0   \n",
       "1125  2009-05-04 21:45:00  73.2205  73.2205  73.1795  73.1860       -1.0   \n",
       "1126  2009-05-04 21:50:00  73.1860  73.2330  73.1860  73.2285       -1.0   \n",
       "1127  2009-05-04 21:55:00  73.2260  73.2935  73.2135  73.2935       -1.0   \n",
       "1128  2009-05-04 22:00:00  73.2930  73.3515  73.2920  73.3515       -1.0   \n",
       "1129  2009-05-04 22:05:00  73.3525  73.3640  73.3305  73.3515       -1.0   \n",
       "1130  2009-05-04 22:10:00  73.3520  73.3545  73.3020  73.3175       -1.0   \n",
       "1131  2009-05-04 22:15:00  73.3180  73.3210  73.2350  73.2845       -1.0   \n",
       "\n",
       "      Ticker   Anchor  CandleSize  MaxRisk  Drawdown     RunUp    MRunUp  \n",
       "1122  AUDJPY  73.2365        39.6     99.0 -0.000000 -0.000000  1.000000  \n",
       "1123  AUDJPY  73.2365        39.6     99.0  0.000000  0.108586  0.136364  \n",
       "1124  AUDJPY  73.2365        39.6     99.0  0.000000  0.073232  0.181818  \n",
       "1125  AUDJPY  73.2365        39.6     99.0  0.000000  0.255051  0.287879  \n",
       "1126  AUDJPY  73.2365        39.6     99.0  0.000000  0.040404  0.255051  \n",
       "1127  AUDJPY  73.2365        39.6     99.0 -0.115152  0.000000  0.116162  \n",
       "1128  AUDJPY  73.2365        39.6     99.0 -0.232323  0.000000  0.000000  \n",
       "1129  AUDJPY  73.2365        39.6     99.0 -0.232323  0.000000  0.000000  \n",
       "1130  AUDJPY  73.2365        39.6     99.0 -0.163636  0.000000  0.000000  \n",
       "1131  AUDJPY  73.2365        39.6     99.0 -0.096970  0.000000  0.007576  "
      ]
     },
     "execution_count": 156,
     "metadata": {},
     "output_type": "execute_result"
    }
   ],
   "source": [
    "## Represent it as a percentage format\n",
    "trades_concat.head(10)"
   ]
  },
  {
   "cell_type": "code",
   "execution_count": 157,
   "metadata": {},
   "outputs": [],
   "source": [
    "## Break the trades back into small pieces\n",
    "trades_ind = np.split(trades_concat, len(trades_concat) / 101)"
   ]
  },
  {
   "cell_type": "code",
   "execution_count": 203,
   "metadata": {},
   "outputs": [],
   "source": [
    "success = []\n",
    "loss = []\n",
    "for trade in trades_ind:\n",
    "    \n",
    "    max_risk = 1\n",
    "    \n",
    "    for i, row in enumerate(trade.values[1:]):\n",
    "        \n",
    "        dt, open_, high, low, close, dir_, ticker, anchor, cs, mr, dd, ru, mru = row\n",
    "        \n",
    "        if cs < 10:\n",
    "            break\n",
    "        \n",
    "        if i == 19 or mru > 1:\n",
    "            max_risk = 0.5\n",
    "        \n",
    "        if ru > 1:\n",
    "            success.append(ru)\n",
    "            break\n",
    "        elif dd < -max_risk:\n",
    "            loss.append(dd)\n",
    "            break"
   ]
  },
  {
   "cell_type": "code",
   "execution_count": 205,
   "metadata": {},
   "outputs": [
    {
     "data": {
      "text/plain": [
       "(10806, 6630, 0.6197522367515486)"
      ]
     },
     "execution_count": 205,
     "metadata": {},
     "output_type": "execute_result"
    }
   ],
   "source": [
    "len(success), len(loss), len(success) / (len(success) + len(loss))"
   ]
  },
  {
   "cell_type": "code",
   "execution_count": 218,
   "metadata": {},
   "outputs": [
    {
     "data": {
      "text/plain": [
       "136999.5653600663"
      ]
     },
     "execution_count": 218,
     "metadata": {},
     "output_type": "execute_result"
    }
   ],
   "source": [
    "100 * (len(success) * np.mean(success) + len(loss) * (2.5*np.mean(loss)))"
   ]
  },
  {
   "cell_type": "markdown",
   "metadata": {},
   "source": [
    "### Check Sequences"
   ]
  },
  {
   "cell_type": "code",
   "execution_count": 158,
   "metadata": {},
   "outputs": [],
   "source": [
    "success = []\n",
    "loss = []\n",
    "stats = []\n",
    "for trade in trades_ind:\n",
    "    \n",
    "    max_risk = 1\n",
    "    init_time = trade.Datetime.values[0]\n",
    "    \n",
    "    for i, row in enumerate(trade.values[1:]):\n",
    "        \n",
    "        dt, open_, high, low, close, dir_, ticker, anchor, cs, mr, dd, ru, mru = row\n",
    "        \n",
    "        if cs < 10:\n",
    "            break\n",
    "        \n",
    "        if i == 19 or mru > 1:\n",
    "            max_risk = 0.5\n",
    "        \n",
    "        if ru > 1:\n",
    "            stats.append([init_time, trade.Ticker.values[0], ru, cs, 'Winner'])\n",
    "            break\n",
    "        elif dd < -max_risk:\n",
    "            stats.append([init_time, trade.Ticker.values[0], dd, cs, 'Loser'])\n",
    "            break"
   ]
  },
  {
   "cell_type": "code",
   "execution_count": 159,
   "metadata": {},
   "outputs": [],
   "source": [
    "seqs = pd.DataFrame(stats, columns = ['InitTime', 'Ticker', 'Realized', 'CandleSize', 'Type']).sort_values('InitTime', ascending=True)"
   ]
  },
  {
   "cell_type": "code",
   "execution_count": 160,
   "metadata": {},
   "outputs": [],
   "source": [
    "types = seqs.Type.values\n",
    "streak = 0\n",
    "streaks = [0]\n",
    "curr = types[0]\n",
    "\n",
    "for t in types[1:]:\n",
    "    \n",
    "    if t == curr:\n",
    "        streak += 1\n",
    "    else:\n",
    "        streak = 0\n",
    "        \n",
    "    curr = t\n",
    "    streaks.append(streak)\n",
    "seqs['Streak'] = streaks"
   ]
  },
  {
   "cell_type": "code",
   "execution_count": 161,
   "metadata": {},
   "outputs": [],
   "source": [
    "idc = seqs[(seqs.Streak == 1) & (seqs.Type == 'Loser')].index.values"
   ]
  },
  {
   "cell_type": "code",
   "execution_count": 162,
   "metadata": {},
   "outputs": [],
   "source": [
    "stats = []\n",
    "for idx in idc:\n",
    "    try:\n",
    "        stats.append(1 if seqs.loc[idx+1, 'Type'] == 'Winner' else 0)\n",
    "    except Exception as e:\n",
    "        print(e)"
   ]
  },
  {
   "cell_type": "code",
   "execution_count": 163,
   "metadata": {},
   "outputs": [
    {
     "data": {
      "text/plain": [
       "(0.6195856873822976, 1593)"
      ]
     },
     "execution_count": 163,
     "metadata": {},
     "output_type": "execute_result"
    }
   ],
   "source": [
    "sum(stats) / len(stats), len(stats)"
   ]
  },
  {
   "cell_type": "markdown",
   "metadata": {},
   "source": [
    "### Check the next 10 Trades"
   ]
  },
  {
   "cell_type": "code",
   "execution_count": 164,
   "metadata": {},
   "outputs": [
    {
     "name": "stdout",
     "output_type": "stream",
     "text": [
      "17436\n"
     ]
    }
   ],
   "source": [
    "stats = []\n",
    "for idx in idc:\n",
    "    try:\n",
    "        tmp = []\n",
    "        for trade in seqs.loc[idx+1:idx+1+10, 'Type']:\n",
    "            tmp.append(1 if trade == 'Winner' else 0)\n",
    "        stats.append(tmp) if len(tmp) != 0 else None\n",
    "    except Exception as e:\n",
    "        print(e)"
   ]
  },
  {
   "cell_type": "code",
   "execution_count": 165,
   "metadata": {},
   "outputs": [],
   "source": [
    "stats = [sum(t) / len(t) for t in stats]"
   ]
  },
  {
   "cell_type": "code",
   "execution_count": 166,
   "metadata": {},
   "outputs": [
    {
     "data": {
      "image/png": "[encoded data removed]",
      "text/plain": [
       "<Figure size 432x288 with 1 Axes>"
      ]
     },
     "metadata": {
      "needs_background": "light"
     },
     "output_type": "display_data"
    }
   ],
   "source": [
    "plt.hist(stats, bins=100)\n",
    "plt.show()"
   ]
  },
  {
   "cell_type": "code",
   "execution_count": 167,
   "metadata": {},
   "outputs": [],
   "source": [
    "n_day_chunks = [seqs.Type[i-12:i].values for i in range(12, df.shape[0] + 12)]\n",
    "n_day_chunks = [[1 if t == 'Winner' else 0 for t in types] for types in n_day_chunks]\n",
    "n_day_chunks = [sum(t) / len(t) for t in n_day_chunks]"
   ]
  },
  {
   "cell_type": "code",
   "execution_count": 168,
   "metadata": {},
   "outputs": [
    {
     "data": {
      "image/png": "[encoded data removed]",
      "text/plain": [
       "<Figure size 432x288 with 1 Axes>"
      ]
     },
     "metadata": {
      "needs_background": "light"
     },
     "output_type": "display_data"
    }
   ],
   "source": [
    "plt.hist(stats, bins=100)\n",
    "plt.show()"
   ]
  },
  {
   "cell_type": "code",
   "execution_count": null,
   "metadata": {},
   "outputs": [],
   "source": []
  }
 ],
 "metadata": {
  "kernelspec": {
   "display_name": "tf",
   "language": "python",
   "name": "tf"
  },
  "language_info": {
   "codemirror_mode": {
    "name": "ipython",
    "version": 3
   },
   "file_extension": ".py",
   "mimetype": "text/x-python",
   "name": "python",
   "nbconvert_exporter": "python",
   "pygments_lexer": "ipython3",
   "version": "3.6.8"
  }
 },
 "nbformat": 4,
 "nbformat_minor": 4
}
