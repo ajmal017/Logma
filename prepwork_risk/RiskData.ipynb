{
 "cells": [
  {
   "cell_type": "code",
   "execution_count": 1,
   "metadata": {},
   "outputs": [],
   "source": [
    "from IPython.display import clear_output\n",
    "\n",
    "import matplotlib.pyplot as plt\n",
    "import seaborn as sns\n",
    "\n",
    "import joblib\n",
    "import pandas as pd\n",
    "import numpy as np\n",
    "import sys, os"
   ]
  },
  {
   "cell_type": "markdown",
   "metadata": {},
   "source": [
    "### Tick Values"
   ]
  },
  {
   "cell_type": "code",
   "execution_count": 2,
   "metadata": {},
   "outputs": [],
   "source": [
    "## Tick Increments\n",
    "tick_increments = {\n",
    "    \"EURCHF\" : 0.00005,\n",
    "    \"USDCHF\" : 0.00005,\n",
    "    \"GBPUSD\" : 0.00005,\n",
    "    \"USDJPY\" : 0.005,\n",
    "    \"EURUSD\" : 0.00005,\n",
    "    \"EURGBP\" : 0.00005,\n",
    "    \"NZDUSD\" : 0.00005,\n",
    "    \"USDCAD\" : 0.00005,\n",
    "    \"EURJPY\" : 0.005,\n",
    "    \"AUDUSD\" : 0.00005,\n",
    "    \"GBPJPY\" : 0.005,\n",
    "    \"CHFJPY\" : 0.005,\n",
    "    \"AUDNZD\" : 0.00005,\n",
    "    \"CADJPY\" : 0.005\n",
    "}\n",
    "tick_increments = {key : value / 5 for key, value in tick_increments.items()}\n",
    "tick_value = 10"
   ]
  },
  {
   "cell_type": "markdown",
   "metadata": {},
   "source": [
    "### Trade data"
   ]
  },
  {
   "cell_type": "code",
   "execution_count": 3,
   "metadata": {},
   "outputs": [],
   "source": [
    "trades = pd.read_csv(\"D:/AlgoMLData/AddTrades/EURJPY_trades.csv\")\n",
    "raw = pd.read_csv(\"D:/TickData_Agg/EURJPY.csv\")"
   ]
  },
  {
   "cell_type": "code",
   "execution_count": 4,
   "metadata": {},
   "outputs": [
    {
     "data": {
      "text/html": [
       "<div>\n",
       "<style scoped>\n",
       "    .dataframe tbody tr th:only-of-type {\n",
       "        vertical-align: middle;\n",
       "    }\n",
       "\n",
       "    .dataframe tbody tr th {\n",
       "        vertical-align: top;\n",
       "    }\n",
       "\n",
       "    .dataframe thead th {\n",
       "        text-align: right;\n",
       "    }\n",
       "</style>\n",
       "<table border=\"1\" class=\"dataframe\">\n",
       "  <thead>\n",
       "    <tr style=\"text-align: right;\">\n",
       "      <th></th>\n",
       "      <th>TTC</th>\n",
       "      <th>Drawdown</th>\n",
       "      <th>Datetime</th>\n",
       "      <th>Direction</th>\n",
       "      <th>sig20</th>\n",
       "      <th>sig30</th>\n",
       "      <th>sig50</th>\n",
       "    </tr>\n",
       "  </thead>\n",
       "  <tbody>\n",
       "    <tr>\n",
       "      <th>0</th>\n",
       "      <td>5.0</td>\n",
       "      <td>-0.0455</td>\n",
       "      <td>2009-05-01 05:00:00</td>\n",
       "      <td>-1.0</td>\n",
       "      <td>1</td>\n",
       "      <td>1</td>\n",
       "      <td>1</td>\n",
       "    </tr>\n",
       "    <tr>\n",
       "      <th>1</th>\n",
       "      <td>94.0</td>\n",
       "      <td>-0.7015</td>\n",
       "      <td>2009-05-01 06:30:00</td>\n",
       "      <td>-1.0</td>\n",
       "      <td>0</td>\n",
       "      <td>1</td>\n",
       "      <td>1</td>\n",
       "    </tr>\n",
       "    <tr>\n",
       "      <th>2</th>\n",
       "      <td>8.0</td>\n",
       "      <td>-0.0925</td>\n",
       "      <td>2009-05-01 19:25:00</td>\n",
       "      <td>1.0</td>\n",
       "      <td>0</td>\n",
       "      <td>1</td>\n",
       "      <td>0</td>\n",
       "    </tr>\n",
       "    <tr>\n",
       "      <th>3</th>\n",
       "      <td>1.0</td>\n",
       "      <td>-0.0050</td>\n",
       "      <td>2009-05-03 21:10:00</td>\n",
       "      <td>1.0</td>\n",
       "      <td>1</td>\n",
       "      <td>1</td>\n",
       "      <td>1</td>\n",
       "    </tr>\n",
       "    <tr>\n",
       "      <th>4</th>\n",
       "      <td>1.0</td>\n",
       "      <td>-0.0065</td>\n",
       "      <td>2009-05-03 21:15:00</td>\n",
       "      <td>1.0</td>\n",
       "      <td>0</td>\n",
       "      <td>1</td>\n",
       "      <td>1</td>\n",
       "    </tr>\n",
       "  </tbody>\n",
       "</table>\n",
       "</div>"
      ],
      "text/plain": [
       "    TTC  Drawdown             Datetime  Direction  sig20  sig30  sig50\n",
       "0   5.0   -0.0455  2009-05-01 05:00:00       -1.0      1      1      1\n",
       "1  94.0   -0.7015  2009-05-01 06:30:00       -1.0      0      1      1\n",
       "2   8.0   -0.0925  2009-05-01 19:25:00        1.0      0      1      0\n",
       "3   1.0   -0.0050  2009-05-03 21:10:00        1.0      1      1      1\n",
       "4   1.0   -0.0065  2009-05-03 21:15:00        1.0      0      1      1"
      ]
     },
     "execution_count": 4,
     "metadata": {},
     "output_type": "execute_result"
    }
   ],
   "source": [
    "trades.head()"
   ]
  },
  {
   "cell_type": "code",
   "execution_count": 5,
   "metadata": {},
   "outputs": [
    {
     "data": {
      "text/html": [
       "<div>\n",
       "<style scoped>\n",
       "    .dataframe tbody tr th:only-of-type {\n",
       "        vertical-align: middle;\n",
       "    }\n",
       "\n",
       "    .dataframe tbody tr th {\n",
       "        vertical-align: top;\n",
       "    }\n",
       "\n",
       "    .dataframe thead th {\n",
       "        text-align: right;\n",
       "    }\n",
       "</style>\n",
       "<table border=\"1\" class=\"dataframe\">\n",
       "  <thead>\n",
       "    <tr style=\"text-align: right;\">\n",
       "      <th></th>\n",
       "      <th>Datetime</th>\n",
       "      <th>Open</th>\n",
       "      <th>High</th>\n",
       "      <th>Low</th>\n",
       "      <th>Close</th>\n",
       "      <th>Volume</th>\n",
       "      <th>Ticks</th>\n",
       "      <th>VWAP</th>\n",
       "    </tr>\n",
       "  </thead>\n",
       "  <tbody>\n",
       "    <tr>\n",
       "      <th>0</th>\n",
       "      <td>2009-05-01 00:00:00</td>\n",
       "      <td>130.9760</td>\n",
       "      <td>131.0950</td>\n",
       "      <td>130.9440</td>\n",
       "      <td>131.0505</td>\n",
       "      <td>74151.2890</td>\n",
       "      <td>566</td>\n",
       "      <td>131.009345</td>\n",
       "    </tr>\n",
       "    <tr>\n",
       "      <th>1</th>\n",
       "      <td>2009-05-01 00:05:00</td>\n",
       "      <td>131.0535</td>\n",
       "      <td>131.4305</td>\n",
       "      <td>131.0405</td>\n",
       "      <td>131.3770</td>\n",
       "      <td>94067.1770</td>\n",
       "      <td>717</td>\n",
       "      <td>131.195505</td>\n",
       "    </tr>\n",
       "    <tr>\n",
       "      <th>2</th>\n",
       "      <td>2009-05-01 00:10:00</td>\n",
       "      <td>131.3790</td>\n",
       "      <td>131.4225</td>\n",
       "      <td>131.1780</td>\n",
       "      <td>131.2285</td>\n",
       "      <td>135518.1670</td>\n",
       "      <td>1032</td>\n",
       "      <td>131.316053</td>\n",
       "    </tr>\n",
       "    <tr>\n",
       "      <th>3</th>\n",
       "      <td>2009-05-01 00:15:00</td>\n",
       "      <td>131.2295</td>\n",
       "      <td>131.2295</td>\n",
       "      <td>131.0595</td>\n",
       "      <td>131.0660</td>\n",
       "      <td>75935.1990</td>\n",
       "      <td>579</td>\n",
       "      <td>131.148876</td>\n",
       "    </tr>\n",
       "    <tr>\n",
       "      <th>4</th>\n",
       "      <td>2009-05-01 00:20:00</td>\n",
       "      <td>131.0690</td>\n",
       "      <td>131.2985</td>\n",
       "      <td>131.0395</td>\n",
       "      <td>131.2930</td>\n",
       "      <td>80666.4725</td>\n",
       "      <td>615</td>\n",
       "      <td>131.164996</td>\n",
       "    </tr>\n",
       "  </tbody>\n",
       "</table>\n",
       "</div>"
      ],
      "text/plain": [
       "              Datetime      Open      High       Low     Close       Volume  \\\n",
       "0  2009-05-01 00:00:00  130.9760  131.0950  130.9440  131.0505   74151.2890   \n",
       "1  2009-05-01 00:05:00  131.0535  131.4305  131.0405  131.3770   94067.1770   \n",
       "2  2009-05-01 00:10:00  131.3790  131.4225  131.1780  131.2285  135518.1670   \n",
       "3  2009-05-01 00:15:00  131.2295  131.2295  131.0595  131.0660   75935.1990   \n",
       "4  2009-05-01 00:20:00  131.0690  131.2985  131.0395  131.2930   80666.4725   \n",
       "\n",
       "   Ticks        VWAP  \n",
       "0    566  131.009345  \n",
       "1    717  131.195505  \n",
       "2   1032  131.316053  \n",
       "3    579  131.148876  \n",
       "4    615  131.164996  "
      ]
     },
     "execution_count": 5,
     "metadata": {},
     "output_type": "execute_result"
    }
   ],
   "source": [
    "raw.head()"
   ]
  },
  {
   "cell_type": "markdown",
   "metadata": {},
   "source": [
    "### Filter all model trades"
   ]
  },
  {
   "cell_type": "code",
   "execution_count": 6,
   "metadata": {},
   "outputs": [],
   "source": [
    "scaled = pd.read_csv(\"D:/AlgoMLData/Scaled/EURJPY_scaled.csv\")"
   ]
  },
  {
   "cell_type": "code",
   "execution_count": 7,
   "metadata": {},
   "outputs": [
    {
     "data": {
      "text/html": [
       "<div>\n",
       "<style scoped>\n",
       "    .dataframe tbody tr th:only-of-type {\n",
       "        vertical-align: middle;\n",
       "    }\n",
       "\n",
       "    .dataframe tbody tr th {\n",
       "        vertical-align: top;\n",
       "    }\n",
       "\n",
       "    .dataframe thead th {\n",
       "        text-align: right;\n",
       "    }\n",
       "</style>\n",
       "<table border=\"1\" class=\"dataframe\">\n",
       "  <thead>\n",
       "    <tr style=\"text-align: right;\">\n",
       "      <th></th>\n",
       "      <th>TTC</th>\n",
       "      <th>Drawdown</th>\n",
       "      <th>Datetime</th>\n",
       "      <th>Direction</th>\n",
       "      <th>sig20</th>\n",
       "      <th>sig30</th>\n",
       "      <th>sig50</th>\n",
       "      <th>Change</th>\n",
       "      <th>LongVol</th>\n",
       "      <th>ShortVol</th>\n",
       "      <th>...</th>\n",
       "      <th>ShortKurtosis</th>\n",
       "      <th>LongProg</th>\n",
       "      <th>ShortProg</th>\n",
       "      <th>LongApproximateEntropy</th>\n",
       "      <th>ShortApproximateEntropy</th>\n",
       "      <th>LongSpectralEntropy</th>\n",
       "      <th>LongAutocorrelation</th>\n",
       "      <th>ShortAutocorrelation</th>\n",
       "      <th>LongStationarity</th>\n",
       "      <th>ShortStationarity</th>\n",
       "    </tr>\n",
       "  </thead>\n",
       "  <tbody>\n",
       "    <tr>\n",
       "      <th>0</th>\n",
       "      <td>5.0</td>\n",
       "      <td>-0.0455</td>\n",
       "      <td>2009-05-01 05:00:00</td>\n",
       "      <td>-1.0</td>\n",
       "      <td>1</td>\n",
       "      <td>1</td>\n",
       "      <td>1</td>\n",
       "      <td>1.123349</td>\n",
       "      <td>0.933389</td>\n",
       "      <td>0.516558</td>\n",
       "      <td>...</td>\n",
       "      <td>-0.038449</td>\n",
       "      <td>-0.066001</td>\n",
       "      <td>0.649528</td>\n",
       "      <td>0.019302</td>\n",
       "      <td>0.148477</td>\n",
       "      <td>0.607646</td>\n",
       "      <td>-0.541893</td>\n",
       "      <td>-1.484444</td>\n",
       "      <td>1.0</td>\n",
       "      <td>1.0</td>\n",
       "    </tr>\n",
       "    <tr>\n",
       "      <th>1</th>\n",
       "      <td>94.0</td>\n",
       "      <td>-0.7015</td>\n",
       "      <td>2009-05-01 06:30:00</td>\n",
       "      <td>-1.0</td>\n",
       "      <td>0</td>\n",
       "      <td>1</td>\n",
       "      <td>1</td>\n",
       "      <td>1.306720</td>\n",
       "      <td>0.856784</td>\n",
       "      <td>0.731667</td>\n",
       "      <td>...</td>\n",
       "      <td>-0.426454</td>\n",
       "      <td>1.192574</td>\n",
       "      <td>1.917475</td>\n",
       "      <td>0.822639</td>\n",
       "      <td>0.936911</td>\n",
       "      <td>0.614150</td>\n",
       "      <td>-0.724218</td>\n",
       "      <td>-0.712851</td>\n",
       "      <td>0.0</td>\n",
       "      <td>1.0</td>\n",
       "    </tr>\n",
       "    <tr>\n",
       "      <th>2</th>\n",
       "      <td>8.0</td>\n",
       "      <td>-0.0925</td>\n",
       "      <td>2009-05-01 19:25:00</td>\n",
       "      <td>1.0</td>\n",
       "      <td>0</td>\n",
       "      <td>1</td>\n",
       "      <td>0</td>\n",
       "      <td>-0.671085</td>\n",
       "      <td>0.347272</td>\n",
       "      <td>0.092248</td>\n",
       "      <td>...</td>\n",
       "      <td>-0.574401</td>\n",
       "      <td>-0.269518</td>\n",
       "      <td>-0.927289</td>\n",
       "      <td>-0.058207</td>\n",
       "      <td>-0.447969</td>\n",
       "      <td>0.533248</td>\n",
       "      <td>2.244885</td>\n",
       "      <td>-0.759869</td>\n",
       "      <td>0.0</td>\n",
       "      <td>1.0</td>\n",
       "    </tr>\n",
       "    <tr>\n",
       "      <th>3</th>\n",
       "      <td>29.0</td>\n",
       "      <td>-0.4420</td>\n",
       "      <td>2009-05-04 14:00:00</td>\n",
       "      <td>-1.0</td>\n",
       "      <td>1</td>\n",
       "      <td>1</td>\n",
       "      <td>1</td>\n",
       "      <td>1.147075</td>\n",
       "      <td>0.999614</td>\n",
       "      <td>0.352696</td>\n",
       "      <td>...</td>\n",
       "      <td>0.041098</td>\n",
       "      <td>1.215356</td>\n",
       "      <td>2.819551</td>\n",
       "      <td>0.537668</td>\n",
       "      <td>0.148477</td>\n",
       "      <td>-0.620983</td>\n",
       "      <td>-0.146293</td>\n",
       "      <td>-1.994449</td>\n",
       "      <td>1.0</td>\n",
       "      <td>1.0</td>\n",
       "    </tr>\n",
       "    <tr>\n",
       "      <th>4</th>\n",
       "      <td>4.0</td>\n",
       "      <td>-0.1095</td>\n",
       "      <td>2009-05-04 15:40:00</td>\n",
       "      <td>1.0</td>\n",
       "      <td>0</td>\n",
       "      <td>0</td>\n",
       "      <td>1</td>\n",
       "      <td>-1.174831</td>\n",
       "      <td>1.251437</td>\n",
       "      <td>0.892683</td>\n",
       "      <td>...</td>\n",
       "      <td>-1.254350</td>\n",
       "      <td>2.031994</td>\n",
       "      <td>0.008870</td>\n",
       "      <td>0.552776</td>\n",
       "      <td>-0.481105</td>\n",
       "      <td>0.650449</td>\n",
       "      <td>-0.464969</td>\n",
       "      <td>0.085302</td>\n",
       "      <td>1.0</td>\n",
       "      <td>1.0</td>\n",
       "    </tr>\n",
       "  </tbody>\n",
       "</table>\n",
       "<p>5 rows × 28 columns</p>\n",
       "</div>"
      ],
      "text/plain": [
       "    TTC  Drawdown             Datetime  Direction  sig20  sig30  sig50  \\\n",
       "0   5.0   -0.0455  2009-05-01 05:00:00       -1.0      1      1      1   \n",
       "1  94.0   -0.7015  2009-05-01 06:30:00       -1.0      0      1      1   \n",
       "2   8.0   -0.0925  2009-05-01 19:25:00        1.0      0      1      0   \n",
       "3  29.0   -0.4420  2009-05-04 14:00:00       -1.0      1      1      1   \n",
       "4   4.0   -0.1095  2009-05-04 15:40:00        1.0      0      0      1   \n",
       "\n",
       "     Change   LongVol  ShortVol        ...          ShortKurtosis  LongProg  \\\n",
       "0  1.123349  0.933389  0.516558        ...              -0.038449 -0.066001   \n",
       "1  1.306720  0.856784  0.731667        ...              -0.426454  1.192574   \n",
       "2 -0.671085  0.347272  0.092248        ...              -0.574401 -0.269518   \n",
       "3  1.147075  0.999614  0.352696        ...               0.041098  1.215356   \n",
       "4 -1.174831  1.251437  0.892683        ...              -1.254350  2.031994   \n",
       "\n",
       "   ShortProg  LongApproximateEntropy  ShortApproximateEntropy  \\\n",
       "0   0.649528                0.019302                 0.148477   \n",
       "1   1.917475                0.822639                 0.936911   \n",
       "2  -0.927289               -0.058207                -0.447969   \n",
       "3   2.819551                0.537668                 0.148477   \n",
       "4   0.008870                0.552776                -0.481105   \n",
       "\n",
       "   LongSpectralEntropy  LongAutocorrelation  ShortAutocorrelation  \\\n",
       "0             0.607646            -0.541893             -1.484444   \n",
       "1             0.614150            -0.724218             -0.712851   \n",
       "2             0.533248             2.244885             -0.759869   \n",
       "3            -0.620983            -0.146293             -1.994449   \n",
       "4             0.650449            -0.464969              0.085302   \n",
       "\n",
       "   LongStationarity  ShortStationarity  \n",
       "0               1.0                1.0  \n",
       "1               0.0                1.0  \n",
       "2               0.0                1.0  \n",
       "3               1.0                1.0  \n",
       "4               1.0                1.0  \n",
       "\n",
       "[5 rows x 28 columns]"
      ]
     },
     "execution_count": 7,
     "metadata": {},
     "output_type": "execute_result"
    }
   ],
   "source": [
    "scaled.head()"
   ]
  },
  {
   "cell_type": "code",
   "execution_count": 8,
   "metadata": {},
   "outputs": [],
   "source": [
    "with open(\"../models/lgbm_2019-04-16\", 'rb') as file:\n",
    "    predictor = joblib.load(file)"
   ]
  },
  {
   "cell_type": "code",
   "execution_count": 9,
   "metadata": {},
   "outputs": [],
   "source": [
    "trades = trades[trades.Datetime.isin(scaled.Datetime.values)]\n",
    "trades['Pred'] = predictor.predict(scaled.iloc[:, 3:].values)\n",
    "trades = trades[trades.Pred == 1]"
   ]
  },
  {
   "cell_type": "markdown",
   "metadata": {},
   "source": [
    "### Calculate Drawdowns"
   ]
  },
  {
   "cell_type": "code",
   "execution_count": 10,
   "metadata": {},
   "outputs": [],
   "source": [
    "#raw.drop(['Volume', 'Ticks', 'VWAP'], axis=1, inplace=True)\n",
    "## First get the index in the raw dataframe\n",
    "idc = raw[raw.Datetime.isin(trades.Datetime.values)].index.values\n",
    "## Then get the runs with the ttc\n",
    "idc = [np.arange(idx, idx+ttc+1).astype(int).tolist() for idx, ttc in zip(idc, trades.TTC.values)]\n",
    "## Get the trade progressions as a dataframe\n",
    "dfs = [raw.iloc[idx, :] for i, idx in enumerate(idc)]\n",
    "## Assign the anchor to each of the DFs\n",
    "[df.insert(1, 'Anchor', df.Open.values[0]) for df in dfs]\n",
    "## Get the candle size of each\n",
    "[df.insert(1, 'CandleSize', abs(df.Open.values[0] - df.Close.values[0])) for df in dfs]\n",
    "## Assign the direction to each of the DFs\n",
    "[df.insert(1, 'Direction', dir_) for df, dir_ in zip(dfs, trades.Direction.values)]\n",
    "## Add a trade number\n",
    "[df.insert(1, 'Trade_ID', i) for i, df in enumerate(dfs)]\n",
    "clear_output()"
   ]
  },
  {
   "cell_type": "code",
   "execution_count": 11,
   "metadata": {},
   "outputs": [],
   "source": [
    "## Get a big df to vectorize\n",
    "main = pd.concat(dfs)\n",
    "main = main.reset_index()\n",
    "main = main.set_index(main['index'].astype(str) + ' ' + main.Trade_ID.astype(str))"
   ]
  },
  {
   "cell_type": "code",
   "execution_count": 12,
   "metadata": {},
   "outputs": [],
   "source": [
    "## Get all last idc\n",
    "idc_last = [str(idx[-1]) + ' ' + str(i) for i, idx in enumerate(idc)]"
   ]
  },
  {
   "cell_type": "code",
   "execution_count": 13,
   "metadata": {},
   "outputs": [],
   "source": [
    "tmp = main.loc[idc_last, :]\n",
    "long = tmp[tmp.Direction == 1]\n",
    "short = tmp[tmp.Direction == -1]"
   ]
  },
  {
   "cell_type": "code",
   "execution_count": 14,
   "metadata": {},
   "outputs": [
    {
     "name": "stderr",
     "output_type": "stream",
     "text": [
      "C:\\Users\\Zach\\Anaconda3\\envs\\tf\\lib\\site-packages\\pandas\\core\\indexing.py:543: SettingWithCopyWarning: \n",
      "A value is trying to be set on a copy of a slice from a DataFrame.\n",
      "Try using .loc[row_indexer,col_indexer] = value instead\n",
      "\n",
      "See the caveats in the documentation: http://pandas.pydata.org/pandas-docs/stable/indexing.html#indexing-view-versus-copy\n",
      "  self.obj[item] = s\n"
     ]
    }
   ],
   "source": [
    "long.loc[(long.Close > long.Anchor) | (long.High > long.Anchor), 'Close'] = long[(long.Close > long.Anchor) | (long.High > long.Anchor)].Anchor"
   ]
  },
  {
   "cell_type": "code",
   "execution_count": 15,
   "metadata": {},
   "outputs": [],
   "source": [
    "short.loc[(short.Close < short.Anchor) | (short.Low < short.Anchor), 'Close'] = short[(short.Close < short.Anchor) | (short.Low < short.Anchor)].Anchor"
   ]
  },
  {
   "cell_type": "code",
   "execution_count": 16,
   "metadata": {},
   "outputs": [],
   "source": [
    "main.loc[short.index, :] = short.values\n",
    "main.loc[long.index, :] = long.values"
   ]
  },
  {
   "cell_type": "code",
   "execution_count": 17,
   "metadata": {},
   "outputs": [],
   "source": [
    "main['RDD'] = abs(main.Close - main.Anchor)\n",
    "main['MDD'] = 1\n",
    "main.loc[main.Direction == -1, 'MDD'] = abs(main[main.Direction == -1].Anchor - main[main.Direction == -1].High)\n",
    "main.loc[main.Direction == 1, 'MDD'] = abs(main[main.Direction == 1].Anchor - main[main.Direction == 1].Low)\n",
    "main.loc[idc_last, 'MDD'] = [0 if min(x) == 0 else max(x) for x in main[main.index.isin(idc_last)][['RDD', 'MDD']].values]"
   ]
  },
  {
   "cell_type": "markdown",
   "metadata": {},
   "source": [
    "### Split back up into equal DFs"
   ]
  },
  {
   "cell_type": "code",
   "execution_count": 18,
   "metadata": {},
   "outputs": [],
   "source": [
    "trade_progs = [main[main.Trade_ID == i] for i in range(main.Trade_ID.nunique())]"
   ]
  },
  {
   "cell_type": "code",
   "execution_count": 32,
   "metadata": {},
   "outputs": [],
   "source": [
    "drawdowns = {\n",
    "    i : [] for i in range(100)\n",
    "}\n",
    "for df in trade_progs:\n",
    "    for i, dd in enumerate(df.RDD[1:]):\n",
    "        drawdowns[i].append(dd / tick_increments['EURJPY'])"
   ]
  },
  {
   "cell_type": "code",
   "execution_count": 33,
   "metadata": {},
   "outputs": [],
   "source": [
    "candles = [df.CandleSize.values[0] / tick_increments['EURJPY'] for df in trade_progs]"
   ]
  }
 ],
 "metadata": {
  "kernelspec": {
   "display_name": "tf",
   "language": "python",
   "name": "tf"
  },
  "language_info": {
   "codemirror_mode": {
    "name": "ipython",
    "version": 3
   },
   "file_extension": ".py",
   "mimetype": "text/x-python",
   "name": "python",
   "nbconvert_exporter": "python",
   "pygments_lexer": "ipython3",
   "version": "3.6.8"
  }
 },
 "nbformat": 4,
 "nbformat_minor": 4
}
